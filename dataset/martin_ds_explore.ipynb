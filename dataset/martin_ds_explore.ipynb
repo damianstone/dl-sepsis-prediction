{
 "cells": [
  {
   "cell_type": "code",
   "execution_count": 5,
   "metadata": {},
   "outputs": [],
   "source": [
    "import pandas as pd\n",
    "\n",
    "# import martin_ds_downsampled.parquet\n",
    "df = pd.read_parquet(\"martin_ds_downsampled.parquet\")\n",
    "\n",
    "\n",
    "# patient id is currently the index, make it a column\n",
    "df.reset_index(inplace=True)\n",
    "\n",
    "# save it as martin_ds_downsampled.parquet\n",
    "df.to_parquet(\"martin_ds_downsampled.parquet\")\n",
    "\n",
    "\n",
    "\n"
   ]
  },
  {
   "cell_type": "code",
   "execution_count": null,
   "metadata": {},
   "outputs": [],
   "source": []
  }
 ],
 "metadata": {
  "kernelspec": {
   "display_name": ".venv",
   "language": "python",
   "name": "python3"
  },
  "language_info": {
   "codemirror_mode": {
    "name": "ipython",
    "version": 3
   },
   "file_extension": ".py",
   "mimetype": "text/x-python",
   "name": "python",
   "nbconvert_exporter": "python",
   "pygments_lexer": "ipython3",
   "version": "3.12.4"
  }
 },
 "nbformat": 4,
 "nbformat_minor": 2
}
