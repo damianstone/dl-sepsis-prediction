{
 "cells": [
  {
   "cell_type": "markdown",
   "metadata": {},
   "source": [
    "## Evaluation simple encoder transformer\n",
    "- trained using a small balanced dataset\n",
    "- tested with original dataset"
   ]
  },
  {
   "cell_type": "code",
   "execution_count": 3,
   "metadata": {},
   "outputs": [
    {
     "name": "stdout",
     "output_type": "stream",
     "text": [
      "2.2.2\n",
      "/Users/damianstone/Documents/Code/machine-learning/dl-sepsis-prediction\n"
     ]
    }
   ],
   "source": [
    "import os\n",
    "import sys\n",
    "import torch\n",
    "import pandas as pd\n",
    "import numpy as np\n",
    "import matplotlib.pyplot as plt\n",
    "\n",
    "from torch import nn\n",
    "\n",
    "print(torch.__version__)\n",
    "\n",
    "notebook_dir = os.getcwd()\n",
    "\n",
    "project_root = os.path.abspath(os.path.join(notebook_dir, \"../..\"))\n",
    "print(project_root)\n",
    "if project_root not in sys.path:\n",
    "    sys.path.append(project_root)\n",
    "\n",
    "EVAL = \"02_simple_transformer\""
   ]
  },
  {
   "cell_type": "markdown",
   "metadata": {},
   "source": [
    "## Load model"
   ]
  },
  {
   "cell_type": "code",
   "execution_count": 4,
   "metadata": {},
   "outputs": [
    {
     "name": "stderr",
     "output_type": "stream",
     "text": [
      "/Users/damianstone/Documents/Code/machine-learning/dl-sepsis-prediction/venv-sepsis/lib/python3.12/site-packages/torch/nn/modules/transformer.py:286: UserWarning: enable_nested_tensor is True, but self.use_nested_tensor is False because encoder_layer.self_attn.batch_first was not True(use batch_first for better inference performance)\n",
      "  warnings.warn(f\"enable_nested_tensor is True, but self.use_nested_tensor is False because {why_not_sparsity_fast_path}\")\n"
     ]
    },
    {
     "data": {
      "text/plain": [
       "<All keys matched successfully>"
      ]
     },
     "execution_count": 4,
     "metadata": {},
     "output_type": "execute_result"
    }
   ],
   "source": [
    "from architectures import TransformerClassifier\n",
    "\n",
    "model = TransformerClassifier(input_dim=38, num_heads=2)\n",
    "model.load_state_dict(torch.load(\"./saved/02_simple_transformer.pth\"))"
   ]
  },
  {
   "cell_type": "markdown",
   "metadata": {},
   "source": [
    "## Testing data"
   ]
  },
  {
   "cell_type": "code",
   "execution_count": null,
   "metadata": {},
   "outputs": [],
   "source": [
    "from utils import get_data\n",
    "from sklearn.model_selection import train_test_split\n",
    "\n",
    "DATA_PATH = get_data.get_dataset_abspath()\n",
    "load_path = os.path.join(DATA_PATH, \"imputed_sofa.parquet\")\n",
    "imputed_df = pd.read_parquet(load_path)\n",
    "\n",
    "X_tensor = torch.tensor(imputed_df.drop(columns=['SepsisLabel']).values, dtype=torch.float32)\n",
    "y_tensor = torch.tensor(imputed_df['SepsisLabel'].values, dtype=torch.long)\n"
   ]
  },
  {
   "cell_type": "markdown",
   "metadata": {},
   "source": [
    "## Testing loop"
   ]
  },
  {
   "cell_type": "code",
   "execution_count": null,
   "metadata": {},
   "outputs": [
    {
     "name": "stderr",
     "output_type": "stream",
     "text": [
      "Testing:   0%|          | 0/3002 [00:00<?, ?it/s]"
     ]
    },
    {
     "name": "stderr",
     "output_type": "stream",
     "text": [
      "                                                                                   "
     ]
    },
    {
     "name": "stdout",
     "output_type": "stream",
     "text": [
      "Test Loss: 0.60385 | Test Accuracy: 0.73%\n"
     ]
    },
    {
     "name": "stderr",
     "output_type": "stream",
     "text": [
      "\r"
     ]
    }
   ],
   "source": [
    "import pandas as pd\n",
    "from torch.utils.data import DataLoader, TensorDataset\n",
    "from tqdm import tqdm\n",
    "from torchmetrics import Accuracy\n",
    "\n",
    "batch_size = 512 \n",
    "test_dataset = TensorDataset(X_tensor, y_tensor)\n",
    "test_loader = DataLoader(test_dataset, batch_size=batch_size, shuffle=False)\n",
    "\n",
    "model.eval()\n",
    "test_loss, test_acc = 0, 0\n",
    "loss_fn = nn.BCEWithLogitsLoss()\n",
    "t_accuracy = Accuracy(task='binary')\n",
    "all_y_logits, all_y_probs, all_y_pred, all_y_test = [], [], [], []\n",
    "\n",
    "with torch.inference_mode():\n",
    "    progress_bar = tqdm(test_loader, desc=\"Testing\", leave=False)\n",
    "    for X_batch, y_batch in progress_bar:\n",
    "        y_logits = model(X_batch)\n",
    "        y_probs = torch.sigmoid(y_logits)\n",
    "        y_pred = torch.round(y_probs)\n",
    "        \n",
    "        loss = loss_fn(y_logits, y_batch.unsqueeze(1).float())\n",
    "        acc = t_accuracy(y_pred, y_batch.unsqueeze(1).float())\n",
    "        \n",
    "        test_loss += loss.item()\n",
    "        test_acc += acc.item()\n",
    "        \n",
    "        progress_bar.set_postfix({\"Loss\": loss.item(), \"Acc\": acc.item()})\n",
    "        \n",
    "        all_y_logits.append(y_logits.cpu())\n",
    "        all_y_probs.append(y_probs.cpu())\n",
    "        all_y_pred.append(y_pred.cpu())\n",
    "        all_y_test.append(y_batch.cpu())\n",
    "\n",
    "test_loss /= len(test_loader)\n",
    "test_acc /= len(test_loader)\n",
    "\n",
    "print(f\"Test Loss: {test_loss:.5f} | Test Accuracy: {test_acc:.2f}%\")"
   ]
  },
  {
   "cell_type": "code",
   "execution_count": null,
   "metadata": {},
   "outputs": [
    {
     "ename": "TypeError",
     "evalue": "cat(): argument 'tensors' (position 1) must be tuple of Tensors, not numpy.ndarray",
     "output_type": "error",
     "traceback": [
      "\u001b[31m---------------------------------------------------------------------------\u001b[39m",
      "\u001b[31mTypeError\u001b[39m                                 Traceback (most recent call last)",
      "\u001b[36mCell\u001b[39m\u001b[36m \u001b[39m\u001b[32mIn[14]\u001b[39m\u001b[32m, line 5\u001b[39m\n\u001b[32m      2\u001b[39m \u001b[38;5;28;01mimport\u001b[39;00m\u001b[38;5;250m \u001b[39m\u001b[34;01mnumpy\u001b[39;00m\u001b[38;5;250m \u001b[39m\u001b[38;5;28;01mas\u001b[39;00m\u001b[38;5;250m \u001b[39m\u001b[34;01mnp\u001b[39;00m\n\u001b[32m      3\u001b[39m \u001b[38;5;28;01mfrom\u001b[39;00m\u001b[38;5;250m \u001b[39m\u001b[34;01mt_utils\u001b[39;00m\u001b[38;5;250m \u001b[39m\u001b[38;5;28;01mimport\u001b[39;00m save_eval_csv\n\u001b[32m----> \u001b[39m\u001b[32m5\u001b[39m all_y_logits = \u001b[43mtorch\u001b[49m\u001b[43m.\u001b[49m\u001b[43mcat\u001b[49m\u001b[43m(\u001b[49m\u001b[43mall_y_logits\u001b[49m\u001b[43m)\u001b[49m.numpy().flatten()\n\u001b[32m      6\u001b[39m all_y_probs = torch.cat(all_y_probs).numpy().flatten()\n\u001b[32m      7\u001b[39m all_y_pred = torch.cat(all_y_pred).numpy().flatten()\n",
      "\u001b[31mTypeError\u001b[39m: cat(): argument 'tensors' (position 1) must be tuple of Tensors, not numpy.ndarray"
     ]
    }
   ],
   "source": [
    "import pandas as pd\n",
    "import numpy as np\n",
    "from t_utils import save_eval_csv\n",
    "\n",
    "all_y_logits = torch.cat(all_y_logits).numpy().flatten()\n",
    "all_y_probs = torch.cat(all_y_probs).numpy().flatten()\n",
    "all_y_pred = torch.cat(all_y_pred).numpy().flatten()\n",
    "all_y_test = torch.cat(all_y_test).numpy().astype(int) \n",
    "\n",
    "df = pd.DataFrame({\n",
    "    'y_logits': all_y_logits,\n",
    "    'y_probs': all_y_probs,\n",
    "    'y_pred': all_y_pred,\n",
    "    'y_test': all_y_test\n",
    "})\n"
   ]
  },
  {
   "cell_type": "code",
   "execution_count": 15,
   "metadata": {},
   "outputs": [],
   "source": [
    "save_eval_csv(df, EVAL)"
   ]
  },
  {
   "cell_type": "code",
   "execution_count": 13,
   "metadata": {},
   "outputs": [
    {
     "name": "stdout",
     "output_type": "stream",
     "text": [
      "Total Accuracy: 72.98%\n"
     ]
    }
   ],
   "source": [
    "accuracy = (df['y_pred'] == df['y_test']).mean() * 100\n",
    "print(f\"Total Accuracy: {accuracy:.2f}%\")"
   ]
  },
  {
   "cell_type": "code",
   "execution_count": 16,
   "metadata": {},
   "outputs": [],
   "source": [
    "from t_utils import save_plots, FEATURE_NAMES\n",
    "\n",
    "y_test = df['y_test'].values\n",
    "y_probs = df['y_probs'].values\n",
    "y_pred = df['y_pred'].values\n",
    "\n",
    "save_plots(\n",
    "    y_test=y_test,\n",
    "    y_probs=y_probs,\n",
    "    y_pred=y_pred,\n",
    "    model=model, \n",
    "    feature_names=FEATURE_NAMES,\n",
    "    eval=EVAL,\n",
    "    attention_weights=[]\n",
    ")"
   ]
  }
 ],
 "metadata": {
  "kernelspec": {
   "display_name": "venv-sepsis",
   "language": "python",
   "name": "python3"
  },
  "language_info": {
   "codemirror_mode": {
    "name": "ipython",
    "version": 3
   },
   "file_extension": ".py",
   "mimetype": "text/x-python",
   "name": "python",
   "nbconvert_exporter": "python",
   "pygments_lexer": "ipython3",
   "version": "3.12.0"
  }
 },
 "nbformat": 4,
 "nbformat_minor": 2
}
