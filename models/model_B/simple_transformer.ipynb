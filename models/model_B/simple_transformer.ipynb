{
 "cells": [
  {
   "cell_type": "markdown",
   "metadata": {},
   "source": [
    "# Training of a simple encoder transformer\n",
    "- trained with a small balanced dataset "
   ]
  },
  {
   "cell_type": "code",
   "execution_count": null,
   "metadata": {},
   "outputs": [
    {
     "name": "stdout",
     "output_type": "stream",
     "text": [
      "2.2.2\n",
      "/Users/damianstone/Documents/Code/machine-learning/dl-sepsis-prediction\n"
     ]
    }
   ],
   "source": [
    "import os\n",
    "import sys\n",
    "import torch\n",
    "import pandas as pd\n",
    "import numpy as np\n",
    "import matplotlib.pyplot as plt\n",
    "\n",
    "from torch import nn\n",
    "\n",
    "print(torch.__version__)\n",
    "\n",
    "notebook_dir = os.getcwd()\n",
    "\n",
    "project_root = os.path.abspath(os.path.join(notebook_dir, \"../..\"))\n",
    "print(project_root)\n",
    "if project_root not in sys.path:\n",
    "    sys.path.append(project_root)\n",
    "    \n",
    "MODEL_V = \"04_simple_transformer\"\n",
    "\n",
    "device = torch.device(\"mps\" if torch.backends.mps.is_available() else \"cpu\")\n",
    "device"
   ]
  },
  {
   "cell_type": "markdown",
   "metadata": {},
   "source": [
    "## Splitting the data"
   ]
  },
  {
   "cell_type": "code",
   "execution_count": 13,
   "metadata": {},
   "outputs": [],
   "source": [
    "from Dataset import Dataset\n",
    "\n",
    "data_loader = Dataset(\n",
    "    data_path=\"Fully_imputed_dataset.parquet\",\n",
    "    save_path=\"dataset_tensors.pth\",\n",
    "    method=\"oversample\",\n",
    "    balance=True,\n",
    "    minority_ratio=0.3,\n",
    "    target_column=\"SepsisLabel\"\n",
    ")"
   ]
  },
  {
   "cell_type": "code",
   "execution_count": 14,
   "metadata": {},
   "outputs": [
    {
     "name": "stdout",
     "output_type": "stream",
     "text": [
      "Patient-level balance statistics:\n",
      "Total patients: 53434\n",
      "Label 0: 37404 patients (70.00%)\n",
      "Label 1: 16030 patients (30.00%)\n",
      "Imbalance ratio (majority/minority): 2.33\n",
      "Negative-to-positive ratio (per patient): 2.33337492202121\n",
      "Total records in reduced training set: 184542\n"
     ]
    }
   ],
   "source": [
    "# as tensors\n",
    "X_train, X_test, y_train, y_test = data_loader.get_train_test_tensors(size='small', sample_fraction=0.1)\n",
    "X_train, X_test, y_train, y_test = X_train.to(device), X_test.to(device), y_train.to(device), y_test.to(device)"
   ]
  },
  {
   "cell_type": "markdown",
   "metadata": {},
   "source": [
    "## Transformer architecture"
   ]
  },
  {
   "cell_type": "code",
   "execution_count": 15,
   "metadata": {},
   "outputs": [],
   "source": [
    "from architectures import TransformerClassifier\n",
    "\n",
    "\n",
    "in_dim = X_train.shape[1]\n",
    "model = TransformerClassifier(input_dim=in_dim)"
   ]
  },
  {
   "cell_type": "code",
   "execution_count": 16,
   "metadata": {},
   "outputs": [],
   "source": [
    "from torch.utils.data import DataLoader, TensorDataset\n",
    "\n",
    "\n",
    "train_dataset = TensorDataset(X_train, y_train)\n",
    "test_dataset = TensorDataset(X_test, y_test)\n",
    "\n",
    "batch_size = 512 \n",
    "train_loader = DataLoader(train_dataset, batch_size=batch_size, shuffle=True)\n",
    "test_loader = DataLoader(test_dataset, batch_size=batch_size, shuffle=False)\n"
   ]
  },
  {
   "cell_type": "markdown",
   "metadata": {},
   "source": [
    "### Training loop"
   ]
  },
  {
   "cell_type": "code",
   "execution_count": 26,
   "metadata": {},
   "outputs": [
    {
     "name": "stderr",
     "output_type": "stream",
     "text": [
      "Epoch 1/100:   0%|          | 0/361 [00:00<?, ?it/s]"
     ]
    },
    {
     "name": "stderr",
     "output_type": "stream",
     "text": [
      "Epoch 1/100:   0%|          | 0/361 [00:33<?, ?it/s, Loss=0.354, Acc=0.91, Prec=0.25, Rec=0.333]    "
     ]
    },
    {
     "name": "stdout",
     "output_type": "stream",
     "text": [
      "Epoch 1/100 | Loss: 0.43422 | Accuracy: 0.92% | Precision: 0.07% | Recall: 0.04%\n"
     ]
    },
    {
     "name": "stderr",
     "output_type": "stream",
     "text": [
      "                                                                                                "
     ]
    },
    {
     "name": "stdout",
     "output_type": "stream",
     "text": [
      "Epoch 2/100 | Loss: 0.42555 | Accuracy: 0.91% | Precision: 0.15% | Recall: 0.07%\n"
     ]
    },
    {
     "name": "stderr",
     "output_type": "stream",
     "text": [
      "Epoch 3/100:   0%|          | 0/361 [00:30<?, ?it/s, Loss=0.325, Acc=0.941, Prec=0, Rec=0]          "
     ]
    },
    {
     "name": "stdout",
     "output_type": "stream",
     "text": [
      "Epoch 3/100 | Loss: 0.42135 | Accuracy: 0.91% | Precision: 0.19% | Recall: 0.10%\n"
     ]
    },
    {
     "name": "stderr",
     "output_type": "stream",
     "text": [
      "                                                                                          "
     ]
    },
    {
     "name": "stdout",
     "output_type": "stream",
     "text": [
      "Epoch 4/100 | Loss: 0.41723 | Accuracy: 0.90% | Precision: 0.19% | Recall: 0.12%\n"
     ]
    },
    {
     "name": "stderr",
     "output_type": "stream",
     "text": [
      "Epoch 5/100:   0%|          | 0/361 [00:32<?, ?it/s, Loss=0.361, Acc=0.932, Prec=0.2, Rec=0.0833]   "
     ]
    },
    {
     "name": "stdout",
     "output_type": "stream",
     "text": [
      "Epoch 5/100 | Loss: 0.41411 | Accuracy: 0.90% | Precision: 0.20% | Recall: 0.15%\n"
     ]
    },
    {
     "name": "stderr",
     "output_type": "stream",
     "text": [
      "                                                                                                 "
     ]
    },
    {
     "name": "stdout",
     "output_type": "stream",
     "text": [
      "Epoch 6/100 | Loss: 0.41195 | Accuracy: 0.90% | Precision: 0.21% | Recall: 0.15%\n"
     ]
    },
    {
     "name": "stderr",
     "output_type": "stream",
     "text": [
      "Epoch 7/100:   0%|          | 0/361 [00:33<?, ?it/s, Loss=0.35, Acc=0.914, Prec=0.2, Rec=0.154]     "
     ]
    },
    {
     "name": "stdout",
     "output_type": "stream",
     "text": [
      "Epoch 7/100 | Loss: 0.41049 | Accuracy: 0.90% | Precision: 0.21% | Recall: 0.16%\n"
     ]
    },
    {
     "name": "stderr",
     "output_type": "stream",
     "text": [
      "                                                                                               "
     ]
    },
    {
     "name": "stdout",
     "output_type": "stream",
     "text": [
      "Epoch 8/100 | Loss: 0.40595 | Accuracy: 0.90% | Precision: 0.21% | Recall: 0.19%\n"
     ]
    },
    {
     "name": "stderr",
     "output_type": "stream",
     "text": [
      "Epoch 9/100:   0%|          | 0/361 [00:31<?, ?it/s, Loss=0.447, Acc=0.86, Prec=0.136, Rec=0.2]     "
     ]
    },
    {
     "name": "stdout",
     "output_type": "stream",
     "text": [
      "Epoch 9/100 | Loss: 0.40098 | Accuracy: 0.90% | Precision: 0.22% | Recall: 0.21%\n"
     ]
    },
    {
     "name": "stderr",
     "output_type": "stream",
     "text": [
      "                                                                                               "
     ]
    },
    {
     "name": "stdout",
     "output_type": "stream",
     "text": [
      "Epoch 10/100 | Loss: 0.39650 | Accuracy: 0.89% | Precision: 0.23% | Recall: 0.25%\n"
     ]
    },
    {
     "name": "stderr",
     "output_type": "stream",
     "text": [
      "Epoch 11/100:   0%|          | 0/361 [00:31<?, ?it/s, Loss=0.383, Acc=0.892, Prec=0.154, Rec=0.133]  "
     ]
    },
    {
     "name": "stdout",
     "output_type": "stream",
     "text": [
      "Epoch 11/100 | Loss: 0.39068 | Accuracy: 0.90% | Precision: 0.25% | Recall: 0.26%\n"
     ]
    },
    {
     "name": "stderr",
     "output_type": "stream",
     "text": [
      "                                                                                                   "
     ]
    },
    {
     "name": "stdout",
     "output_type": "stream",
     "text": [
      "Epoch 12/100 | Loss: 0.38413 | Accuracy: 0.90% | Precision: 0.26% | Recall: 0.30%\n"
     ]
    },
    {
     "name": "stderr",
     "output_type": "stream",
     "text": [
      "Epoch 13/100:   0%|          | 0/361 [00:26<?, ?it/s, Loss=0.363, Acc=0.901, Prec=0.3, Rec=0.429]   "
     ]
    },
    {
     "name": "stdout",
     "output_type": "stream",
     "text": [
      "Epoch 13/100 | Loss: 0.37661 | Accuracy: 0.90% | Precision: 0.27% | Recall: 0.32%\n"
     ]
    },
    {
     "name": "stderr",
     "output_type": "stream",
     "text": [
      "                                                                                                 "
     ]
    },
    {
     "name": "stdout",
     "output_type": "stream",
     "text": [
      "Epoch 14/100 | Loss: 0.36965 | Accuracy: 0.90% | Precision: 0.28% | Recall: 0.34%\n"
     ]
    },
    {
     "name": "stderr",
     "output_type": "stream",
     "text": [
      "Epoch 15/100:   0%|          | 0/361 [00:26<?, ?it/s, Loss=0.457, Acc=0.887, Prec=0.429, Rec=0.409] "
     ]
    },
    {
     "name": "stdout",
     "output_type": "stream",
     "text": [
      "Epoch 15/100 | Loss: 0.36174 | Accuracy: 0.89% | Precision: 0.28% | Recall: 0.37%\n"
     ]
    },
    {
     "name": "stderr",
     "output_type": "stream",
     "text": [
      "                                                                                                   "
     ]
    },
    {
     "name": "stdout",
     "output_type": "stream",
     "text": [
      "Epoch 16/100 | Loss: 0.35361 | Accuracy: 0.90% | Precision: 0.30% | Recall: 0.39%\n"
     ]
    },
    {
     "name": "stderr",
     "output_type": "stream",
     "text": [
      "Epoch 17/100:   0%|          | 0/361 [00:29<?, ?it/s, Loss=0.343, Acc=0.932, Prec=0.667, Rec=0.571]"
     ]
    },
    {
     "name": "stdout",
     "output_type": "stream",
     "text": [
      "Epoch 17/100 | Loss: 0.34441 | Accuracy: 0.90% | Precision: 0.31% | Recall: 0.42%\n"
     ]
    },
    {
     "name": "stderr",
     "output_type": "stream",
     "text": [
      "                                                                                                   "
     ]
    },
    {
     "name": "stdout",
     "output_type": "stream",
     "text": [
      "Epoch 18/100 | Loss: 0.33654 | Accuracy: 0.90% | Precision: 0.31% | Recall: 0.44%\n"
     ]
    },
    {
     "name": "stderr",
     "output_type": "stream",
     "text": [
      "Epoch 19/100:   0%|          | 0/361 [00:29<?, ?it/s, Loss=0.308, Acc=0.892, Prec=0.32, Rec=0.533] "
     ]
    },
    {
     "name": "stdout",
     "output_type": "stream",
     "text": [
      "Epoch 19/100 | Loss: 0.32820 | Accuracy: 0.90% | Precision: 0.32% | Recall: 0.47%\n"
     ]
    },
    {
     "name": "stderr",
     "output_type": "stream",
     "text": [
      "                                                                                                  "
     ]
    },
    {
     "name": "stdout",
     "output_type": "stream",
     "text": [
      "Epoch 20/100 | Loss: 0.32044 | Accuracy: 0.90% | Precision: 0.33% | Recall: 0.49%\n"
     ]
    },
    {
     "name": "stderr",
     "output_type": "stream",
     "text": [
      "Epoch 21/100:   0%|          | 0/361 [00:30<?, ?it/s, Loss=0.217, Acc=0.905, Prec=0.238, Rec=0.5]  "
     ]
    },
    {
     "name": "stdout",
     "output_type": "stream",
     "text": [
      "Epoch 21/100 | Loss: 0.31282 | Accuracy: 0.90% | Precision: 0.34% | Recall: 0.51%\n"
     ]
    },
    {
     "name": "stderr",
     "output_type": "stream",
     "text": [
      "                                                                                                 "
     ]
    },
    {
     "name": "stdout",
     "output_type": "stream",
     "text": [
      "Epoch 22/100 | Loss: 0.30382 | Accuracy: 0.90% | Precision: 0.34% | Recall: 0.54%\n"
     ]
    },
    {
     "name": "stderr",
     "output_type": "stream",
     "text": [
      "Epoch 23/100:   0%|          | 0/361 [00:34<?, ?it/s, Loss=0.263, Acc=0.928, Prec=0.455, Rec=0.714]"
     ]
    },
    {
     "name": "stdout",
     "output_type": "stream",
     "text": [
      "Epoch 23/100 | Loss: 0.29669 | Accuracy: 0.90% | Precision: 0.35% | Recall: 0.56%\n"
     ]
    },
    {
     "name": "stderr",
     "output_type": "stream",
     "text": [
      "                                                                                                   "
     ]
    },
    {
     "name": "stdout",
     "output_type": "stream",
     "text": [
      "Epoch 24/100 | Loss: 0.28907 | Accuracy: 0.90% | Precision: 0.36% | Recall: 0.57%\n"
     ]
    },
    {
     "name": "stderr",
     "output_type": "stream",
     "text": [
      "Epoch 25/100:   0%|          | 0/361 [00:30<?, ?it/s, Loss=0.257, Acc=0.883, Prec=0.214, Rec=0.6]  "
     ]
    },
    {
     "name": "stdout",
     "output_type": "stream",
     "text": [
      "Epoch 25/100 | Loss: 0.28355 | Accuracy: 0.90% | Precision: 0.36% | Recall: 0.59%\n"
     ]
    },
    {
     "name": "stderr",
     "output_type": "stream",
     "text": [
      "                                                                                                 "
     ]
    },
    {
     "name": "stdout",
     "output_type": "stream",
     "text": [
      "Epoch 26/100 | Loss: 0.27524 | Accuracy: 0.91% | Precision: 0.38% | Recall: 0.62%\n"
     ]
    },
    {
     "name": "stderr",
     "output_type": "stream",
     "text": [
      "Epoch 27/100:   0%|          | 0/361 [00:30<?, ?it/s, Loss=0.245, Acc=0.914, Prec=0.36, Rec=0.75]  "
     ]
    },
    {
     "name": "stdout",
     "output_type": "stream",
     "text": [
      "Epoch 27/100 | Loss: 0.26652 | Accuracy: 0.91% | Precision: 0.38% | Recall: 0.63%\n"
     ]
    },
    {
     "name": "stderr",
     "output_type": "stream",
     "text": [
      "                                                                                                 "
     ]
    },
    {
     "name": "stdout",
     "output_type": "stream",
     "text": [
      "Epoch 28/100 | Loss: 0.26039 | Accuracy: 0.91% | Precision: 0.39% | Recall: 0.65%\n"
     ]
    },
    {
     "name": "stderr",
     "output_type": "stream",
     "text": [
      "Epoch 29/100:   0%|          | 0/361 [00:33<?, ?it/s, Loss=0.255, Acc=0.878, Prec=0.333, Rec=0.8]  "
     ]
    },
    {
     "name": "stdout",
     "output_type": "stream",
     "text": [
      "Epoch 29/100 | Loss: 0.25336 | Accuracy: 0.91% | Precision: 0.40% | Recall: 0.67%\n"
     ]
    },
    {
     "name": "stderr",
     "output_type": "stream",
     "text": [
      "                                                                                                 "
     ]
    },
    {
     "name": "stdout",
     "output_type": "stream",
     "text": [
      "Epoch 30/100 | Loss: 0.24725 | Accuracy: 0.91% | Precision: 0.40% | Recall: 0.68%\n"
     ]
    },
    {
     "name": "stderr",
     "output_type": "stream",
     "text": [
      "Epoch 31/100:   0%|          | 0/361 [00:30<?, ?it/s, Loss=0.186, Acc=0.928, Prec=0.35, Rec=0.7]   "
     ]
    },
    {
     "name": "stdout",
     "output_type": "stream",
     "text": [
      "Epoch 31/100 | Loss: 0.24195 | Accuracy: 0.91% | Precision: 0.41% | Recall: 0.69%\n"
     ]
    },
    {
     "name": "stderr",
     "output_type": "stream",
     "text": [
      "                                                                                                "
     ]
    },
    {
     "name": "stdout",
     "output_type": "stream",
     "text": [
      "Epoch 32/100 | Loss: 0.23481 | Accuracy: 0.91% | Precision: 0.42% | Recall: 0.71%\n"
     ]
    },
    {
     "name": "stderr",
     "output_type": "stream",
     "text": [
      "Epoch 33/100:   0%|          | 0/361 [00:30<?, ?it/s, Loss=0.269, Acc=0.905, Prec=0.318, Rec=0.538]"
     ]
    },
    {
     "name": "stdout",
     "output_type": "stream",
     "text": [
      "Epoch 33/100 | Loss: 0.23015 | Accuracy: 0.92% | Precision: 0.42% | Recall: 0.72%\n"
     ]
    },
    {
     "name": "stderr",
     "output_type": "stream",
     "text": [
      "                                                                                                   "
     ]
    },
    {
     "name": "stdout",
     "output_type": "stream",
     "text": [
      "Epoch 34/100 | Loss: 0.22409 | Accuracy: 0.92% | Precision: 0.43% | Recall: 0.73%\n"
     ]
    },
    {
     "name": "stderr",
     "output_type": "stream",
     "text": [
      "Epoch 35/100:   0%|          | 0/361 [00:30<?, ?it/s, Loss=0.149, Acc=0.955, Prec=0.632, Rec=0.8]  "
     ]
    },
    {
     "name": "stdout",
     "output_type": "stream",
     "text": [
      "Epoch 35/100 | Loss: 0.21926 | Accuracy: 0.92% | Precision: 0.44% | Recall: 0.74%\n"
     ]
    },
    {
     "name": "stderr",
     "output_type": "stream",
     "text": [
      "                                                                                                 "
     ]
    },
    {
     "name": "stdout",
     "output_type": "stream",
     "text": [
      "Epoch 36/100 | Loss: 0.21501 | Accuracy: 0.92% | Precision: 0.44% | Recall: 0.75%\n"
     ]
    },
    {
     "name": "stderr",
     "output_type": "stream",
     "text": [
      "Epoch 37/100:   0%|          | 0/361 [00:31<?, ?it/s, Loss=0.322, Acc=0.896, Prec=0.5, Rec=0.696]  "
     ]
    },
    {
     "name": "stdout",
     "output_type": "stream",
     "text": [
      "Epoch 37/100 | Loss: 0.20988 | Accuracy: 0.92% | Precision: 0.45% | Recall: 0.76%\n"
     ]
    },
    {
     "name": "stderr",
     "output_type": "stream",
     "text": [
      "                                                                                                 "
     ]
    },
    {
     "name": "stdout",
     "output_type": "stream",
     "text": [
      "Epoch 38/100 | Loss: 0.20573 | Accuracy: 0.92% | Precision: 0.45% | Recall: 0.76%\n"
     ]
    },
    {
     "name": "stderr",
     "output_type": "stream",
     "text": [
      "Epoch 39/100:   0%|          | 0/361 [00:35<?, ?it/s, Loss=0.199, Acc=0.905, Prec=0.4, Rec=0.8]    "
     ]
    },
    {
     "name": "stdout",
     "output_type": "stream",
     "text": [
      "Epoch 39/100 | Loss: 0.20205 | Accuracy: 0.92% | Precision: 0.46% | Recall: 0.77%\n"
     ]
    },
    {
     "name": "stderr",
     "output_type": "stream",
     "text": [
      "                                                                                               "
     ]
    },
    {
     "name": "stdout",
     "output_type": "stream",
     "text": [
      "Epoch 40/100 | Loss: 0.19884 | Accuracy: 0.93% | Precision: 0.47% | Recall: 0.78%\n"
     ]
    },
    {
     "name": "stderr",
     "output_type": "stream",
     "text": [
      "Epoch 41/100:   0%|          | 0/361 [00:30<?, ?it/s, Loss=0.165, Acc=0.887, Prec=0.281, Rec=0.818]"
     ]
    },
    {
     "name": "stdout",
     "output_type": "stream",
     "text": [
      "Epoch 41/100 | Loss: 0.19366 | Accuracy: 0.93% | Precision: 0.47% | Recall: 0.78%\n"
     ]
    },
    {
     "name": "stderr",
     "output_type": "stream",
     "text": [
      "                                                                                                   "
     ]
    },
    {
     "name": "stdout",
     "output_type": "stream",
     "text": [
      "Epoch 42/100 | Loss: 0.19089 | Accuracy: 0.93% | Precision: 0.48% | Recall: 0.79%\n"
     ]
    },
    {
     "name": "stderr",
     "output_type": "stream",
     "text": [
      "Epoch 43/100:   0%|          | 0/361 [00:30<?, ?it/s, Loss=0.337, Acc=0.919, Prec=0.5, Rec=0.778]  "
     ]
    },
    {
     "name": "stdout",
     "output_type": "stream",
     "text": [
      "Epoch 43/100 | Loss: 0.18760 | Accuracy: 0.93% | Precision: 0.48% | Recall: 0.79%\n"
     ]
    },
    {
     "name": "stderr",
     "output_type": "stream",
     "text": [
      "                                                                                                 "
     ]
    },
    {
     "name": "stdout",
     "output_type": "stream",
     "text": [
      "Epoch 44/100 | Loss: 0.18356 | Accuracy: 0.93% | Precision: 0.49% | Recall: 0.80%\n"
     ]
    },
    {
     "name": "stderr",
     "output_type": "stream",
     "text": [
      "Epoch 45/100:   0%|          | 0/361 [00:33<?, ?it/s, Loss=0.216, Acc=0.941, Prec=0.696, Rec=0.727]"
     ]
    },
    {
     "name": "stdout",
     "output_type": "stream",
     "text": [
      "Epoch 45/100 | Loss: 0.17981 | Accuracy: 0.93% | Precision: 0.49% | Recall: 0.81%\n"
     ]
    },
    {
     "name": "stderr",
     "output_type": "stream",
     "text": [
      "                                                                                                   "
     ]
    },
    {
     "name": "stdout",
     "output_type": "stream",
     "text": [
      "Epoch 46/100 | Loss: 0.17794 | Accuracy: 0.93% | Precision: 0.50% | Recall: 0.81%\n"
     ]
    },
    {
     "name": "stderr",
     "output_type": "stream",
     "text": [
      "Epoch 47/100:   0%|          | 0/361 [00:30<?, ?it/s, Loss=0.0959, Acc=0.937, Prec=0.458, Rec=0.917]"
     ]
    },
    {
     "name": "stdout",
     "output_type": "stream",
     "text": [
      "Epoch 47/100 | Loss: 0.17120 | Accuracy: 0.93% | Precision: 0.51% | Recall: 0.82%\n"
     ]
    },
    {
     "name": "stderr",
     "output_type": "stream",
     "text": [
      "                                                                                                    "
     ]
    },
    {
     "name": "stdout",
     "output_type": "stream",
     "text": [
      "Epoch 48/100 | Loss: 0.17161 | Accuracy: 0.93% | Precision: 0.51% | Recall: 0.82%\n"
     ]
    },
    {
     "name": "stderr",
     "output_type": "stream",
     "text": [
      "Epoch 49/100:   0%|          | 0/361 [00:31<?, ?it/s, Loss=0.147, Acc=0.941, Prec=0.474, Rec=0.75] "
     ]
    },
    {
     "name": "stdout",
     "output_type": "stream",
     "text": [
      "Epoch 49/100 | Loss: 0.16532 | Accuracy: 0.94% | Precision: 0.52% | Recall: 0.83%\n"
     ]
    },
    {
     "name": "stderr",
     "output_type": "stream",
     "text": [
      "                                                                                                  "
     ]
    },
    {
     "name": "stdout",
     "output_type": "stream",
     "text": [
      "Epoch 50/100 | Loss: 0.16377 | Accuracy: 0.94% | Precision: 0.52% | Recall: 0.83%\n"
     ]
    },
    {
     "name": "stderr",
     "output_type": "stream",
     "text": [
      "Epoch 51/100:   0%|          | 0/361 [00:30<?, ?it/s, Loss=0.178, Acc=0.928, Prec=0.44, Rec=0.846]  "
     ]
    },
    {
     "name": "stdout",
     "output_type": "stream",
     "text": [
      "Epoch 51/100 | Loss: 0.16287 | Accuracy: 0.94% | Precision: 0.52% | Recall: 0.83%\n"
     ]
    },
    {
     "name": "stderr",
     "output_type": "stream",
     "text": [
      "                                                                                                  "
     ]
    },
    {
     "name": "stdout",
     "output_type": "stream",
     "text": [
      "Epoch 52/100 | Loss: 0.15792 | Accuracy: 0.94% | Precision: 0.53% | Recall: 0.84%\n"
     ]
    },
    {
     "name": "stderr",
     "output_type": "stream",
     "text": [
      "Epoch 53/100:   0%|          | 0/361 [00:32<?, ?it/s, Loss=0.197, Acc=0.928, Prec=0.421, Rec=0.615] "
     ]
    },
    {
     "name": "stdout",
     "output_type": "stream",
     "text": [
      "Epoch 53/100 | Loss: 0.15862 | Accuracy: 0.94% | Precision: 0.53% | Recall: 0.84%\n"
     ]
    },
    {
     "name": "stderr",
     "output_type": "stream",
     "text": [
      "                                                                                                   "
     ]
    },
    {
     "name": "stdout",
     "output_type": "stream",
     "text": [
      "Epoch 54/100 | Loss: 0.15407 | Accuracy: 0.94% | Precision: 0.54% | Recall: 0.85%\n"
     ]
    },
    {
     "name": "stderr",
     "output_type": "stream",
     "text": [
      "Epoch 55/100:   0%|          | 0/361 [00:34<?, ?it/s, Loss=0.13, Acc=0.937, Prec=0.5, Rec=0.786]    "
     ]
    },
    {
     "name": "stdout",
     "output_type": "stream",
     "text": [
      "Epoch 55/100 | Loss: 0.15207 | Accuracy: 0.94% | Precision: 0.53% | Recall: 0.85%\n"
     ]
    },
    {
     "name": "stderr",
     "output_type": "stream",
     "text": [
      "                                                                                                "
     ]
    },
    {
     "name": "stdout",
     "output_type": "stream",
     "text": [
      "Epoch 56/100 | Loss: 0.15012 | Accuracy: 0.94% | Precision: 0.55% | Recall: 0.86%\n"
     ]
    },
    {
     "name": "stderr",
     "output_type": "stream",
     "text": [
      "Epoch 57/100:   0%|          | 0/361 [00:30<?, ?it/s, Loss=0.187, Acc=0.928, Prec=0.45, Rec=0.643]  "
     ]
    },
    {
     "name": "stdout",
     "output_type": "stream",
     "text": [
      "Epoch 57/100 | Loss: 0.14762 | Accuracy: 0.94% | Precision: 0.54% | Recall: 0.86%\n"
     ]
    },
    {
     "name": "stderr",
     "output_type": "stream",
     "text": [
      "                                                                                                  "
     ]
    },
    {
     "name": "stdout",
     "output_type": "stream",
     "text": [
      "Epoch 58/100 | Loss: 0.14727 | Accuracy: 0.94% | Precision: 0.55% | Recall: 0.86%\n"
     ]
    },
    {
     "name": "stderr",
     "output_type": "stream",
     "text": [
      "Epoch 59/100:   0%|          | 0/361 [00:30<?, ?it/s, Loss=0.214, Acc=0.937, Prec=0.5, Rec=0.643]   "
     ]
    },
    {
     "name": "stdout",
     "output_type": "stream",
     "text": [
      "Epoch 59/100 | Loss: 0.14591 | Accuracy: 0.94% | Precision: 0.55% | Recall: 0.86%\n"
     ]
    },
    {
     "name": "stderr",
     "output_type": "stream",
     "text": [
      "                                                                                                 "
     ]
    },
    {
     "name": "stdout",
     "output_type": "stream",
     "text": [
      "Epoch 60/100 | Loss: 0.14556 | Accuracy: 0.94% | Precision: 0.55% | Recall: 0.86%\n"
     ]
    },
    {
     "name": "stderr",
     "output_type": "stream",
     "text": [
      "Epoch 61/100:   0%|          | 0/361 [00:29<?, ?it/s, Loss=0.175, Acc=0.919, Prec=0.448, Rec=0.867] "
     ]
    },
    {
     "name": "stdout",
     "output_type": "stream",
     "text": [
      "Epoch 61/100 | Loss: 0.14203 | Accuracy: 0.95% | Precision: 0.56% | Recall: 0.87%\n"
     ]
    },
    {
     "name": "stderr",
     "output_type": "stream",
     "text": [
      "                                                                                                   "
     ]
    },
    {
     "name": "stdout",
     "output_type": "stream",
     "text": [
      "Epoch 62/100 | Loss: 0.13914 | Accuracy: 0.95% | Precision: 0.56% | Recall: 0.87%\n"
     ]
    },
    {
     "name": "stderr",
     "output_type": "stream",
     "text": [
      "Epoch 63/100:   0%|          | 0/361 [00:29<?, ?it/s, Loss=0.177, Acc=0.946, Prec=0.619, Rec=0.765] "
     ]
    },
    {
     "name": "stdout",
     "output_type": "stream",
     "text": [
      "Epoch 63/100 | Loss: 0.13690 | Accuracy: 0.95% | Precision: 0.57% | Recall: 0.87%\n"
     ]
    },
    {
     "name": "stderr",
     "output_type": "stream",
     "text": [
      "                                                                                                   "
     ]
    },
    {
     "name": "stdout",
     "output_type": "stream",
     "text": [
      "Epoch 64/100 | Loss: 0.13583 | Accuracy: 0.95% | Precision: 0.57% | Recall: 0.87%\n"
     ]
    },
    {
     "name": "stderr",
     "output_type": "stream",
     "text": [
      "Epoch 65/100:   0%|          | 0/361 [00:33<?, ?it/s, Loss=0.0875, Acc=0.964, Prec=0.5, Rec=1]      "
     ]
    },
    {
     "name": "stdout",
     "output_type": "stream",
     "text": [
      "Epoch 65/100 | Loss: 0.13517 | Accuracy: 0.95% | Precision: 0.57% | Recall: 0.88%\n"
     ]
    },
    {
     "name": "stderr",
     "output_type": "stream",
     "text": [
      "                                                                                              "
     ]
    },
    {
     "name": "stdout",
     "output_type": "stream",
     "text": [
      "Epoch 66/100 | Loss: 0.13549 | Accuracy: 0.95% | Precision: 0.58% | Recall: 0.87%\n"
     ]
    },
    {
     "name": "stderr",
     "output_type": "stream",
     "text": [
      "Epoch 67/100:   0%|          | 0/361 [00:32<?, ?it/s, Loss=0.0837, Acc=0.964, Prec=0.682, Rec=0.938]"
     ]
    },
    {
     "name": "stdout",
     "output_type": "stream",
     "text": [
      "Epoch 67/100 | Loss: 0.13262 | Accuracy: 0.95% | Precision: 0.57% | Recall: 0.88%\n"
     ]
    },
    {
     "name": "stderr",
     "output_type": "stream",
     "text": [
      "                                                                                                    "
     ]
    },
    {
     "name": "stdout",
     "output_type": "stream",
     "text": [
      "Epoch 68/100 | Loss: 0.13162 | Accuracy: 0.95% | Precision: 0.58% | Recall: 0.88%\n"
     ]
    },
    {
     "name": "stderr",
     "output_type": "stream",
     "text": [
      "Epoch 69/100:   0%|          | 0/361 [00:33<?, ?it/s, Loss=0.112, Acc=0.973, Prec=0.75, Rec=1]      "
     ]
    },
    {
     "name": "stdout",
     "output_type": "stream",
     "text": [
      "Epoch 69/100 | Loss: 0.14462 | Accuracy: 0.95% | Precision: 0.56% | Recall: 0.86%\n"
     ]
    },
    {
     "name": "stderr",
     "output_type": "stream",
     "text": [
      "                                                                                              "
     ]
    },
    {
     "name": "stdout",
     "output_type": "stream",
     "text": [
      "Epoch 70/100 | Loss: 0.12962 | Accuracy: 0.95% | Precision: 0.59% | Recall: 0.88%\n"
     ]
    },
    {
     "name": "stderr",
     "output_type": "stream",
     "text": [
      "Epoch 71/100:   0%|          | 0/361 [00:40<?, ?it/s, Loss=0.0902, Acc=0.977, Prec=0.692, Rec=0.9]  "
     ]
    },
    {
     "name": "stdout",
     "output_type": "stream",
     "text": [
      "Epoch 71/100 | Loss: 0.12732 | Accuracy: 0.95% | Precision: 0.59% | Recall: 0.88%\n"
     ]
    },
    {
     "name": "stderr",
     "output_type": "stream",
     "text": [
      "                                                                                                  "
     ]
    },
    {
     "name": "stdout",
     "output_type": "stream",
     "text": [
      "Epoch 72/100 | Loss: 0.12653 | Accuracy: 0.95% | Precision: 0.59% | Recall: 0.88%\n"
     ]
    },
    {
     "name": "stderr",
     "output_type": "stream",
     "text": [
      "Epoch 73/100:   0%|          | 0/361 [00:32<?, ?it/s, Loss=0.229, Acc=0.914, Prec=0.531, Rec=0.81]  "
     ]
    },
    {
     "name": "stdout",
     "output_type": "stream",
     "text": [
      "Epoch 73/100 | Loss: 0.12668 | Accuracy: 0.95% | Precision: 0.59% | Recall: 0.88%\n"
     ]
    },
    {
     "name": "stderr",
     "output_type": "stream",
     "text": [
      "                                                                                                  "
     ]
    },
    {
     "name": "stdout",
     "output_type": "stream",
     "text": [
      "Epoch 74/100 | Loss: 0.12411 | Accuracy: 0.95% | Precision: 0.60% | Recall: 0.89%\n"
     ]
    },
    {
     "name": "stderr",
     "output_type": "stream",
     "text": [
      "Epoch 75/100:   0%|          | 0/361 [00:31<?, ?it/s, Loss=0.119, Acc=0.968, Prec=0.696, Rec=1]     "
     ]
    },
    {
     "name": "stdout",
     "output_type": "stream",
     "text": [
      "Epoch 75/100 | Loss: 0.12108 | Accuracy: 0.95% | Precision: 0.60% | Recall: 0.89%\n"
     ]
    },
    {
     "name": "stderr",
     "output_type": "stream",
     "text": [
      "                                                                                               "
     ]
    },
    {
     "name": "stdout",
     "output_type": "stream",
     "text": [
      "Epoch 76/100 | Loss: 0.12360 | Accuracy: 0.95% | Precision: 0.60% | Recall: 0.89%\n"
     ]
    },
    {
     "name": "stderr",
     "output_type": "stream",
     "text": [
      "Epoch 77/100:   0%|          | 0/361 [00:33<?, ?it/s, Loss=0.0696, Acc=0.959, Prec=0.591, Rec=1]    "
     ]
    },
    {
     "name": "stdout",
     "output_type": "stream",
     "text": [
      "Epoch 77/100 | Loss: 0.12180 | Accuracy: 0.95% | Precision: 0.60% | Recall: 0.89%\n"
     ]
    },
    {
     "name": "stderr",
     "output_type": "stream",
     "text": [
      "                                                                                                "
     ]
    },
    {
     "name": "stdout",
     "output_type": "stream",
     "text": [
      "Epoch 78/100 | Loss: 0.11798 | Accuracy: 0.95% | Precision: 0.61% | Recall: 0.89%\n"
     ]
    },
    {
     "name": "stderr",
     "output_type": "stream",
     "text": [
      "Epoch 79/100:   0%|          | 0/361 [00:41<?, ?it/s, Loss=0.177, Acc=0.937, Prec=0.591, Rec=0.722] "
     ]
    },
    {
     "name": "stdout",
     "output_type": "stream",
     "text": [
      "Epoch 79/100 | Loss: 0.11673 | Accuracy: 0.96% | Precision: 0.61% | Recall: 0.90%\n"
     ]
    },
    {
     "name": "stderr",
     "output_type": "stream",
     "text": [
      "                                                                                                   "
     ]
    },
    {
     "name": "stdout",
     "output_type": "stream",
     "text": [
      "Epoch 80/100 | Loss: 0.11827 | Accuracy: 0.95% | Precision: 0.61% | Recall: 0.90%\n"
     ]
    },
    {
     "name": "stderr",
     "output_type": "stream",
     "text": [
      "Epoch 81/100:   0%|          | 0/361 [00:26<?, ?it/s, Loss=0.0732, Acc=0.955, Prec=0.566, Rec=1]    "
     ]
    },
    {
     "ename": "KeyboardInterrupt",
     "evalue": "",
     "output_type": "error",
     "traceback": [
      "\u001b[31m---------------------------------------------------------------------------\u001b[39m",
      "\u001b[31mKeyboardInterrupt\u001b[39m                         Traceback (most recent call last)",
      "\u001b[36mCell\u001b[39m\u001b[36m \u001b[39m\u001b[32mIn[26]\u001b[39m\u001b[32m, line 28\u001b[39m\n\u001b[32m     25\u001b[39m progress_bar = tqdm(train_loader, desc=\u001b[33mf\u001b[39m\u001b[33m\"\u001b[39m\u001b[33mEpoch \u001b[39m\u001b[38;5;132;01m{\u001b[39;00mepoch+\u001b[32m1\u001b[39m\u001b[38;5;132;01m}\u001b[39;00m\u001b[33m/\u001b[39m\u001b[38;5;132;01m{\u001b[39;00mepochs\u001b[38;5;132;01m}\u001b[39;00m\u001b[33m\"\u001b[39m, leave=\u001b[38;5;28;01mFalse\u001b[39;00m)\n\u001b[32m     27\u001b[39m \u001b[38;5;28;01mfor\u001b[39;00m X_batch, y_batch \u001b[38;5;129;01min\u001b[39;00m train_loader:\n\u001b[32m---> \u001b[39m\u001b[32m28\u001b[39m     X_batch, y_batch = \u001b[43mX_batch\u001b[49m\u001b[43m.\u001b[49m\u001b[43mto\u001b[49m\u001b[43m(\u001b[49m\u001b[43mdevice\u001b[49m\u001b[43m)\u001b[49m, y_batch.to(device)\n\u001b[32m     29\u001b[39m     \u001b[38;5;66;03m# forward pass\u001b[39;00m\n\u001b[32m     30\u001b[39m     y_logits = model(X_batch)\n",
      "\u001b[31mKeyboardInterrupt\u001b[39m: "
     ]
    }
   ],
   "source": [
    "from tqdm import tqdm\n",
    "from torchmetrics import Accuracy, Precision, Recall\n",
    "from torchvision.ops import sigmoid_focal_loss\n",
    "from torch import nn\n",
    "\n",
    "\n",
    "model = TransformerClassifier(input_dim=in_dim).to(device)\n",
    "pos_weight = torch.tensor([2.3], dtype=torch.float32).to(device)\n",
    "loss_fn = nn.BCEWithLogitsLoss(pos_weight=pos_weight)\n",
    "optimizer = torch.optim.AdamW(model.parameters(), lr=0.001) \n",
    "\n",
    "epochs = 100\n",
    "epoch_counter = []\n",
    "loss_counter = []\n",
    "acc_counter = []\n",
    "\n",
    "t_accuracy = Accuracy(task='binary').to(device)\n",
    "t_precision = Precision(task='binary').to(device)\n",
    "t_recall = Recall(task='binary').to(device)\n",
    "\n",
    "for epoch in range(epochs):\n",
    "    model.train()\n",
    "    epoch_loss, epoch_acc, epoch_prec, epoch_rec = 0, 0, 0, 0\n",
    "    \n",
    "    progress_bar = tqdm(train_loader, desc=f\"Epoch {epoch+1}/{epochs}\", leave=False)\n",
    "\n",
    "    for X_batch, y_batch in train_loader:\n",
    "        X_batch, y_batch = X_batch.to(device), y_batch.to(device)\n",
    "        # forward pass\n",
    "        y_logits = model(X_batch)\n",
    "        # print(\"Logits sample:\", y_logits[:5].detach().cpu().numpy())  # Should have positive values too\n",
    "        y_probs = torch.sigmoid(y_logits)\n",
    "        # because the dataset is too imbalance\n",
    "        y_preds = (y_probs >= 0.3).float() \n",
    "\n",
    "        # loss function\n",
    "        loss = loss_fn(y_logits, y_batch.unsqueeze(1).float())\n",
    "        \n",
    "        acc = t_accuracy(y_preds, y_batch.unsqueeze(1).float())\n",
    "        prec = t_precision(y_preds, y_batch.unsqueeze(1).float())\n",
    "        rec = t_recall(y_preds, y_batch.unsqueeze(1).float())\n",
    "        \n",
    "        # zero grad\n",
    "        optimizer.zero_grad()\n",
    "        # backpropagation\n",
    "        loss.backward()\n",
    "        # optimizer\n",
    "        optimizer.step()\n",
    "\n",
    "        # update epoch metrics\n",
    "        epoch_loss += loss.item()\n",
    "        epoch_acc += acc\n",
    "        epoch_prec += prec\n",
    "        epoch_rec += rec\n",
    "        \n",
    "        progress_bar.set_postfix({\"Loss\": loss.item(), \"Acc\": acc.item(), \"Prec\": prec.item(), \"Rec\": rec.item()})\n",
    "\n",
    "    epoch_loss /= len(train_loader)\n",
    "    epoch_acc /= len(train_loader)\n",
    "    epoch_prec /= len(train_loader)\n",
    "    epoch_rec /= len(train_loader)\n",
    "    acc_counter.append(epoch_acc)\n",
    "    \n",
    "    print(f\"Epoch {epoch+1}/{epochs} | Loss: {epoch_loss:.5f} | Accuracy: {epoch_acc:.2f}% | Precision: {epoch_prec:.2f}% | Recall: {epoch_rec:.2f}%\")"
   ]
  },
  {
   "cell_type": "markdown",
   "metadata": {},
   "source": [
    "## Save model and predictions"
   ]
  },
  {
   "cell_type": "code",
   "execution_count": 27,
   "metadata": {},
   "outputs": [],
   "source": [
    "from pathlib import Path\n",
    "\n",
    "# save the model\n",
    "model_path = Path('./saved')\n",
    "model_path.mkdir(exist_ok=True)\n",
    "model_file = model_path / f\"{MODEL_V}.pth\"\n",
    "\n",
    "torch.save(model.state_dict(), model_file)"
   ]
  },
  {
   "cell_type": "code",
   "execution_count": 28,
   "metadata": {},
   "outputs": [
    {
     "data": {
      "text/plain": [
       "<All keys matched successfully>"
      ]
     },
     "execution_count": 28,
     "metadata": {},
     "output_type": "execute_result"
    }
   ],
   "source": [
    "model = TransformerClassifier(input_dim=in_dim)\n",
    "model.load_state_dict(torch.load(f\"./saved/{MODEL_V}.pth\"))"
   ]
  }
 ],
 "metadata": {
  "kernelspec": {
   "display_name": "venv-sepsis",
   "language": "python",
   "name": "python3"
  },
  "language_info": {
   "codemirror_mode": {
    "name": "ipython",
    "version": 3
   },
   "file_extension": ".py",
   "mimetype": "text/x-python",
   "name": "python",
   "nbconvert_exporter": "python",
   "pygments_lexer": "ipython3",
   "version": "3.12.0"
  }
 },
 "nbformat": 4,
 "nbformat_minor": 2
}
