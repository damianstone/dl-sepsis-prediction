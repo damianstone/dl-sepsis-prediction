{
 "cells": [
  {
   "cell_type": "markdown",
   "metadata": {},
   "source": [
    "# Training of a simple encoder transformer\n",
    "- trained with a small balanced dataset "
   ]
  },
  {
   "cell_type": "code",
   "execution_count": 1,
   "metadata": {},
   "outputs": [
    {
     "name": "stdout",
     "output_type": "stream",
     "text": [
      "2.2.2\n",
      "/Users/damianstone/Documents/Code/machine-learning/dl-sepsis-prediction\n"
     ]
    }
   ],
   "source": [
    "import os\n",
    "import sys\n",
    "import torch\n",
    "import pandas as pd\n",
    "import numpy as np\n",
    "import matplotlib.pyplot as plt\n",
    "\n",
    "from torch import nn\n",
    "\n",
    "print(torch.__version__)\n",
    "\n",
    "notebook_dir = os.getcwd()\n",
    "\n",
    "project_root = os.path.abspath(os.path.join(notebook_dir, \"../..\"))\n",
    "print(project_root)\n",
    "if project_root not in sys.path:\n",
    "    sys.path.append(project_root)\n",
    "    \n",
    "MODEL_V = \"04_simple_transformer\""
   ]
  },
  {
   "cell_type": "code",
   "execution_count": 2,
   "metadata": {},
   "outputs": [
    {
     "data": {
      "text/plain": [
       "device(type='cpu')"
      ]
     },
     "execution_count": 2,
     "metadata": {},
     "output_type": "execute_result"
    }
   ],
   "source": [
    "device = torch.device(\"mps\" if torch.backends.mps.is_available() else \"cpu\")\n",
    "device"
   ]
  },
  {
   "cell_type": "code",
   "execution_count": 3,
   "metadata": {},
   "outputs": [
    {
     "name": "stdout",
     "output_type": "stream",
     "text": [
      "False\n"
     ]
    }
   ],
   "source": [
    "import torch\n",
    "print(torch.cuda.is_available())  "
   ]
  },
  {
   "cell_type": "markdown",
   "metadata": {},
   "source": [
    "## Splitting the data"
   ]
  },
  {
   "cell_type": "code",
   "execution_count": 66,
   "metadata": {},
   "outputs": [
    {
     "name": "stdout",
     "output_type": "stream",
     "text": [
      "Balanced training set balance:\n",
      "SepsisLabel\n",
      "0    1219428\n",
      "1     609714\n",
      "Name: count, dtype: int64\n",
      "Reduced balanced training set balance:\n",
      "SepsisLabel\n",
      "0    121943\n",
      "1     60971\n",
      "Name: count, dtype: int64\n",
      "Total records in reduced training set: 182914\n"
     ]
    }
   ],
   "source": [
    "from Dataset import Dataset\n",
    "\n",
    "data_loader = Dataset(\n",
    "    data_path=\"imputed_sofa.parquet\",\n",
    "    save_path=\"dataset_tensors.pth\",\n",
    "    method=\"oversample\",\n",
    "    balance=True,\n",
    "    minority_ratio=0.5,\n",
    "    target_column=\"SepsisLabel\"\n",
    ")\n",
    "# as tensors\n",
    "X_train, X_test, y_train, y_test = data_loader.get_train_test_tensors(size='small', train_size=0.1)\n",
    "X_train, X_test, y_train, y_test = X_train.to(device), X_test.to(device), y_train.to(device), y_test.to(device)\n"
   ]
  },
  {
   "cell_type": "markdown",
   "metadata": {},
   "source": [
    "## Transformer architecture"
   ]
  },
  {
   "cell_type": "code",
   "execution_count": 67,
   "metadata": {},
   "outputs": [],
   "source": [
    "from architectures import TransformerClassifier\n",
    "\n",
    "\n",
    "in_dim = X_train.shape[1]\n",
    "model = TransformerClassifier(input_dim=in_dim)"
   ]
  },
  {
   "cell_type": "code",
   "execution_count": 68,
   "metadata": {},
   "outputs": [],
   "source": [
    "from torch.utils.data import DataLoader, TensorDataset\n",
    "\n",
    "\n",
    "train_dataset = TensorDataset(X_train, y_train)\n",
    "test_dataset = TensorDataset(X_test, y_test)\n",
    "\n",
    "batch_size = 512 \n",
    "train_loader = DataLoader(train_dataset, batch_size=batch_size, shuffle=True)\n",
    "test_loader = DataLoader(test_dataset, batch_size=batch_size, shuffle=False)\n"
   ]
  },
  {
   "cell_type": "markdown",
   "metadata": {},
   "source": [
    "### Training loop"
   ]
  },
  {
   "cell_type": "code",
   "execution_count": 69,
   "metadata": {},
   "outputs": [
    {
     "name": "stdout",
     "output_type": "stream",
     "text": [
      "2.0000164012399337\n"
     ]
    }
   ],
   "source": [
    "negative_count = (y_train == 0).sum().item()  # Count negatives (class 0)\n",
    "positive_count = (y_train == 1).sum().item()  # Count positives (class 1)\n",
    "\n",
    "if positive_count == 0:\n",
    "    raise ValueError(\"No positive samples found in training set.\")\n",
    "\n",
    "print(negative_count / positive_count)"
   ]
  },
  {
   "cell_type": "code",
   "execution_count": 70,
   "metadata": {},
   "outputs": [
    {
     "name": "stderr",
     "output_type": "stream",
     "text": [
      "Epoch 1/100:   0%|          | 0/358 [01:45<?, ?it/s, Loss=0.968, Acc=0.554, Prec=0.41, Rec=0.314]  "
     ]
    },
    {
     "name": "stdout",
     "output_type": "stream",
     "text": [
      "Epoch 1/100 | Loss: 0.92927 | Accuracy: 0.50% | Precision: 0.33% | Recall: 0.50%\n"
     ]
    },
    {
     "name": "stderr",
     "output_type": "stream",
     "text": [
      "                                                                                                 "
     ]
    },
    {
     "name": "stdout",
     "output_type": "stream",
     "text": [
      "Epoch 2/100 | Loss: 0.92502 | Accuracy: 0.49% | Precision: 0.32% | Recall: 0.52%\n"
     ]
    },
    {
     "name": "stderr",
     "output_type": "stream",
     "text": [
      "Epoch 3/100:   0%|          | 0/358 [01:53<?, ?it/s, Loss=0.959, Acc=0.431, Prec=0.391, Rec=0.86]   "
     ]
    },
    {
     "name": "stdout",
     "output_type": "stream",
     "text": [
      "Epoch 3/100 | Loss: 0.92464 | Accuracy: 0.50% | Precision: 0.32% | Recall: 0.51%\n"
     ]
    },
    {
     "name": "stderr",
     "output_type": "stream",
     "text": [
      "                                                                                                 "
     ]
    },
    {
     "name": "stdout",
     "output_type": "stream",
     "text": [
      "Epoch 4/100 | Loss: 0.92468 | Accuracy: 0.50% | Precision: 0.30% | Recall: 0.48%\n"
     ]
    },
    {
     "name": "stderr",
     "output_type": "stream",
     "text": [
      "Epoch 5/100:   0%|          | 0/358 [02:00<?, ?it/s, Loss=0.929, Acc=0.415, Prec=0.295, Rec=0.523]  "
     ]
    },
    {
     "name": "stdout",
     "output_type": "stream",
     "text": [
      "Epoch 5/100 | Loss: 0.92423 | Accuracy: 0.51% | Precision: 0.33% | Recall: 0.50%\n"
     ]
    },
    {
     "name": "stderr",
     "output_type": "stream",
     "text": [
      "                                                                                                  "
     ]
    },
    {
     "name": "stdout",
     "output_type": "stream",
     "text": [
      "Epoch 6/100 | Loss: 0.92453 | Accuracy: 0.50% | Precision: 0.29% | Recall: 0.49%\n"
     ]
    },
    {
     "name": "stderr",
     "output_type": "stream",
     "text": [
      "Epoch 7/100:   0%|          | 0/358 [02:05<?, ?it/s, Loss=0.942, Acc=0.377, Prec=0.367, Rec=1]      "
     ]
    },
    {
     "name": "stdout",
     "output_type": "stream",
     "text": [
      "Epoch 7/100 | Loss: 0.92447 | Accuracy: 0.50% | Precision: 0.30% | Recall: 0.50%\n"
     ]
    },
    {
     "name": "stderr",
     "output_type": "stream",
     "text": [
      "                                                                                              "
     ]
    },
    {
     "name": "stdout",
     "output_type": "stream",
     "text": [
      "Epoch 8/100 | Loss: 0.92450 | Accuracy: 0.49% | Precision: 0.30% | Recall: 0.52%\n"
     ]
    },
    {
     "name": "stderr",
     "output_type": "stream",
     "text": [
      "Epoch 9/100:   0%|          | 0/358 [02:01<?, ?it/s, Loss=0.947, Acc=0.638, Prec=0, Rec=0]          "
     ]
    },
    {
     "name": "stdout",
     "output_type": "stream",
     "text": [
      "Epoch 9/100 | Loss: 0.92452 | Accuracy: 0.49% | Precision: 0.29% | Recall: 0.54%\n"
     ]
    },
    {
     "name": "stderr",
     "output_type": "stream",
     "text": [
      "                                                                                          "
     ]
    },
    {
     "name": "stdout",
     "output_type": "stream",
     "text": [
      "Epoch 10/100 | Loss: 0.92435 | Accuracy: 0.49% | Precision: 0.30% | Recall: 0.52%\n"
     ]
    },
    {
     "name": "stderr",
     "output_type": "stream",
     "text": [
      "Epoch 11/100:   0%|          | 0/358 [02:02<?, ?it/s, Loss=0.958, Acc=0.623, Prec=0.5, Rec=0.0204]   "
     ]
    },
    {
     "name": "stdout",
     "output_type": "stream",
     "text": [
      "Epoch 11/100 | Loss: 0.92444 | Accuracy: 0.49% | Precision: 0.30% | Recall: 0.54%\n"
     ]
    },
    {
     "name": "stderr",
     "output_type": "stream",
     "text": [
      "                                                                                                  "
     ]
    },
    {
     "name": "stdout",
     "output_type": "stream",
     "text": [
      "Epoch 12/100 | Loss: 0.92493 | Accuracy: 0.51% | Precision: 0.34% | Recall: 0.49%\n"
     ]
    },
    {
     "name": "stderr",
     "output_type": "stream",
     "text": [
      "Epoch 13/100:   0%|          | 0/358 [02:04<?, ?it/s, Loss=0.929, Acc=0.346, Prec=0.319, Rec=0.818]   "
     ]
    },
    {
     "name": "stdout",
     "output_type": "stream",
     "text": [
      "Epoch 13/100 | Loss: 0.92430 | Accuracy: 0.51% | Precision: 0.33% | Recall: 0.48%\n"
     ]
    },
    {
     "name": "stderr",
     "output_type": "stream",
     "text": [
      "                                                                                                   "
     ]
    },
    {
     "name": "stdout",
     "output_type": "stream",
     "text": [
      "Epoch 14/100 | Loss: 0.92433 | Accuracy: 0.51% | Precision: 0.32% | Recall: 0.48%\n"
     ]
    },
    {
     "name": "stderr",
     "output_type": "stream",
     "text": [
      "Epoch 15/100:   0%|          | 0/358 [02:04<?, ?it/s, Loss=0.891, Acc=0.315, Prec=0.287, Rec=0.946]  "
     ]
    },
    {
     "name": "stdout",
     "output_type": "stream",
     "text": [
      "Epoch 15/100 | Loss: 0.92430 | Accuracy: 0.49% | Precision: 0.26% | Recall: 0.52%\n"
     ]
    },
    {
     "name": "stderr",
     "output_type": "stream",
     "text": [
      "                                                                                                   "
     ]
    },
    {
     "name": "stdout",
     "output_type": "stream",
     "text": [
      "Epoch 16/100 | Loss: 0.92436 | Accuracy: 0.49% | Precision: 0.25% | Recall: 0.51%\n"
     ]
    },
    {
     "name": "stderr",
     "output_type": "stream",
     "text": [
      "Epoch 17/100:   0%|          | 0/358 [02:04<?, ?it/s, Loss=0.945, Acc=0.638, Prec=0, Rec=0]          "
     ]
    },
    {
     "name": "stdout",
     "output_type": "stream",
     "text": [
      "Epoch 17/100 | Loss: 0.92435 | Accuracy: 0.49% | Precision: 0.23% | Recall: 0.52%\n"
     ]
    },
    {
     "name": "stderr",
     "output_type": "stream",
     "text": [
      "                                                                                           "
     ]
    },
    {
     "name": "stdout",
     "output_type": "stream",
     "text": [
      "Epoch 18/100 | Loss: 0.92434 | Accuracy: 0.50% | Precision: 0.29% | Recall: 0.49%\n"
     ]
    },
    {
     "name": "stderr",
     "output_type": "stream",
     "text": [
      "Epoch 19/100:   0%|          | 0/358 [02:06<?, ?it/s, Loss=0.971, Acc=0.592, Prec=0, Rec=0]          "
     ]
    },
    {
     "name": "stdout",
     "output_type": "stream",
     "text": [
      "Epoch 19/100 | Loss: 0.92440 | Accuracy: 0.52% | Precision: 0.30% | Recall: 0.43%\n"
     ]
    },
    {
     "name": "stderr",
     "output_type": "stream",
     "text": [
      "                                                                                           "
     ]
    },
    {
     "name": "stdout",
     "output_type": "stream",
     "text": [
      "Epoch 20/100 | Loss: 0.92432 | Accuracy: 0.49% | Precision: 0.32% | Recall: 0.53%\n"
     ]
    },
    {
     "name": "stderr",
     "output_type": "stream",
     "text": [
      "Epoch 21/100:   0%|          | 0/358 [02:05<?, ?it/s, Loss=0.933, Acc=0.354, Prec=0.339, Rec=0.911] "
     ]
    },
    {
     "name": "stdout",
     "output_type": "stream",
     "text": [
      "Epoch 21/100 | Loss: 0.92431 | Accuracy: 0.48% | Precision: 0.29% | Recall: 0.57%\n"
     ]
    },
    {
     "name": "stderr",
     "output_type": "stream",
     "text": [
      "                                                                                                   "
     ]
    },
    {
     "name": "stdout",
     "output_type": "stream",
     "text": [
      "Epoch 22/100 | Loss: 0.92431 | Accuracy: 0.49% | Precision: 0.25% | Recall: 0.52%\n"
     ]
    },
    {
     "name": "stderr",
     "output_type": "stream",
     "text": [
      "Epoch 23/100:   0%|          | 0/358 [02:07<?, ?it/s, Loss=0.871, Acc=0.3, Prec=0.258, Rec=0.939]    "
     ]
    },
    {
     "name": "stdout",
     "output_type": "stream",
     "text": [
      "Epoch 23/100 | Loss: 0.92420 | Accuracy: 0.49% | Precision: 0.25% | Recall: 0.51%\n"
     ]
    },
    {
     "name": "stderr",
     "output_type": "stream",
     "text": [
      "                                                                                                 "
     ]
    },
    {
     "name": "stdout",
     "output_type": "stream",
     "text": [
      "Epoch 24/100 | Loss: 0.92418 | Accuracy: 0.53% | Precision: 0.23% | Recall: 0.40%\n"
     ]
    },
    {
     "name": "stderr",
     "output_type": "stream",
     "text": [
      "Epoch 25/100:   0%|          | 0/358 [02:11<?, ?it/s, Loss=0.917, Acc=0.354, Prec=0.328, Rec=0.952]  "
     ]
    },
    {
     "name": "stdout",
     "output_type": "stream",
     "text": [
      "Epoch 25/100 | Loss: 0.92428 | Accuracy: 0.50% | Precision: 0.27% | Recall: 0.51%\n"
     ]
    },
    {
     "name": "stderr",
     "output_type": "stream",
     "text": [
      "                                                                                                   "
     ]
    },
    {
     "name": "stdout",
     "output_type": "stream",
     "text": [
      "Epoch 26/100 | Loss: 0.92432 | Accuracy: 0.54% | Precision: 0.32% | Recall: 0.38%\n"
     ]
    },
    {
     "name": "stderr",
     "output_type": "stream",
     "text": [
      "Epoch 27/100:   0%|          | 0/358 [02:12<?, ?it/s, Loss=0.929, Acc=0.662, Prec=0, Rec=0]          "
     ]
    },
    {
     "name": "stdout",
     "output_type": "stream",
     "text": [
      "Epoch 27/100 | Loss: 0.92426 | Accuracy: 0.47% | Precision: 0.31% | Recall: 0.59%\n"
     ]
    },
    {
     "name": "stderr",
     "output_type": "stream",
     "text": [
      "                                                                                           "
     ]
    },
    {
     "name": "stdout",
     "output_type": "stream",
     "text": [
      "Epoch 28/100 | Loss: 0.92424 | Accuracy: 0.51% | Precision: 0.30% | Recall: 0.47%\n"
     ]
    },
    {
     "name": "stderr",
     "output_type": "stream",
     "text": [
      "Epoch 29/100:   0%|          | 0/358 [02:07<?, ?it/s, Loss=0.906, Acc=0.615, Prec=0.292, Rec=0.175]  "
     ]
    },
    {
     "name": "stdout",
     "output_type": "stream",
     "text": [
      "Epoch 29/100 | Loss: 0.92420 | Accuracy: 0.50% | Precision: 0.23% | Recall: 0.48%\n"
     ]
    },
    {
     "name": "stderr",
     "output_type": "stream",
     "text": [
      "                                                                                                   "
     ]
    },
    {
     "name": "stdout",
     "output_type": "stream",
     "text": [
      "Epoch 30/100 | Loss: 0.92421 | Accuracy: 0.51% | Precision: 0.27% | Recall: 0.47%\n"
     ]
    },
    {
     "name": "stderr",
     "output_type": "stream",
     "text": [
      "Epoch 31/100:   0%|          | 0/358 [02:03<?, ?it/s, Loss=0.939, Acc=0.615, Prec=0.357, Rec=0.109]  "
     ]
    },
    {
     "name": "stdout",
     "output_type": "stream",
     "text": [
      "Epoch 31/100 | Loss: 0.92428 | Accuracy: 0.52% | Precision: 0.28% | Recall: 0.45%\n"
     ]
    },
    {
     "name": "stderr",
     "output_type": "stream",
     "text": [
      "                                                                                                   "
     ]
    },
    {
     "name": "stdout",
     "output_type": "stream",
     "text": [
      "Epoch 32/100 | Loss: 0.92424 | Accuracy: 0.51% | Precision: 0.31% | Recall: 0.47%\n"
     ]
    },
    {
     "name": "stderr",
     "output_type": "stream",
     "text": [
      "Epoch 33/100:   0%|          | 0/358 [02:08<?, ?it/s, Loss=0.928, Acc=0.385, Prec=0.324, Rec=0.75]  "
     ]
    },
    {
     "name": "stdout",
     "output_type": "stream",
     "text": [
      "Epoch 33/100 | Loss: 0.92426 | Accuracy: 0.51% | Precision: 0.21% | Recall: 0.46%\n"
     ]
    },
    {
     "name": "stderr",
     "output_type": "stream",
     "text": [
      "                                                                                                  "
     ]
    },
    {
     "name": "stdout",
     "output_type": "stream",
     "text": [
      "Epoch 34/100 | Loss: 0.92425 | Accuracy: 0.49% | Precision: 0.29% | Recall: 0.54%\n"
     ]
    },
    {
     "name": "stderr",
     "output_type": "stream",
     "text": [
      "Epoch 35/100:   0%|          | 0/358 [02:07<?, ?it/s, Loss=0.976, Acc=0.592, Prec=0, Rec=0]          "
     ]
    },
    {
     "name": "stdout",
     "output_type": "stream",
     "text": [
      "Epoch 35/100 | Loss: 0.92437 | Accuracy: 0.50% | Precision: 0.30% | Recall: 0.48%\n"
     ]
    },
    {
     "name": "stderr",
     "output_type": "stream",
     "text": [
      "                                                                                           "
     ]
    },
    {
     "name": "stdout",
     "output_type": "stream",
     "text": [
      "Epoch 36/100 | Loss: 0.92422 | Accuracy: 0.48% | Precision: 0.27% | Recall: 0.55%\n"
     ]
    },
    {
     "name": "stderr",
     "output_type": "stream",
     "text": [
      "Epoch 37/100:   0%|          | 0/358 [02:08<?, ?it/s, Loss=0.978, Acc=0.592, Prec=0, Rec=0]          "
     ]
    },
    {
     "name": "stdout",
     "output_type": "stream",
     "text": [
      "Epoch 37/100 | Loss: 0.92435 | Accuracy: 0.45% | Precision: 0.31% | Recall: 0.65%\n"
     ]
    },
    {
     "name": "stderr",
     "output_type": "stream",
     "text": [
      "                                                                                           "
     ]
    },
    {
     "name": "stdout",
     "output_type": "stream",
     "text": [
      "Epoch 38/100 | Loss: 0.92425 | Accuracy: 0.50% | Precision: 0.24% | Recall: 0.48%\n"
     ]
    },
    {
     "name": "stderr",
     "output_type": "stream",
     "text": [
      "Epoch 39/100:   0%|          | 0/358 [02:11<?, ?it/s, Loss=0.885, Acc=0.723, Prec=0, Rec=0]          "
     ]
    },
    {
     "name": "stdout",
     "output_type": "stream",
     "text": [
      "Epoch 39/100 | Loss: 0.92416 | Accuracy: 0.48% | Precision: 0.30% | Recall: 0.54%\n"
     ]
    },
    {
     "name": "stderr",
     "output_type": "stream",
     "text": [
      "                                                                                           "
     ]
    },
    {
     "name": "stdout",
     "output_type": "stream",
     "text": [
      "Epoch 40/100 | Loss: 0.92426 | Accuracy: 0.50% | Precision: 0.27% | Recall: 0.51%\n"
     ]
    },
    {
     "name": "stderr",
     "output_type": "stream",
     "text": [
      "Epoch 41/100:   0%|          | 0/358 [02:11<?, ?it/s, Loss=0.933, Acc=0.346, Prec=0.346, Rec=1]      "
     ]
    },
    {
     "name": "stdout",
     "output_type": "stream",
     "text": [
      "Epoch 41/100 | Loss: 0.92426 | Accuracy: 0.56% | Precision: 0.29% | Recall: 0.32%\n"
     ]
    },
    {
     "name": "stderr",
     "output_type": "stream",
     "text": [
      "                                                                                               "
     ]
    },
    {
     "name": "stdout",
     "output_type": "stream",
     "text": [
      "Epoch 42/100 | Loss: 0.92419 | Accuracy: 0.51% | Precision: 0.31% | Recall: 0.47%\n"
     ]
    },
    {
     "name": "stderr",
     "output_type": "stream",
     "text": [
      "Epoch 43/100:   0%|          | 0/358 [02:12<?, ?it/s, Loss=0.906, Acc=0.662, Prec=0.167, Rec=0.025]  "
     ]
    },
    {
     "name": "stdout",
     "output_type": "stream",
     "text": [
      "Epoch 43/100 | Loss: 0.92417 | Accuracy: 0.46% | Precision: 0.31% | Recall: 0.61%\n"
     ]
    },
    {
     "name": "stderr",
     "output_type": "stream",
     "text": [
      "                                                                                                   "
     ]
    },
    {
     "name": "stdout",
     "output_type": "stream",
     "text": [
      "Epoch 44/100 | Loss: 0.92429 | Accuracy: 0.48% | Precision: 0.29% | Recall: 0.55%\n"
     ]
    },
    {
     "name": "stderr",
     "output_type": "stream",
     "text": [
      "Epoch 45/100:   0%|          | 0/358 [02:12<?, ?it/s, Loss=0.949, Acc=0.515, Prec=0.368, Rec=0.438]  "
     ]
    },
    {
     "name": "stdout",
     "output_type": "stream",
     "text": [
      "Epoch 45/100 | Loss: 0.92427 | Accuracy: 0.54% | Precision: 0.34% | Recall: 0.38%\n"
     ]
    },
    {
     "name": "stderr",
     "output_type": "stream",
     "text": [
      "                                                                                                   "
     ]
    },
    {
     "name": "stdout",
     "output_type": "stream",
     "text": [
      "Epoch 46/100 | Loss: 0.92434 | Accuracy: 0.52% | Precision: 0.30% | Recall: 0.43%\n"
     ]
    },
    {
     "name": "stderr",
     "output_type": "stream",
     "text": [
      "Epoch 47/100:   0%|          | 0/358 [02:10<?, ?it/s, Loss=0.944, Acc=0.446, Prec=0.379, Rec=0.83]  "
     ]
    },
    {
     "name": "stdout",
     "output_type": "stream",
     "text": [
      "Epoch 47/100 | Loss: 0.92427 | Accuracy: 0.45% | Precision: 0.33% | Recall: 0.63%\n"
     ]
    },
    {
     "name": "stderr",
     "output_type": "stream",
     "text": [
      "                                                                                                  "
     ]
    },
    {
     "name": "stdout",
     "output_type": "stream",
     "text": [
      "Epoch 48/100 | Loss: 0.92426 | Accuracy: 0.47% | Precision: 0.31% | Recall: 0.59%\n"
     ]
    },
    {
     "name": "stderr",
     "output_type": "stream",
     "text": [
      "Epoch 49/100:   0%|          | 0/358 [02:09<?, ?it/s, Loss=0.923, Acc=0.338, Prec=0.331, Rec=0.977]   "
     ]
    },
    {
     "name": "stdout",
     "output_type": "stream",
     "text": [
      "Epoch 49/100 | Loss: 0.92422 | Accuracy: 0.53% | Precision: 0.29% | Recall: 0.40%\n"
     ]
    },
    {
     "name": "stderr",
     "output_type": "stream",
     "text": [
      "                                                                                                   "
     ]
    },
    {
     "name": "stdout",
     "output_type": "stream",
     "text": [
      "Epoch 50/100 | Loss: 0.92423 | Accuracy: 0.50% | Precision: 0.34% | Recall: 0.50%\n"
     ]
    },
    {
     "name": "stderr",
     "output_type": "stream",
     "text": [
      "Epoch 51/100:   0%|          | 0/358 [02:13<?, ?it/s, Loss=0.952, Acc=0.377, Prec=0.377, Rec=1]      "
     ]
    },
    {
     "name": "stdout",
     "output_type": "stream",
     "text": [
      "Epoch 51/100 | Loss: 0.92428 | Accuracy: 0.50% | Precision: 0.28% | Recall: 0.49%\n"
     ]
    },
    {
     "name": "stderr",
     "output_type": "stream",
     "text": [
      "                                                                                               "
     ]
    },
    {
     "name": "stdout",
     "output_type": "stream",
     "text": [
      "Epoch 52/100 | Loss: 0.92417 | Accuracy: 0.48% | Precision: 0.33% | Recall: 0.57%\n"
     ]
    },
    {
     "name": "stderr",
     "output_type": "stream",
     "text": [
      "Epoch 53/100:   0%|          | 0/358 [02:09<?, ?it/s, Loss=0.966, Acc=0.608, Prec=0, Rec=0]           "
     ]
    },
    {
     "name": "stdout",
     "output_type": "stream",
     "text": [
      "Epoch 53/100 | Loss: 0.92430 | Accuracy: 0.51% | Precision: 0.32% | Recall: 0.46%\n"
     ]
    },
    {
     "name": "stderr",
     "output_type": "stream",
     "text": [
      "                                                                                           "
     ]
    },
    {
     "name": "stdout",
     "output_type": "stream",
     "text": [
      "Epoch 54/100 | Loss: 0.92416 | Accuracy: 0.51% | Precision: 0.31% | Recall: 0.46%\n"
     ]
    },
    {
     "name": "stderr",
     "output_type": "stream",
     "text": [
      "Epoch 55/100:   0%|          | 0/358 [02:09<?, ?it/s, Loss=0.846, Acc=0.723, Prec=0.267, Rec=0.138]  "
     ]
    },
    {
     "name": "stdout",
     "output_type": "stream",
     "text": [
      "Epoch 55/100 | Loss: 0.92406 | Accuracy: 0.51% | Precision: 0.34% | Recall: 0.48%\n"
     ]
    },
    {
     "name": "stderr",
     "output_type": "stream",
     "text": [
      "                                                                                                   "
     ]
    },
    {
     "name": "stdout",
     "output_type": "stream",
     "text": [
      "Epoch 56/100 | Loss: 0.92424 | Accuracy: 0.50% | Precision: 0.33% | Recall: 0.48%\n"
     ]
    },
    {
     "name": "stderr",
     "output_type": "stream",
     "text": [
      "Epoch 57/100:   0%|          | 0/358 [02:05<?, ?it/s, Loss=0.922, Acc=0.408, Prec=0.343, Rec=0.86]   "
     ]
    },
    {
     "name": "stdout",
     "output_type": "stream",
     "text": [
      "Epoch 57/100 | Loss: 0.92422 | Accuracy: 0.50% | Precision: 0.34% | Recall: 0.49%\n"
     ]
    },
    {
     "name": "stderr",
     "output_type": "stream",
     "text": [
      "                                                                                                  "
     ]
    },
    {
     "name": "stdout",
     "output_type": "stream",
     "text": [
      "Epoch 58/100 | Loss: 0.92416 | Accuracy: 0.46% | Precision: 0.30% | Recall: 0.62%\n"
     ]
    },
    {
     "name": "stderr",
     "output_type": "stream",
     "text": [
      "Epoch 59/100:   0%|          | 0/358 [02:10<?, ?it/s, Loss=0.906, Acc=0.392, Prec=0.307, Rec=0.775]  "
     ]
    },
    {
     "name": "stdout",
     "output_type": "stream",
     "text": [
      "Epoch 59/100 | Loss: 0.92416 | Accuracy: 0.51% | Precision: 0.24% | Recall: 0.47%\n"
     ]
    },
    {
     "name": "stderr",
     "output_type": "stream",
     "text": [
      "                                                                                                   "
     ]
    },
    {
     "name": "stdout",
     "output_type": "stream",
     "text": [
      "Epoch 60/100 | Loss: 0.92422 | Accuracy: 0.48% | Precision: 0.33% | Recall: 0.56%\n"
     ]
    },
    {
     "name": "stderr",
     "output_type": "stream",
     "text": [
      "Epoch 61/100:   0%|          | 0/358 [02:08<?, ?it/s, Loss=0.928, Acc=0.646, Prec=0, Rec=0]           "
     ]
    },
    {
     "name": "stdout",
     "output_type": "stream",
     "text": [
      "Epoch 61/100 | Loss: 0.92424 | Accuracy: 0.51% | Precision: 0.32% | Recall: 0.46%\n"
     ]
    },
    {
     "name": "stderr",
     "output_type": "stream",
     "text": [
      "                                                                                           "
     ]
    },
    {
     "name": "stdout",
     "output_type": "stream",
     "text": [
      "Epoch 62/100 | Loss: 0.92428 | Accuracy: 0.47% | Precision: 0.33% | Recall: 0.59%\n"
     ]
    },
    {
     "name": "stderr",
     "output_type": "stream",
     "text": [
      "Epoch 63/100:   0%|          | 0/358 [02:12<?, ?it/s, Loss=0.959, Acc=0.385, Prec=0.375, Rec=0.9]   "
     ]
    },
    {
     "name": "stdout",
     "output_type": "stream",
     "text": [
      "Epoch 63/100 | Loss: 0.92428 | Accuracy: 0.51% | Precision: 0.34% | Recall: 0.46%\n"
     ]
    },
    {
     "name": "stderr",
     "output_type": "stream",
     "text": [
      "                                                                                                 "
     ]
    },
    {
     "name": "stdout",
     "output_type": "stream",
     "text": [
      "Epoch 64/100 | Loss: 0.92418 | Accuracy: 0.47% | Precision: 0.32% | Recall: 0.60%\n"
     ]
    },
    {
     "name": "stderr",
     "output_type": "stream",
     "text": [
      "Epoch 65/100:   0%|          | 0/358 [02:14<?, ?it/s, Loss=0.9, Acc=0.654, Prec=0.286, Rec=0.103]     "
     ]
    },
    {
     "name": "stdout",
     "output_type": "stream",
     "text": [
      "Epoch 65/100 | Loss: 0.92416 | Accuracy: 0.50% | Precision: 0.34% | Recall: 0.49%\n"
     ]
    },
    {
     "name": "stderr",
     "output_type": "stream",
     "text": [
      "                                                                                                 "
     ]
    },
    {
     "name": "stdout",
     "output_type": "stream",
     "text": [
      "Epoch 66/100 | Loss: 0.92423 | Accuracy: 0.52% | Precision: 0.29% | Recall: 0.45%\n"
     ]
    },
    {
     "name": "stderr",
     "output_type": "stream",
     "text": [
      "Epoch 67/100:   0%|          | 0/358 [02:13<?, ?it/s, Loss=0.923, Acc=0.331, Prec=0.331, Rec=1]       "
     ]
    },
    {
     "name": "stdout",
     "output_type": "stream",
     "text": [
      "Epoch 67/100 | Loss: 0.92421 | Accuracy: 0.48% | Precision: 0.31% | Recall: 0.55%\n"
     ]
    },
    {
     "name": "stderr",
     "output_type": "stream",
     "text": [
      "                                                                                               "
     ]
    },
    {
     "name": "stdout",
     "output_type": "stream",
     "text": [
      "Epoch 68/100 | Loss: 0.92420 | Accuracy: 0.51% | Precision: 0.34% | Recall: 0.47%\n"
     ]
    },
    {
     "name": "stderr",
     "output_type": "stream",
     "text": [
      "Epoch 69/100:   0%|          | 0/358 [02:10<?, ?it/s, Loss=0.966, Acc=0.608, Prec=0, Rec=0]           "
     ]
    },
    {
     "name": "stdout",
     "output_type": "stream",
     "text": [
      "Epoch 69/100 | Loss: 0.92431 | Accuracy: 0.52% | Precision: 0.30% | Recall: 0.45%\n"
     ]
    },
    {
     "name": "stderr",
     "output_type": "stream",
     "text": [
      "                                                                                           "
     ]
    },
    {
     "name": "stdout",
     "output_type": "stream",
     "text": [
      "Epoch 70/100 | Loss: 0.92422 | Accuracy: 0.47% | Precision: 0.33% | Recall: 0.57%\n"
     ]
    },
    {
     "name": "stderr",
     "output_type": "stream",
     "text": [
      "Epoch 71/100:   0%|          | 0/358 [02:12<?, ?it/s, Loss=0.949, Acc=0.577, Prec=0.182, Rec=0.0417] "
     ]
    },
    {
     "name": "stdout",
     "output_type": "stream",
     "text": [
      "Epoch 71/100 | Loss: 0.92426 | Accuracy: 0.51% | Precision: 0.30% | Recall: 0.46%\n"
     ]
    },
    {
     "name": "stderr",
     "output_type": "stream",
     "text": [
      "                                                                                                    "
     ]
    },
    {
     "name": "stdout",
     "output_type": "stream",
     "text": [
      "Epoch 72/100 | Loss: 0.92421 | Accuracy: 0.48% | Precision: 0.31% | Recall: 0.57%\n"
     ]
    },
    {
     "name": "stderr",
     "output_type": "stream",
     "text": [
      "Epoch 73/100:   0%|          | 0/358 [02:12<?, ?it/s, Loss=0.933, Acc=0.623, Prec=0.167, Rec=0.0222]"
     ]
    },
    {
     "name": "stdout",
     "output_type": "stream",
     "text": [
      "Epoch 73/100 | Loss: 0.92424 | Accuracy: 0.47% | Precision: 0.33% | Recall: 0.60%\n"
     ]
    },
    {
     "name": "stderr",
     "output_type": "stream",
     "text": [
      "                                                                                                    "
     ]
    },
    {
     "name": "stdout",
     "output_type": "stream",
     "text": [
      "Epoch 74/100 | Loss: 0.92410 | Accuracy: 0.54% | Precision: 0.33% | Recall: 0.37%\n"
     ]
    },
    {
     "name": "stderr",
     "output_type": "stream",
     "text": [
      "Epoch 75/100:   0%|          | 0/358 [02:11<?, ?it/s, Loss=0.986, Acc=0.415, Prec=0.415, Rec=0.927]  "
     ]
    },
    {
     "name": "stdout",
     "output_type": "stream",
     "text": [
      "Epoch 75/100 | Loss: 0.92434 | Accuracy: 0.51% | Precision: 0.23% | Recall: 0.47%\n"
     ]
    },
    {
     "name": "stderr",
     "output_type": "stream",
     "text": [
      "                                                                                                   "
     ]
    },
    {
     "name": "stdout",
     "output_type": "stream",
     "text": [
      "Epoch 76/100 | Loss: 0.92421 | Accuracy: 0.47% | Precision: 0.29% | Recall: 0.59%\n"
     ]
    },
    {
     "name": "stderr",
     "output_type": "stream",
     "text": [
      "Epoch 77/100:   0%|          | 0/358 [02:14<?, ?it/s, Loss=0.901, Acc=0.331, Prec=0.31, Rec=1]       "
     ]
    },
    {
     "name": "stdout",
     "output_type": "stream",
     "text": [
      "Epoch 77/100 | Loss: 0.92415 | Accuracy: 0.49% | Precision: 0.29% | Recall: 0.53%\n"
     ]
    },
    {
     "name": "stderr",
     "output_type": "stream",
     "text": [
      "                                                                                              "
     ]
    },
    {
     "name": "stdout",
     "output_type": "stream",
     "text": [
      "Epoch 78/100 | Loss: 0.92419 | Accuracy: 0.49% | Precision: 0.33% | Recall: 0.52%\n"
     ]
    },
    {
     "name": "stderr",
     "output_type": "stream",
     "text": [
      "Epoch 79/100:   0%|          | 0/358 [02:11<?, ?it/s, Loss=0.932, Acc=0.377, Prec=0.357, Rec=1]       "
     ]
    },
    {
     "name": "stdout",
     "output_type": "stream",
     "text": [
      "Epoch 79/100 | Loss: 0.92422 | Accuracy: 0.55% | Precision: 0.29% | Recall: 0.37%\n"
     ]
    },
    {
     "name": "stderr",
     "output_type": "stream",
     "text": [
      "                                                                                               "
     ]
    },
    {
     "name": "stdout",
     "output_type": "stream",
     "text": [
      "Epoch 80/100 | Loss: 0.92419 | Accuracy: 0.50% | Precision: 0.34% | Recall: 0.49%\n"
     ]
    },
    {
     "name": "stderr",
     "output_type": "stream",
     "text": [
      "Epoch 81/100:   0%|          | 0/358 [02:13<?, ?it/s, Loss=0.906, Acc=0.662, Prec=0.333, Rec=0.1]     "
     ]
    },
    {
     "name": "stdout",
     "output_type": "stream",
     "text": [
      "Epoch 81/100 | Loss: 0.92417 | Accuracy: 0.53% | Precision: 0.33% | Recall: 0.40%\n"
     ]
    },
    {
     "name": "stderr",
     "output_type": "stream",
     "text": [
      "                                                                                                 "
     ]
    },
    {
     "name": "stdout",
     "output_type": "stream",
     "text": [
      "Epoch 82/100 | Loss: 0.92419 | Accuracy: 0.51% | Precision: 0.34% | Recall: 0.46%\n"
     ]
    },
    {
     "name": "stderr",
     "output_type": "stream",
     "text": [
      "Epoch 83/100:   0%|          | 0/358 [02:06<?, ?it/s, Loss=0.939, Acc=0.6, Prec=0.364, Rec=0.174]    "
     ]
    },
    {
     "name": "stdout",
     "output_type": "stream",
     "text": [
      "Epoch 83/100 | Loss: 0.92426 | Accuracy: 0.50% | Precision: 0.34% | Recall: 0.50%\n"
     ]
    },
    {
     "name": "stderr",
     "output_type": "stream",
     "text": [
      "                                                                                                 "
     ]
    },
    {
     "name": "stdout",
     "output_type": "stream",
     "text": [
      "Epoch 84/100 | Loss: 0.92436 | Accuracy: 0.49% | Precision: 0.33% | Recall: 0.52%\n"
     ]
    },
    {
     "name": "stderr",
     "output_type": "stream",
     "text": [
      "Epoch 85/100:   0%|          | 0/358 [02:11<?, ?it/s, Loss=0.965, Acc=0.369, Prec=0.378, Rec=0.941]  "
     ]
    },
    {
     "name": "stdout",
     "output_type": "stream",
     "text": [
      "Epoch 85/100 | Loss: 0.92430 | Accuracy: 0.49% | Precision: 0.28% | Recall: 0.52%\n"
     ]
    },
    {
     "name": "stderr",
     "output_type": "stream",
     "text": [
      "                                                                                                   "
     ]
    },
    {
     "name": "stdout",
     "output_type": "stream",
     "text": [
      "Epoch 86/100 | Loss: 0.92429 | Accuracy: 0.48% | Precision: 0.31% | Recall: 0.57%\n"
     ]
    },
    {
     "name": "stderr",
     "output_type": "stream",
     "text": [
      "Epoch 87/100:   0%|          | 0/358 [02:07<?, ?it/s, Loss=0.949, Acc=0.6, Prec=0.25, Rec=0.0417]   "
     ]
    },
    {
     "name": "stdout",
     "output_type": "stream",
     "text": [
      "Epoch 87/100 | Loss: 0.92427 | Accuracy: 0.48% | Precision: 0.27% | Recall: 0.55%\n"
     ]
    },
    {
     "name": "stderr",
     "output_type": "stream",
     "text": [
      "                                                                                                 "
     ]
    },
    {
     "name": "stdout",
     "output_type": "stream",
     "text": [
      "Epoch 88/100 | Loss: 0.92425 | Accuracy: 0.52% | Precision: 0.30% | Recall: 0.45%\n"
     ]
    },
    {
     "name": "stderr",
     "output_type": "stream",
     "text": [
      "Epoch 89/100:   0%|          | 0/358 [02:15<?, ?it/s, Loss=0.912, Acc=0.377, Prec=0.331, Rec=0.951]   "
     ]
    },
    {
     "name": "stdout",
     "output_type": "stream",
     "text": [
      "Epoch 89/100 | Loss: 0.92420 | Accuracy: 0.48% | Precision: 0.33% | Recall: 0.56%\n"
     ]
    },
    {
     "name": "stderr",
     "output_type": "stream",
     "text": [
      "                                                                                                   "
     ]
    },
    {
     "name": "stdout",
     "output_type": "stream",
     "text": [
      "Epoch 90/100 | Loss: 0.92426 | Accuracy: 0.49% | Precision: 0.31% | Recall: 0.54%\n"
     ]
    },
    {
     "name": "stderr",
     "output_type": "stream",
     "text": [
      "Epoch 91/100:   0%|          | 0/358 [02:07<?, ?it/s, Loss=0.944, Acc=0.362, Prec=0.339, Rec=0.809]  "
     ]
    },
    {
     "name": "stdout",
     "output_type": "stream",
     "text": [
      "Epoch 91/100 | Loss: 0.92425 | Accuracy: 0.53% | Precision: 0.23% | Recall: 0.42%\n"
     ]
    },
    {
     "name": "stderr",
     "output_type": "stream",
     "text": [
      "                                                                                                   "
     ]
    },
    {
     "name": "stdout",
     "output_type": "stream",
     "text": [
      "Epoch 92/100 | Loss: 0.92420 | Accuracy: 0.45% | Precision: 0.28% | Recall: 0.63%\n"
     ]
    },
    {
     "name": "stderr",
     "output_type": "stream",
     "text": [
      "Epoch 93/100:   0%|          | 0/358 [02:13<?, ?it/s, Loss=0.971, Acc=0.6, Prec=0.5, Rec=0.135]      "
     ]
    },
    {
     "name": "stdout",
     "output_type": "stream",
     "text": [
      "Epoch 93/100 | Loss: 0.92432 | Accuracy: 0.51% | Precision: 0.28% | Recall: 0.46%\n"
     ]
    },
    {
     "name": "stderr",
     "output_type": "stream",
     "text": [
      "                                                                                               "
     ]
    },
    {
     "name": "stdout",
     "output_type": "stream",
     "text": [
      "Epoch 94/100 | Loss: 0.92423 | Accuracy: 0.57% | Precision: 0.29% | Recall: 0.29%\n"
     ]
    },
    {
     "name": "stderr",
     "output_type": "stream",
     "text": [
      "Epoch 95/100:   0%|          | 0/358 [02:10<?, ?it/s, Loss=0.955, Acc=0.546, Prec=0.25, Rec=0.102]   "
     ]
    },
    {
     "name": "stdout",
     "output_type": "stream",
     "text": [
      "Epoch 95/100 | Loss: 0.92429 | Accuracy: 0.43% | Precision: 0.32% | Recall: 0.70%\n"
     ]
    },
    {
     "name": "stderr",
     "output_type": "stream",
     "text": [
      "                                                                                                  "
     ]
    },
    {
     "name": "stdout",
     "output_type": "stream",
     "text": [
      "Epoch 96/100 | Loss: 0.92417 | Accuracy: 0.50% | Precision: 0.29% | Recall: 0.51%\n"
     ]
    },
    {
     "name": "stderr",
     "output_type": "stream",
     "text": [
      "Epoch 97/100:   0%|          | 0/358 [02:09<?, ?it/s, Loss=0.901, Acc=0.669, Prec=0.25, Rec=0.0513]   "
     ]
    },
    {
     "name": "stdout",
     "output_type": "stream",
     "text": [
      "Epoch 97/100 | Loss: 0.92417 | Accuracy: 0.50% | Precision: 0.30% | Recall: 0.49%\n"
     ]
    },
    {
     "name": "stderr",
     "output_type": "stream",
     "text": [
      "                                                                                                   "
     ]
    },
    {
     "name": "stdout",
     "output_type": "stream",
     "text": [
      "Epoch 98/100 | Loss: 0.92424 | Accuracy: 0.56% | Precision: 0.34% | Recall: 0.33%\n"
     ]
    },
    {
     "name": "stderr",
     "output_type": "stream",
     "text": [
      "Epoch 99/100:   0%|          | 0/358 [02:08<?, ?it/s, Loss=0.895, Acc=0.708, Prec=0, Rec=0]          "
     ]
    },
    {
     "name": "stdout",
     "output_type": "stream",
     "text": [
      "Epoch 99/100 | Loss: 0.92416 | Accuracy: 0.48% | Precision: 0.29% | Recall: 0.55%\n"
     ]
    },
    {
     "name": "stderr",
     "output_type": "stream",
     "text": [
      "                                                                                           "
     ]
    },
    {
     "name": "stdout",
     "output_type": "stream",
     "text": [
      "Epoch 100/100 | Loss: 0.92416 | Accuracy: 0.51% | Precision: 0.25% | Recall: 0.47%\n"
     ]
    }
   ],
   "source": [
    "from tqdm import tqdm\n",
    "from torchmetrics import Accuracy, Precision, Recall\n",
    "from torchvision.ops import sigmoid_focal_loss\n",
    "from torch import nn\n",
    "\n",
    "\n",
    "model = TransformerClassifier(input_dim=in_dim).to(device)\n",
    "pos_weight = torch.tensor([2], dtype=torch.float32).to(device)\n",
    "loss_fn = nn.BCEWithLogitsLoss(pos_weight=pos_weight)\n",
    "optimizer = torch.optim.AdamW(model.parameters(), lr=0.001) \n",
    "\n",
    "epochs = 100\n",
    "epoch_counter = []\n",
    "loss_counter = []\n",
    "acc_counter = []\n",
    "\n",
    "t_accuracy = Accuracy(task='binary').to(device)\n",
    "t_precision = Precision(task='binary').to(device)\n",
    "t_recall = Recall(task='binary').to(device)\n",
    "\n",
    "for epoch in range(epochs):\n",
    "    model.train()\n",
    "    epoch_loss, epoch_acc, epoch_prec, epoch_rec = 0, 0, 0, 0\n",
    "    \n",
    "    progress_bar = tqdm(train_loader, desc=f\"Epoch {epoch+1}/{epochs}\", leave=False)\n",
    "\n",
    "    for X_batch, y_batch in train_loader:\n",
    "        X_batch, y_batch = X_batch.to(device), y_batch.to(device)\n",
    "        # forward pass\n",
    "        y_logits = model(X_batch)\n",
    "        # print(\"Logits sample:\", y_logits[:5].detach().cpu().numpy())  # Should have positive values too\n",
    "        y_probs = torch.sigmoid(y_logits)\n",
    "        # because the dataset is too imbalance\n",
    "        y_preds = torch.round(y_probs)\n",
    "\n",
    "        # loss function\n",
    "        loss = loss_fn(y_logits, y_batch.unsqueeze(1).float())\n",
    "        \n",
    "        acc = t_accuracy(y_preds, y_batch.unsqueeze(1).float())\n",
    "        prec = t_precision(y_preds, y_batch.unsqueeze(1).float())\n",
    "        rec = t_recall(y_preds, y_batch.unsqueeze(1).float())\n",
    "        \n",
    "        # zero grad\n",
    "        optimizer.zero_grad()\n",
    "        # backpropagation\n",
    "        loss.backward()\n",
    "        # optimizer\n",
    "        optimizer.step()\n",
    "\n",
    "        # update epoch metrics\n",
    "        epoch_loss += loss.item()\n",
    "        epoch_acc += acc\n",
    "        epoch_prec += prec\n",
    "        epoch_rec += rec\n",
    "        \n",
    "        progress_bar.set_postfix({\"Loss\": loss.item(), \"Acc\": acc.item(), \"Prec\": prec.item(), \"Rec\": rec.item()})\n",
    "\n",
    "    epoch_loss /= len(train_loader)\n",
    "    epoch_acc /= len(train_loader)\n",
    "    epoch_prec /= len(train_loader)\n",
    "    epoch_rec /= len(train_loader)\n",
    "    acc_counter.append(epoch_acc)\n",
    "    \n",
    "    print(f\"Epoch {epoch+1}/{epochs} | Loss: {epoch_loss:.5f} | Accuracy: {epoch_acc:.2f}% | Precision: {epoch_prec:.2f}% | Recall: {epoch_rec:.2f}%\")"
   ]
  },
  {
   "cell_type": "markdown",
   "metadata": {},
   "source": [
    "## Save model and predictions"
   ]
  },
  {
   "cell_type": "code",
   "execution_count": 11,
   "metadata": {},
   "outputs": [],
   "source": [
    "from pathlib import Path\n",
    "\n",
    "# save the model\n",
    "model_path = Path('./saved')\n",
    "model_path.mkdir(exist_ok=True)\n",
    "model_file = model_path / f\"{MODEL_V}.pth\"\n",
    "\n",
    "torch.save(model.state_dict(), model_file)"
   ]
  },
  {
   "cell_type": "code",
   "execution_count": 12,
   "metadata": {},
   "outputs": [
    {
     "name": "stderr",
     "output_type": "stream",
     "text": [
      "/Users/damianstone/Documents/Code/machine-learning/dl-sepsis-prediction/venv-sepsis/lib/python3.12/site-packages/torch/nn/modules/transformer.py:286: UserWarning: enable_nested_tensor is True, but self.use_nested_tensor is False because encoder_layer.self_attn.batch_first was not True(use batch_first for better inference performance)\n",
      "  warnings.warn(f\"enable_nested_tensor is True, but self.use_nested_tensor is False because {why_not_sparsity_fast_path}\")\n"
     ]
    },
    {
     "data": {
      "text/plain": [
       "<All keys matched successfully>"
      ]
     },
     "execution_count": 12,
     "metadata": {},
     "output_type": "execute_result"
    }
   ],
   "source": [
    "model = TransformerClassifier(input_dim=in_dim, num_heads=n_heads)\n",
    "model.load_state_dict(torch.load(f\"./saved/{MODEL_V}.pth\"))"
   ]
  }
 ],
 "metadata": {
  "kernelspec": {
   "display_name": "venv-sepsis",
   "language": "python",
   "name": "python3"
  },
  "language_info": {
   "codemirror_mode": {
    "name": "ipython",
    "version": 3
   },
   "file_extension": ".py",
   "mimetype": "text/x-python",
   "name": "python",
   "nbconvert_exporter": "python",
   "pygments_lexer": "ipython3",
   "version": "3.12.0"
  }
 },
 "nbformat": 4,
 "nbformat_minor": 2
}
