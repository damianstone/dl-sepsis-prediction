{
 "cells": [
  {
   "cell_type": "markdown",
   "metadata": {},
   "source": [
    "## Imbalance dataset"
   ]
  },
  {
   "cell_type": "code",
   "execution_count": 1,
   "metadata": {},
   "outputs": [
    {
     "name": "stdout",
     "output_type": "stream",
     "text": [
      "2.2.2\n",
      "/Users/damianstone/Documents/Code/machine-learning/dl-sepsis-prediction\n"
     ]
    }
   ],
   "source": [
    "import os\n",
    "import sys\n",
    "import torch\n",
    "import pandas as pd\n",
    "import numpy as np\n",
    "import matplotlib.pyplot as plt\n",
    "\n",
    "from torch import nn\n",
    "\n",
    "print(torch.__version__)\n",
    "\n",
    "notebook_dir = os.getcwd()\n",
    "\n",
    "project_root = os.path.abspath(os.path.join(notebook_dir, \"../..\"))\n",
    "print(project_root)\n",
    "if project_root not in sys.path:\n",
    "    sys.path.append(project_root)\n"
   ]
  },
  {
   "cell_type": "markdown",
   "metadata": {},
   "source": [
    "### Import current imputed dataset"
   ]
  },
  {
   "cell_type": "code",
   "execution_count": null,
   "metadata": {},
   "outputs": [],
   "source": [
    "# DATA_PATH = get_data.get_dataset_abspath()\n",
    "# load_path = os.path.join(DATA_PATH, \"imputed_sofa.parquet\")\n",
    "# imputed_df = pd.read_parquet(load_path)\n",
    "\n",
    "# imputed_df.head(5)"
   ]
  },
  {
   "cell_type": "code",
   "execution_count": 2,
   "metadata": {},
   "outputs": [],
   "source": [
    "from utils import get_data\n",
    "\n",
    "DATA_PATH = get_data.get_dataset_abspath()\n",
    "load_path = os.path.join(DATA_PATH, \"Fully_imputed_dataset.parquet\")\n",
    "imputed_df = pd.read_parquet(load_path)\n"
   ]
  },
  {
   "cell_type": "code",
   "execution_count": 3,
   "metadata": {},
   "outputs": [
    {
     "data": {
      "text/html": [
       "<div>\n",
       "<style scoped>\n",
       "    .dataframe tbody tr th:only-of-type {\n",
       "        vertical-align: middle;\n",
       "    }\n",
       "\n",
       "    .dataframe tbody tr th {\n",
       "        vertical-align: top;\n",
       "    }\n",
       "\n",
       "    .dataframe thead th {\n",
       "        text-align: right;\n",
       "    }\n",
       "</style>\n",
       "<table border=\"1\" class=\"dataframe\">\n",
       "  <thead>\n",
       "    <tr style=\"text-align: right;\">\n",
       "      <th></th>\n",
       "      <th>HR</th>\n",
       "      <th>O2Sat</th>\n",
       "      <th>Temp</th>\n",
       "      <th>SBP</th>\n",
       "      <th>MAP</th>\n",
       "      <th>DBP</th>\n",
       "      <th>Resp</th>\n",
       "      <th>EtCO2</th>\n",
       "      <th>BaseExcess</th>\n",
       "      <th>HCO3</th>\n",
       "      <th>...</th>\n",
       "      <th>Age</th>\n",
       "      <th>Gender</th>\n",
       "      <th>Unit1</th>\n",
       "      <th>Unit2</th>\n",
       "      <th>HospAdmTime</th>\n",
       "      <th>ICULOS</th>\n",
       "      <th>SepsisLabel</th>\n",
       "      <th>patient_id</th>\n",
       "      <th>dataset</th>\n",
       "      <th>cluster_id</th>\n",
       "    </tr>\n",
       "  </thead>\n",
       "  <tbody>\n",
       "    <tr>\n",
       "      <th>0</th>\n",
       "      <td>102.108491</td>\n",
       "      <td>91.419811</td>\n",
       "      <td>36.919203</td>\n",
       "      <td>128.165094</td>\n",
       "      <td>88.199717</td>\n",
       "      <td>67.007325</td>\n",
       "      <td>24.712264</td>\n",
       "      <td>29.6875</td>\n",
       "      <td>0.091837</td>\n",
       "      <td>22.811236</td>\n",
       "      <td>...</td>\n",
       "      <td>83.14</td>\n",
       "      <td>0</td>\n",
       "      <td>0.755119</td>\n",
       "      <td>0.244881</td>\n",
       "      <td>-0.03</td>\n",
       "      <td>1</td>\n",
       "      <td>0</td>\n",
       "      <td>1</td>\n",
       "      <td>A</td>\n",
       "      <td>0_9_4_3_X_X_X</td>\n",
       "    </tr>\n",
       "    <tr>\n",
       "      <th>1</th>\n",
       "      <td>97.000000</td>\n",
       "      <td>95.000000</td>\n",
       "      <td>36.919203</td>\n",
       "      <td>98.000000</td>\n",
       "      <td>75.330000</td>\n",
       "      <td>67.007325</td>\n",
       "      <td>19.000000</td>\n",
       "      <td>29.6875</td>\n",
       "      <td>0.091837</td>\n",
       "      <td>22.811236</td>\n",
       "      <td>...</td>\n",
       "      <td>83.14</td>\n",
       "      <td>0</td>\n",
       "      <td>0.755119</td>\n",
       "      <td>0.244881</td>\n",
       "      <td>-0.03</td>\n",
       "      <td>2</td>\n",
       "      <td>0</td>\n",
       "      <td>1</td>\n",
       "      <td>A</td>\n",
       "      <td>0_9_4_3_X_X_X</td>\n",
       "    </tr>\n",
       "    <tr>\n",
       "      <th>2</th>\n",
       "      <td>89.000000</td>\n",
       "      <td>99.000000</td>\n",
       "      <td>36.919203</td>\n",
       "      <td>122.000000</td>\n",
       "      <td>86.000000</td>\n",
       "      <td>67.007325</td>\n",
       "      <td>22.000000</td>\n",
       "      <td>29.6875</td>\n",
       "      <td>0.091837</td>\n",
       "      <td>22.811236</td>\n",
       "      <td>...</td>\n",
       "      <td>83.14</td>\n",
       "      <td>0</td>\n",
       "      <td>0.755119</td>\n",
       "      <td>0.244881</td>\n",
       "      <td>-0.03</td>\n",
       "      <td>3</td>\n",
       "      <td>0</td>\n",
       "      <td>1</td>\n",
       "      <td>A</td>\n",
       "      <td>0_9_4_3_X_X_X</td>\n",
       "    </tr>\n",
       "    <tr>\n",
       "      <th>3</th>\n",
       "      <td>90.000000</td>\n",
       "      <td>95.000000</td>\n",
       "      <td>36.919203</td>\n",
       "      <td>122.000000</td>\n",
       "      <td>88.665000</td>\n",
       "      <td>67.007325</td>\n",
       "      <td>30.000000</td>\n",
       "      <td>29.6875</td>\n",
       "      <td>24.000000</td>\n",
       "      <td>22.811236</td>\n",
       "      <td>...</td>\n",
       "      <td>83.14</td>\n",
       "      <td>0</td>\n",
       "      <td>0.755119</td>\n",
       "      <td>0.244881</td>\n",
       "      <td>-0.03</td>\n",
       "      <td>4</td>\n",
       "      <td>0</td>\n",
       "      <td>1</td>\n",
       "      <td>A</td>\n",
       "      <td>0_9_4_3_X_X_X</td>\n",
       "    </tr>\n",
       "    <tr>\n",
       "      <th>4</th>\n",
       "      <td>103.000000</td>\n",
       "      <td>88.500000</td>\n",
       "      <td>36.919203</td>\n",
       "      <td>122.000000</td>\n",
       "      <td>91.330000</td>\n",
       "      <td>67.007325</td>\n",
       "      <td>24.500000</td>\n",
       "      <td>29.6875</td>\n",
       "      <td>0.091837</td>\n",
       "      <td>22.811236</td>\n",
       "      <td>...</td>\n",
       "      <td>83.14</td>\n",
       "      <td>0</td>\n",
       "      <td>0.755119</td>\n",
       "      <td>0.244881</td>\n",
       "      <td>-0.03</td>\n",
       "      <td>5</td>\n",
       "      <td>0</td>\n",
       "      <td>1</td>\n",
       "      <td>A</td>\n",
       "      <td>0_9_4_3_X_X_X</td>\n",
       "    </tr>\n",
       "  </tbody>\n",
       "</table>\n",
       "<p>5 rows × 44 columns</p>\n",
       "</div>"
      ],
      "text/plain": [
       "           HR      O2Sat       Temp         SBP        MAP        DBP  \\\n",
       "0  102.108491  91.419811  36.919203  128.165094  88.199717  67.007325   \n",
       "1   97.000000  95.000000  36.919203   98.000000  75.330000  67.007325   \n",
       "2   89.000000  99.000000  36.919203  122.000000  86.000000  67.007325   \n",
       "3   90.000000  95.000000  36.919203  122.000000  88.665000  67.007325   \n",
       "4  103.000000  88.500000  36.919203  122.000000  91.330000  67.007325   \n",
       "\n",
       "        Resp    EtCO2  BaseExcess       HCO3  ...    Age  Gender     Unit1  \\\n",
       "0  24.712264  29.6875    0.091837  22.811236  ...  83.14       0  0.755119   \n",
       "1  19.000000  29.6875    0.091837  22.811236  ...  83.14       0  0.755119   \n",
       "2  22.000000  29.6875    0.091837  22.811236  ...  83.14       0  0.755119   \n",
       "3  30.000000  29.6875   24.000000  22.811236  ...  83.14       0  0.755119   \n",
       "4  24.500000  29.6875    0.091837  22.811236  ...  83.14       0  0.755119   \n",
       "\n",
       "      Unit2  HospAdmTime  ICULOS  SepsisLabel  patient_id  dataset  \\\n",
       "0  0.244881        -0.03       1            0           1        A   \n",
       "1  0.244881        -0.03       2            0           1        A   \n",
       "2  0.244881        -0.03       3            0           1        A   \n",
       "3  0.244881        -0.03       4            0           1        A   \n",
       "4  0.244881        -0.03       5            0           1        A   \n",
       "\n",
       "      cluster_id  \n",
       "0  0_9_4_3_X_X_X  \n",
       "1  0_9_4_3_X_X_X  \n",
       "2  0_9_4_3_X_X_X  \n",
       "3  0_9_4_3_X_X_X  \n",
       "4  0_9_4_3_X_X_X  \n",
       "\n",
       "[5 rows x 44 columns]"
      ]
     },
     "execution_count": 3,
     "metadata": {},
     "output_type": "execute_result"
    }
   ],
   "source": [
    "imputed_df.head(5)"
   ]
  },
  {
   "cell_type": "code",
   "execution_count": 4,
   "metadata": {},
   "outputs": [
    {
     "name": "stdout",
     "output_type": "stream",
     "text": [
      "Total patients: 40336\n",
      "Percentage of true positive sepsis patients: 7.27%\n"
     ]
    }
   ],
   "source": [
    "unique_patients = imputed_df['patient_id'].nunique()\n",
    "positive_patients = imputed_df.groupby('patient_id')['SepsisLabel'].max().sum()\n",
    "percentage_positive = (positive_patients / unique_patients) * 100\n",
    "print(\"Total patients:\", unique_patients)\n",
    "print(\"Percentage of true positive sepsis patients: {:.2f}%\".format(percentage_positive))"
   ]
  },
  {
   "cell_type": "code",
   "execution_count": 6,
   "metadata": {},
   "outputs": [],
   "source": [
    "groputed_by_patient = imputed_df.groupby('patient_id').head(1)"
   ]
  },
  {
   "cell_type": "markdown",
   "metadata": {},
   "source": [
    "### Quick exploration"
   ]
  },
  {
   "cell_type": "code",
   "execution_count": 5,
   "metadata": {},
   "outputs": [
    {
     "name": "stdout",
     "output_type": "stream",
     "text": [
      "Label 0: 37404 (92.73%)\n",
      "Label 1: 2932 (7.27%)\n"
     ]
    },
    {
     "data": {
      "image/png": "[encoded data removed]",
      "text/plain": [
       "<Figure size 640x480 with 1 Axes>"
      ]
     },
     "metadata": {},
     "output_type": "display_data"
    },
    {
     "name": "stdout",
     "output_type": "stream",
     "text": [
      "Patient-level balance statistics:\n",
      "Total patients: 40336\n",
      "Label 0: 37404 patients (92.73%)\n",
      "Label 1: 2932 patients (7.27%)\n",
      "Imbalance ratio (majority/minority): 12.76\n",
      "\n",
      "Reflection:\n",
      "Positive cases are only 7.27% of patients. This is very low for our sepsis challenge.\n",
      "Consider applying resampling or cost-sensitive methods to create a richer dataset for training.\n"
     ]
    }
   ],
   "source": [
    "def balance_report(df):\n",
    "    patient_df = df.groupby(\"patient_id\")[\"SepsisLabel\"].max().reset_index()\n",
    "    counts = patient_df[\"SepsisLabel\"].value_counts()\n",
    "    total = counts.sum()\n",
    "    for label, count in counts.items():\n",
    "        print(f\"Label {label}: {count} ({(count / total * 100):.2f}%)\")\n",
    "    \n",
    "    counts.plot(kind=\"bar\", title=f\"Balance of SepsisLabel (per patient)\")\n",
    "    plt.xlabel(\"Class\")\n",
    "    plt.ylabel(\"Count\")\n",
    "    plt.show()\n",
    "\n",
    "def display_balance_statistics(df, plot=True):\n",
    "    patient_df = df.groupby(\"patient_id\")[\"SepsisLabel\"].max().reset_index()\n",
    "    counts = patient_df[\"SepsisLabel\"].value_counts()\n",
    "    total_patients = counts.sum()\n",
    "    print(\"Patient-level balance statistics:\")\n",
    "    print(\"Total patients:\", total_patients)\n",
    "    for label, count in counts.items():\n",
    "        perc = (count / total_patients) * 100\n",
    "        print(f\"Label {label}: {count} patients ({perc:.2f}%)\")\n",
    "    if len(counts) >= 2:\n",
    "        imbalance_ratio = counts.max() / counts.min()\n",
    "        print(f\"Imbalance ratio (majority/minority): {imbalance_ratio:.2f}\")\n",
    "    else:\n",
    "        print(\"Only one class present; check your data!\")\n",
    "    \n",
    "    minority_percentage = counts.min() / total_patients * 100\n",
    "    print(\"\\nReflection:\")\n",
    "    if minority_percentage < 10:\n",
    "        print(f\"Positive cases are only {minority_percentage:.2f}% of patients. This is very low for our sepsis challenge.\")\n",
    "        print(\"Consider applying resampling or cost-sensitive methods to create a richer dataset for training.\")\n",
    "    else:\n",
    "        print(\"The balance between classes seems acceptable.\")\n",
    "\n",
    "\n",
    "balance_report(imputed_df)\n",
    "display_balance_statistics(imputed_df)"
   ]
  },
  {
   "cell_type": "markdown",
   "metadata": {},
   "source": [
    "## Technique 1: balance dataset with oversample / undersample"
   ]
  },
  {
   "cell_type": "code",
   "execution_count": 8,
   "metadata": {},
   "outputs": [],
   "source": [
    "from sklearn.utils import resample\n",
    "\n",
    "\n",
    "def balance_over_under_sample(df, method=\"oversample\", minority_ratio=0.5):\n",
    "    \"\"\"\n",
    "    Balances the dataset at the patient level.\n",
    "    \n",
    "    Each patient's overall sepsis label is taken as the maximum value\n",
    "    (if any record shows sepsis, the patient is marked as septic).\n",
    "    \n",
    "    We then either oversample the septic (minority) patients or undersample\n",
    "    the non-septic (majority) patients to change the ratio.\n",
    "    \n",
    "    In the final dataset, each copy of a patient gets a unique ID so that\n",
    "    oversampled patients appear as separate instances.\n",
    "    \"\"\"\n",
    "    # Create a patient-level summary with one record per patient.\n",
    "    patient_df = df.groupby(\"patient_id\")[\"SepsisLabel\"].max().reset_index()\n",
    "    \n",
    "    # Count patients in each group.\n",
    "    counts = patient_df[\"SepsisLabel\"].value_counts()\n",
    "    majority_class = counts.idxmax()  # e.g., non-septic (0)\n",
    "    minority_class = counts.idxmin()  # e.g., septic (1)\n",
    "    \n",
    "    # Split the patients into majority and minority groups.\n",
    "    majority_patients = patient_df[patient_df[\"SepsisLabel\"] == majority_class]\n",
    "    minority_patients = patient_df[patient_df[\"SepsisLabel\"] == minority_class]\n",
    "    \n",
    "    # Resample based on the chosen method.\n",
    "    if method == \"oversample\":\n",
    "        # Duplicate minority patients to reach desired ratio.\n",
    "        # n_samples = int(len(majority_patients) * minority_ratio)\n",
    "        n_desired_minority = int((minority_ratio * len(majority_patients)) / (1 - minority_ratio))\n",
    "        minority_upsampled = resample(minority_patients, replace=True, \n",
    "                                      n_samples=n_desired_minority, random_state=42)\n",
    "        balanced_patient_df = pd.concat([majority_patients, minority_upsampled])\n",
    "    elif method == \"undersample\":\n",
    "        # Remove some majority patients to reach desired ratio.\n",
    "        # n_samples = int(len(minority_patients) / minority_ratio)\n",
    "        n_desired_majority = int(((1 - minority_ratio) / minority_ratio) * len(minority_patients))\n",
    "        majority_downsampled = resample(majority_patients, replace=False, \n",
    "                                        n_samples=n_desired_majority, random_state=42)\n",
    "        balanced_patient_df = pd.concat([majority_downsampled, minority_patients])\n",
    "    else:\n",
    "        raise ValueError(\"Method must be 'oversample' or 'undersample'\")\n",
    "    \n",
    "    # Rebuild the full dataset with patient records.\n",
    "    # If a patient appears more than once due to resampling,\n",
    "    # assign a new unique patient ID to each duplicate.\n",
    "    final_dfs = []\n",
    "    patient_occurrences = {}\n",
    "    \n",
    "    for pid in balanced_patient_df[\"patient_id\"]:\n",
    "        # Get all records for this patient.\n",
    "        patient_records = df[df[\"patient_id\"] == pid].copy()\n",
    "        # Count how many times this patient has been added.\n",
    "        if pid in patient_occurrences:\n",
    "            patient_occurrences[pid] += 1\n",
    "            # Create a new unique ID by appending a suffix.\n",
    "            new_pid = f\"{pid}_dup{patient_occurrences[pid]}\"\n",
    "            patient_records[\"patient_id\"] = new_pid\n",
    "        else:\n",
    "            patient_occurrences[pid] = 0  # first occurrence, keep original ID\n",
    "        final_dfs.append(patient_records)\n",
    "    \n",
    "    balanced_df = pd.concat(final_dfs, ignore_index=True)\n",
    "    \n",
    "    return balanced_df\n",
    "\n"
   ]
  },
  {
   "cell_type": "markdown",
   "metadata": {},
   "source": [
    "### Oversample"
   ]
  },
  {
   "cell_type": "code",
   "execution_count": 9,
   "metadata": {},
   "outputs": [
    {
     "name": "stdout",
     "output_type": "stream",
     "text": [
      "Label 0: 37404 (50.00%)\n",
      "Label 1: 37404 (50.00%)\n"
     ]
    },
    {
     "data": {
      "image/png": "[encoded data removed]",
      "text/plain": [
       "<Figure size 640x480 with 1 Axes>"
      ]
     },
     "metadata": {},
     "output_type": "display_data"
    },
    {
     "name": "stdout",
     "output_type": "stream",
     "text": [
      "Patient-level balance statistics:\n",
      "Total patients: 74808\n",
      "Label 0: 37404 patients (50.00%)\n",
      "Label 1: 37404 patients (50.00%)\n",
      "Imbalance ratio (majority/minority): 1.00\n",
      "\n",
      "Reflection:\n",
      "The balance between classes seems acceptable.\n"
     ]
    }
   ],
   "source": [
    "balanced_df = balance_over_under_sample(imputed_df, method=\"oversample\", minority_ratio=0.5)\n",
    "balance_report(balanced_df)\n",
    "display_balance_statistics(balanced_df)"
   ]
  },
  {
   "cell_type": "markdown",
   "metadata": {},
   "source": [
    "### Undersample"
   ]
  },
  {
   "cell_type": "code",
   "execution_count": 11,
   "metadata": {},
   "outputs": [
    {
     "name": "stdout",
     "output_type": "stream",
     "text": [
      "Label 0: 5864 (66.67%)\n",
      "Label 1: 2932 (33.33%)\n"
     ]
    },
    {
     "data": {
      "image/png": "[encoded data removed]",
      "text/plain": [
       "<Figure size 640x480 with 1 Axes>"
      ]
     },
     "metadata": {},
     "output_type": "display_data"
    },
    {
     "name": "stdout",
     "output_type": "stream",
     "text": [
      "Patient-level balance statistics:\n",
      "Total patients: 8796\n",
      "Label 0: 5864 patients (66.67%)\n",
      "Label 1: 2932 patients (33.33%)\n",
      "Imbalance ratio (majority/minority): 2.00\n",
      "\n",
      "Reflection:\n",
      "The balance between classes seems acceptable.\n"
     ]
    }
   ],
   "source": [
    "under_balanced_df = balance_over_under_sample(imputed_df, method=\"undersample\", minority_ratio=0.5)\n",
    "balance_report(under_balanced_df)\n",
    "display_balance_statistics(under_balanced_df)"
   ]
  },
  {
   "cell_type": "markdown",
   "metadata": {},
   "source": [
    "## Technique 2: Waight random sampler\n",
    "https://www.kaggle.com/code/syzygyfy/addressing-the-class-imbalance-in-pytorch"
   ]
  }
 ],
 "metadata": {
  "kernelspec": {
   "display_name": "venv-sepsis",
   "language": "python",
   "name": "python3"
  },
  "language_info": {
   "codemirror_mode": {
    "name": "ipython",
    "version": 3
   },
   "file_extension": ".py",
   "mimetype": "text/x-python",
   "name": "python",
   "nbconvert_exporter": "python",
   "pygments_lexer": "ipython3",
   "version": "3.12.0"
  }
 },
 "nbformat": 4,
 "nbformat_minor": 2
}
