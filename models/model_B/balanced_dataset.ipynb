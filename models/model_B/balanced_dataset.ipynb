{
 "cells": [
  {
   "cell_type": "markdown",
   "metadata": {},
   "source": [
    "## Imbalance dataset"
   ]
  },
  {
   "cell_type": "code",
   "execution_count": 2,
   "metadata": {},
   "outputs": [
    {
     "name": "stdout",
     "output_type": "stream",
     "text": [
      "2.2.2\n",
      "/Users/damianstone/Documents/Code/machine-learning/dl-sepsis-prediction\n"
     ]
    }
   ],
   "source": [
    "import os\n",
    "import sys\n",
    "import torch\n",
    "import pandas as pd\n",
    "import numpy as np\n",
    "import matplotlib.pyplot as plt\n",
    "\n",
    "from torch import nn\n",
    "\n",
    "print(torch.__version__)\n",
    "\n",
    "notebook_dir = os.getcwd()\n",
    "\n",
    "project_root = os.path.abspath(os.path.join(notebook_dir, \"../..\"))\n",
    "print(project_root)\n",
    "if project_root not in sys.path:\n",
    "    sys.path.append(project_root)\n"
   ]
  },
  {
   "cell_type": "markdown",
   "metadata": {},
   "source": [
    "### Import current imputed dataset"
   ]
  },
  {
   "cell_type": "code",
   "execution_count": null,
   "metadata": {},
   "outputs": [],
   "source": [
    "# DATA_PATH = get_data.get_dataset_abspath()\n",
    "# load_path = os.path.join(DATA_PATH, \"imputed_sofa.parquet\")\n",
    "# imputed_df = pd.read_parquet(load_path)\n",
    "\n",
    "# imputed_df.head(5)"
   ]
  },
  {
   "cell_type": "code",
   "execution_count": 3,
   "metadata": {},
   "outputs": [],
   "source": [
    "from utils import get_data\n",
    "\n",
    "DATA_PATH = get_data.get_dataset_abspath()\n",
    "load_path = os.path.join(DATA_PATH, \"imputed_combined_data.parquet\")\n",
    "imputed_df = pd.read_parquet(load_path)\n"
   ]
  },
  {
   "cell_type": "code",
   "execution_count": 4,
   "metadata": {},
   "outputs": [
    {
     "data": {
      "text/html": [
       "<div>\n",
       "<style scoped>\n",
       "    .dataframe tbody tr th:only-of-type {\n",
       "        vertical-align: middle;\n",
       "    }\n",
       "\n",
       "    .dataframe tbody tr th {\n",
       "        vertical-align: top;\n",
       "    }\n",
       "\n",
       "    .dataframe thead th {\n",
       "        text-align: right;\n",
       "    }\n",
       "</style>\n",
       "<table border=\"1\" class=\"dataframe\">\n",
       "  <thead>\n",
       "    <tr style=\"text-align: right;\">\n",
       "      <th></th>\n",
       "      <th>HR</th>\n",
       "      <th>O2Sat</th>\n",
       "      <th>Temp</th>\n",
       "      <th>SBP</th>\n",
       "      <th>MAP</th>\n",
       "      <th>DBP</th>\n",
       "      <th>Resp</th>\n",
       "      <th>BaseExcess</th>\n",
       "      <th>HCO3</th>\n",
       "      <th>FiO2</th>\n",
       "      <th>...</th>\n",
       "      <th>Age</th>\n",
       "      <th>Gender</th>\n",
       "      <th>Unit1</th>\n",
       "      <th>Unit2</th>\n",
       "      <th>HospAdmTime</th>\n",
       "      <th>ICULOS</th>\n",
       "      <th>SepsisLabel</th>\n",
       "      <th>patient_id</th>\n",
       "      <th>dataset</th>\n",
       "      <th>cluster_id</th>\n",
       "    </tr>\n",
       "  </thead>\n",
       "  <tbody>\n",
       "    <tr>\n",
       "      <th>0</th>\n",
       "      <td>102.108491</td>\n",
       "      <td>91.419811</td>\n",
       "      <td>36.789519</td>\n",
       "      <td>128.165094</td>\n",
       "      <td>88.199717</td>\n",
       "      <td>71.73211</td>\n",
       "      <td>24.712264</td>\n",
       "      <td>-0.288406</td>\n",
       "      <td>23.835971</td>\n",
       "      <td>0.467029</td>\n",
       "      <td>...</td>\n",
       "      <td>83.14</td>\n",
       "      <td>0</td>\n",
       "      <td>0.715787</td>\n",
       "      <td>0.284213</td>\n",
       "      <td>-0.03</td>\n",
       "      <td>1</td>\n",
       "      <td>0</td>\n",
       "      <td>1</td>\n",
       "      <td>A</td>\n",
       "      <td>0_9_2_2_X_X_X</td>\n",
       "    </tr>\n",
       "    <tr>\n",
       "      <th>1</th>\n",
       "      <td>97.000000</td>\n",
       "      <td>95.000000</td>\n",
       "      <td>36.789519</td>\n",
       "      <td>98.000000</td>\n",
       "      <td>75.330000</td>\n",
       "      <td>71.73211</td>\n",
       "      <td>19.000000</td>\n",
       "      <td>-0.288406</td>\n",
       "      <td>23.835971</td>\n",
       "      <td>0.467029</td>\n",
       "      <td>...</td>\n",
       "      <td>83.14</td>\n",
       "      <td>0</td>\n",
       "      <td>0.715787</td>\n",
       "      <td>0.284213</td>\n",
       "      <td>-0.03</td>\n",
       "      <td>2</td>\n",
       "      <td>0</td>\n",
       "      <td>1</td>\n",
       "      <td>A</td>\n",
       "      <td>0_9_2_2_X_X_X</td>\n",
       "    </tr>\n",
       "    <tr>\n",
       "      <th>2</th>\n",
       "      <td>89.000000</td>\n",
       "      <td>99.000000</td>\n",
       "      <td>36.789519</td>\n",
       "      <td>122.000000</td>\n",
       "      <td>86.000000</td>\n",
       "      <td>71.73211</td>\n",
       "      <td>22.000000</td>\n",
       "      <td>-0.288406</td>\n",
       "      <td>23.835971</td>\n",
       "      <td>0.467029</td>\n",
       "      <td>...</td>\n",
       "      <td>83.14</td>\n",
       "      <td>0</td>\n",
       "      <td>0.715787</td>\n",
       "      <td>0.284213</td>\n",
       "      <td>-0.03</td>\n",
       "      <td>3</td>\n",
       "      <td>0</td>\n",
       "      <td>1</td>\n",
       "      <td>A</td>\n",
       "      <td>0_9_2_2_X_X_X</td>\n",
       "    </tr>\n",
       "    <tr>\n",
       "      <th>3</th>\n",
       "      <td>90.000000</td>\n",
       "      <td>95.000000</td>\n",
       "      <td>36.789519</td>\n",
       "      <td>122.000000</td>\n",
       "      <td>88.665000</td>\n",
       "      <td>71.73211</td>\n",
       "      <td>30.000000</td>\n",
       "      <td>24.000000</td>\n",
       "      <td>23.835971</td>\n",
       "      <td>0.467029</td>\n",
       "      <td>...</td>\n",
       "      <td>83.14</td>\n",
       "      <td>0</td>\n",
       "      <td>0.715787</td>\n",
       "      <td>0.284213</td>\n",
       "      <td>-0.03</td>\n",
       "      <td>4</td>\n",
       "      <td>0</td>\n",
       "      <td>1</td>\n",
       "      <td>A</td>\n",
       "      <td>0_9_2_2_X_X_X</td>\n",
       "    </tr>\n",
       "    <tr>\n",
       "      <th>4</th>\n",
       "      <td>103.000000</td>\n",
       "      <td>88.500000</td>\n",
       "      <td>36.789519</td>\n",
       "      <td>122.000000</td>\n",
       "      <td>91.330000</td>\n",
       "      <td>71.73211</td>\n",
       "      <td>24.500000</td>\n",
       "      <td>-0.288406</td>\n",
       "      <td>23.835971</td>\n",
       "      <td>0.280000</td>\n",
       "      <td>...</td>\n",
       "      <td>83.14</td>\n",
       "      <td>0</td>\n",
       "      <td>0.715787</td>\n",
       "      <td>0.284213</td>\n",
       "      <td>-0.03</td>\n",
       "      <td>5</td>\n",
       "      <td>0</td>\n",
       "      <td>1</td>\n",
       "      <td>A</td>\n",
       "      <td>0_9_2_2_X_X_X</td>\n",
       "    </tr>\n",
       "  </tbody>\n",
       "</table>\n",
       "<p>5 rows × 43 columns</p>\n",
       "</div>"
      ],
      "text/plain": [
       "           HR      O2Sat       Temp         SBP        MAP       DBP  \\\n",
       "0  102.108491  91.419811  36.789519  128.165094  88.199717  71.73211   \n",
       "1   97.000000  95.000000  36.789519   98.000000  75.330000  71.73211   \n",
       "2   89.000000  99.000000  36.789519  122.000000  86.000000  71.73211   \n",
       "3   90.000000  95.000000  36.789519  122.000000  88.665000  71.73211   \n",
       "4  103.000000  88.500000  36.789519  122.000000  91.330000  71.73211   \n",
       "\n",
       "        Resp  BaseExcess       HCO3      FiO2  ...    Age  Gender     Unit1  \\\n",
       "0  24.712264   -0.288406  23.835971  0.467029  ...  83.14       0  0.715787   \n",
       "1  19.000000   -0.288406  23.835971  0.467029  ...  83.14       0  0.715787   \n",
       "2  22.000000   -0.288406  23.835971  0.467029  ...  83.14       0  0.715787   \n",
       "3  30.000000   24.000000  23.835971  0.467029  ...  83.14       0  0.715787   \n",
       "4  24.500000   -0.288406  23.835971  0.280000  ...  83.14       0  0.715787   \n",
       "\n",
       "      Unit2  HospAdmTime  ICULOS  SepsisLabel  patient_id  dataset  \\\n",
       "0  0.284213        -0.03       1            0           1        A   \n",
       "1  0.284213        -0.03       2            0           1        A   \n",
       "2  0.284213        -0.03       3            0           1        A   \n",
       "3  0.284213        -0.03       4            0           1        A   \n",
       "4  0.284213        -0.03       5            0           1        A   \n",
       "\n",
       "      cluster_id  \n",
       "0  0_9_2_2_X_X_X  \n",
       "1  0_9_2_2_X_X_X  \n",
       "2  0_9_2_2_X_X_X  \n",
       "3  0_9_2_2_X_X_X  \n",
       "4  0_9_2_2_X_X_X  \n",
       "\n",
       "[5 rows x 43 columns]"
      ]
     },
     "execution_count": 4,
     "metadata": {},
     "output_type": "execute_result"
    }
   ],
   "source": [
    "imputed_df.head(5)"
   ]
  },
  {
   "cell_type": "code",
   "execution_count": 5,
   "metadata": {},
   "outputs": [
    {
     "name": "stdout",
     "output_type": "stream",
     "text": [
      "Total patients: 40336\n",
      "Percentage of true positive sepsis patients: 7.27%\n"
     ]
    }
   ],
   "source": [
    "unique_patients = imputed_df['patient_id'].nunique()\n",
    "positive_patients = imputed_df.groupby('patient_id')['SepsisLabel'].max().sum()\n",
    "percentage_positive = (positive_patients / unique_patients) * 100\n",
    "print(\"Total patients:\", unique_patients)\n",
    "print(\"Percentage of true positive sepsis patients: {:.2f}%\".format(percentage_positive))"
   ]
  },
  {
   "cell_type": "code",
   "execution_count": 6,
   "metadata": {},
   "outputs": [],
   "source": [
    "groputed_by_patient = imputed_df.groupby('patient_id').head(1)"
   ]
  },
  {
   "cell_type": "markdown",
   "metadata": {},
   "source": [
    "### Quick exploration"
   ]
  },
  {
   "cell_type": "code",
   "execution_count": 8,
   "metadata": {},
   "outputs": [
    {
     "name": "stdout",
     "output_type": "stream",
     "text": [
      "Label 0: 37404 (92.73%)\n",
      "Label 1: 2932 (7.27%)\n"
     ]
    },
    {
     "data": {
      "image/png": "[encoded data removed]",
      "text/plain": [
       "<Figure size 640x480 with 1 Axes>"
      ]
     },
     "metadata": {},
     "output_type": "display_data"
    },
    {
     "name": "stdout",
     "output_type": "stream",
     "text": [
      "Patient-level balance statistics:\n",
      "Total patients: 40336\n",
      "Label 0: 37404 patients (92.73%)\n",
      "Label 1: 2932 patients (7.27%)\n",
      "Imbalance ratio (majority/minority): 12.76\n",
      "\n",
      "Reflection:\n",
      "Positive cases are only 7.27% of patients. This is very low for our sepsis challenge.\n",
      "Consider applying resampling or cost-sensitive methods to create a richer dataset for training.\n"
     ]
    }
   ],
   "source": [
    "def balance_report(df):\n",
    "    patient_df = df.groupby(\"patient_id\")[\"SepsisLabel\"].max().reset_index()\n",
    "    counts = patient_df[\"SepsisLabel\"].value_counts()\n",
    "    total = counts.sum()\n",
    "    for label, count in counts.items():\n",
    "        print(f\"Label {label}: {count} ({(count / total * 100):.2f}%)\")\n",
    "    \n",
    "    counts.plot(kind=\"bar\", title=f\"Balance of SepsisLabel (per patient)\")\n",
    "    plt.xlabel(\"Class\")\n",
    "    plt.ylabel(\"Count\")\n",
    "    plt.show()\n",
    "\n",
    "def display_balance_statistics(df, plot=True):\n",
    "    patient_df = df.groupby(\"patient_id\")[\"SepsisLabel\"].max().reset_index()\n",
    "    counts = patient_df[\"SepsisLabel\"].value_counts()\n",
    "    total_patients = counts.sum()\n",
    "    print(\"Patient-level balance statistics:\")\n",
    "    print(\"Total patients:\", total_patients)\n",
    "    for label, count in counts.items():\n",
    "        perc = (count / total_patients) * 100\n",
    "        print(f\"Label {label}: {count} patients ({perc:.2f}%)\")\n",
    "    if len(counts) >= 2:\n",
    "        imbalance_ratio = counts.max() / counts.min()\n",
    "        print(f\"Imbalance ratio (majority/minority): {imbalance_ratio:.2f}\")\n",
    "    else:\n",
    "        print(\"Only one class present; check your data!\")\n",
    "    \n",
    "    minority_percentage = counts.min() / total_patients * 100\n",
    "    print(\"\\nReflection:\")\n",
    "    if minority_percentage < 10:\n",
    "        print(f\"Positive cases are only {minority_percentage:.2f}% of patients. This is very low for our sepsis challenge.\")\n",
    "        print(\"Consider applying resampling or cost-sensitive methods to create a richer dataset for training.\")\n",
    "    else:\n",
    "        print(\"The balance between classes seems acceptable.\")\n",
    "\n",
    "\n",
    "balance_report(imputed_df)\n",
    "display_balance_statistics(imputed_df)"
   ]
  },
  {
   "cell_type": "markdown",
   "metadata": {},
   "source": [
    "## Technique 1: balance dataset with oversample / undersample"
   ]
  },
  {
   "cell_type": "code",
   "execution_count": 9,
   "metadata": {},
   "outputs": [],
   "source": [
    "from sklearn.utils import resample\n",
    "\n",
    "\n",
    "def balance_over_under_sample(df, method=\"oversample\", minority_ratio=0.5):\n",
    "    \"\"\"\n",
    "    Balances a hospital dataset at the patient level.\n",
    "    Each patient's label is determined by taking the max of the target column \n",
    "    (assumes that if any record is positive, the patient is positive)\n",
    "    \"\"\"\n",
    "    # Aggregate patient-level labels.\n",
    "    patient_df = df.groupby(\"patient_id\")['SepsisLabel'].max().reset_index()\n",
    "\n",
    "    # Identify majority and minority classes.\n",
    "    counts = patient_df[\"SepsisLabel\"].value_counts()\n",
    "    majority_class = counts.idxmax()\n",
    "    minority_class = counts.idxmin()\n",
    "    majority_patients = patient_df[patient_df[\"SepsisLabel\"] == majority_class]\n",
    "    minority_patients = patient_df[patient_df[\"SepsisLabel\"] == minority_class]\n",
    "\n",
    "    # Resample at the patient level.\n",
    "    if method == \"oversample\":\n",
    "        n_samples = int(len(majority_patients) * minority_ratio)\n",
    "        minority_upsampled = resample(minority_patients, replace=True,\n",
    "                                      n_samples=n_samples, random_state=42)\n",
    "        balanced_patient_df = pd.concat(\n",
    "            [majority_patients, minority_upsampled])\n",
    "    elif method == \"undersample\":\n",
    "        n_samples = int(len(minority_patients) / minority_ratio)\n",
    "        majority_downsampled = resample(majority_patients, replace=False,\n",
    "                                        n_samples=n_samples, random_state=42)\n",
    "        balanced_patient_df = pd.concat(\n",
    "            [majority_downsampled, minority_patients])\n",
    "    else:\n",
    "        raise ValueError(\"Method must be 'oversample' or 'undersample'\")\n",
    "\n",
    "    # Reconstruct the full dataset by concatenating records for each patient.\n",
    "    balanced_df = pd.concat(\n",
    "        [df[df[\"patient_id\"] == pid]\n",
    "            for pid in balanced_patient_df[\"patient_id\"]],\n",
    "        ignore_index=True\n",
    "    )\n",
    "\n",
    "    return balanced_df\n"
   ]
  },
  {
   "cell_type": "markdown",
   "metadata": {},
   "source": [
    "### Oversample"
   ]
  },
  {
   "cell_type": "code",
   "execution_count": 10,
   "metadata": {},
   "outputs": [
    {
     "name": "stdout",
     "output_type": "stream",
     "text": [
      "Label 0: 37404 (92.74%)\n",
      "Label 1: 2928 (7.26%)\n"
     ]
    },
    {
     "data": {
      "image/png": "[encoded data removed]",
      "text/plain": [
       "<Figure size 640x480 with 1 Axes>"
      ]
     },
     "metadata": {},
     "output_type": "display_data"
    },
    {
     "name": "stdout",
     "output_type": "stream",
     "text": [
      "Patient-level balance statistics:\n",
      "Total patients: 40332\n",
      "Label 0: 37404 patients (92.74%)\n",
      "Label 1: 2928 patients (7.26%)\n",
      "Imbalance ratio (majority/minority): 12.77\n",
      "\n",
      "Reflection:\n",
      "Positive cases are only 7.26% of patients. This is very low for our sepsis challenge.\n",
      "Consider applying resampling or cost-sensitive methods to create a richer dataset for training.\n"
     ]
    }
   ],
   "source": [
    "balanced_df = balance_over_under_sample(imputed_df, method=\"oversample\", minority_ratio=0.5)\n",
    "balance_report(balanced_df)\n",
    "display_balance_statistics(balanced_df)"
   ]
  },
  {
   "cell_type": "markdown",
   "metadata": {},
   "source": [
    "### Undersample"
   ]
  },
  {
   "cell_type": "code",
   "execution_count": null,
   "metadata": {},
   "outputs": [],
   "source": []
  },
  {
   "cell_type": "markdown",
   "metadata": {},
   "source": [
    "### Metric"
   ]
  },
  {
   "cell_type": "code",
   "execution_count": null,
   "metadata": {},
   "outputs": [],
   "source": []
  },
  {
   "cell_type": "markdown",
   "metadata": {},
   "source": [
    "## Technique 2"
   ]
  }
 ],
 "metadata": {
  "kernelspec": {
   "display_name": "venv-sepsis",
   "language": "python",
   "name": "python3"
  },
  "language_info": {
   "codemirror_mode": {
    "name": "ipython",
    "version": 3
   },
   "file_extension": ".py",
   "mimetype": "text/x-python",
   "name": "python",
   "nbconvert_exporter": "python",
   "pygments_lexer": "ipython3",
   "version": "3.12.0"
  }
 },
 "nbformat": 4,
 "nbformat_minor": 2
}
