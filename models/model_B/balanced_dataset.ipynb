{
 "cells": [
  {
   "cell_type": "markdown",
   "metadata": {},
   "source": [
    "## Imbalance dataset"
   ]
  },
  {
   "cell_type": "code",
   "execution_count": 1,
   "metadata": {},
   "outputs": [
    {
     "name": "stdout",
     "output_type": "stream",
     "text": [
      "2.2.2\n",
      "/Users/damianstone/Documents/Code/machine-learning/dl-sepsis-prediction\n"
     ]
    }
   ],
   "source": [
    "import os\n",
    "import sys\n",
    "import torch\n",
    "import pandas as pd\n",
    "import numpy as np\n",
    "import matplotlib.pyplot as plt\n",
    "\n",
    "from torch import nn\n",
    "\n",
    "print(torch.__version__)\n",
    "\n",
    "notebook_dir = os.getcwd()\n",
    "\n",
    "project_root = os.path.abspath(os.path.join(notebook_dir, \"../..\"))\n",
    "print(project_root)\n",
    "if project_root not in sys.path:\n",
    "    sys.path.append(project_root)\n"
   ]
  },
  {
   "cell_type": "code",
   "execution_count": 2,
   "metadata": {},
   "outputs": [],
   "source": [
    "from utils import get_data\n",
    "\n",
    "DATA_PATH = get_data.get_dataset_abspath()\n",
    "load_path = os.path.join(DATA_PATH, \"imputed_sofa.parquet\")\n",
    "imputed_df = pd.read_parquet(load_path)"
   ]
  },
  {
   "cell_type": "code",
   "execution_count": 3,
   "metadata": {},
   "outputs": [
    {
     "name": "stdout",
     "output_type": "stream",
     "text": [
      "Percentage of positive sepsis: 1.80%\n",
      "SOFA score statistics for sepsis patients:\n",
      "count    27916.000000\n",
      "mean         5.361979\n",
      "std          1.295761\n",
      "min          0.000000\n",
      "25%          4.000000\n",
      "50%          5.000000\n",
      "75%          6.000000\n",
      "max         14.000000\n",
      "Name: SOFA, dtype: float64\n",
      "Label 0: 1524286 (98.20%)\n",
      "Label 1: 27916 (1.80%)\n"
     ]
    },
    {
     "data": {
      "image/png": "[encoded data removed]",
      "text/plain": [
       "<Figure size 640x480 with 1 Axes>"
      ]
     },
     "metadata": {},
     "output_type": "display_data"
    },
    {
     "name": "stdout",
     "output_type": "stream",
     "text": [
      "Label 0: 1524286 (83.33%)\n",
      "Label 1: 304857 (16.67%)\n"
     ]
    },
    {
     "data": {
      "image/png": "[encoded data removed]",
      "text/plain": [
       "<Figure size 640x480 with 1 Axes>"
      ]
     },
     "metadata": {},
     "output_type": "display_data"
    }
   ],
   "source": [
    "import os\n",
    "import pandas as pd\n",
    "import matplotlib.pyplot as plt\n",
    "from sklearn.utils import resample\n",
    "from utils import get_data\n",
    "\n",
    "# Load the dataset\n",
    "DATA_PATH = get_data.get_dataset_abspath()\n",
    "load_path = os.path.join(DATA_PATH, \"imputed_sofa.parquet\")\n",
    "imputed_df = pd.read_parquet(load_path)\n",
    "\n",
    "# 1. Print percentage of positive sepsis\n",
    "sepsis_percentage = imputed_df['SepsisLabel'].mean() * 100\n",
    "print(f\"Percentage of positive sepsis: {sepsis_percentage:.2f}%\")\n",
    "\n",
    "# 2. For patients with sepsis, print SOFA level statistics\n",
    "sepsis_sofa = imputed_df.loc[imputed_df['SepsisLabel'] == 1, 'SOFA']\n",
    "print(\"SOFA score statistics for sepsis patients:\")\n",
    "print(sepsis_sofa.describe())\n",
    "\n",
    "# 3. Function to print and graph dataset balance\n",
    "def balance_report(df, target_column):\n",
    "    counts = df[target_column].value_counts()\n",
    "    total = counts.sum()\n",
    "    for label, count in counts.items():\n",
    "        print(f\"Label {label}: {count} ({(count/total*100):.2f}%)\")\n",
    "    counts.plot(kind=\"bar\", title=f\"Balance of {target_column}\")\n",
    "    plt.xlabel(\"Class\")\n",
    "    plt.ylabel(\"Count\")\n",
    "    plt.show()\n",
    "\n",
    "# Example usage:\n",
    "balance_report(imputed_df, 'SepsisLabel')\n",
    "\n",
    "# 4. Function to balance the dataset (oversample or undersample)\n",
    "def balance_dataset(df, target_column, method=\"oversample\", minority_ratio=0.2):\n",
    "    \"\"\"\n",
    "    sampling technique: oversampling increases the number of minority class samples, \n",
    "    while undersampling reduces the number of majority class samples\n",
    "\n",
    "    what it does: adjusts class distribution by either duplicating \n",
    "    minority samples (oversampling) or removing majority samples (undersampling) \n",
    "    to improve model learning balance\n",
    "    \"\"\"\n",
    "    counts = df[target_column].value_counts()\n",
    "    majority_class = counts.idxmax()\n",
    "    minority_class = counts.idxmin()\n",
    "    df_majority = df[df[target_column] == majority_class]\n",
    "    df_minority = df[df[target_column] == minority_class]\n",
    "\n",
    "    if method == \"oversample\":\n",
    "        n_samples = int(len(df_majority) * minority_ratio)\n",
    "        df_minority_upsampled = resample(df_minority, replace=True, n_samples=n_samples, random_state=42)\n",
    "        df_balanced = pd.concat([df_majority, df_minority_upsampled])\n",
    "    elif method == \"undersample\":\n",
    "        n_samples = int(len(df_minority) / minority_ratio) \n",
    "        df_majority_downsampled = resample(df_majority, replace=False, n_samples=n_samples, random_state=42)\n",
    "        df_balanced = pd.concat([df_majority_downsampled, df_minority])\n",
    "    else:\n",
    "        raise ValueError(\"Method must be 'oversample' or 'undersample'\")\n",
    "\n",
    "    return df_balanced\n",
    "\n",
    "# Example usage:\n",
    "balanced_df = balance_dataset(imputed_df, 'SepsisLabel', method=\"oversample\")\n",
    "balance_report(balanced_df, 'SepsisLabel')\n",
    "\n"
   ]
  },
  {
   "cell_type": "code",
   "execution_count": 4,
   "metadata": {},
   "outputs": [
    {
     "name": "stdout",
     "output_type": "stream",
     "text": [
      "Total records in balanced dataset: 167496\n",
      "SepsisLabel\n",
      "0    139580\n",
      "1     27916\n",
      "Name: count, dtype: int64\n"
     ]
    }
   ],
   "source": [
    "balanced_df = balance_dataset(imputed_df, 'SepsisLabel', method=\"undersample\")\n",
    "print(\"Total records in balanced dataset:\", balanced_df.shape[0])\n",
    "print(balanced_df['SepsisLabel'].value_counts())"
   ]
  },
  {
   "cell_type": "code",
   "execution_count": 5,
   "metadata": {},
   "outputs": [
    {
     "name": "stdout",
     "output_type": "stream",
     "text": [
      "Balanced dataset saved with 167496 records.\n"
     ]
    }
   ],
   "source": [
    "balanced_df.to_parquet(f\"{project_root}/dataset/balanced_dataset.parquet\", index=False)\n",
    "print(\"Balanced dataset saved with\", balanced_df.shape[0], \"records.\")"
   ]
  }
 ],
 "metadata": {
  "kernelspec": {
   "display_name": "venv-sepsis",
   "language": "python",
   "name": "python3"
  },
  "language_info": {
   "codemirror_mode": {
    "name": "ipython",
    "version": 3
   },
   "file_extension": ".py",
   "mimetype": "text/x-python",
   "name": "python",
   "nbconvert_exporter": "python",
   "pygments_lexer": "ipython3",
   "version": "3.12.0"
  }
 },
 "nbformat": 4,
 "nbformat_minor": 2
}
