{
 "cells": [
  {
   "cell_type": "code",
   "execution_count": 1,
   "metadata": {},
   "outputs": [
    {
     "name": "stdout",
     "output_type": "stream",
     "text": [
      "2.2.2\n",
      "/Users/damianstone/Documents/Code/machine-learning/dl-sepsis-prediction/models/model_B\n",
      "/Users/damianstone/Documents/Code/machine-learning/dl-sepsis-prediction\n"
     ]
    },
    {
     "data": {
      "text/plain": [
       "device(type='cpu')"
      ]
     },
     "execution_count": 1,
     "metadata": {},
     "output_type": "execute_result"
    }
   ],
   "source": [
    "import os\n",
    "import sys\n",
    "import torch\n",
    "import pandas as pd\n",
    "import numpy as np\n",
    "import matplotlib.pyplot as plt\n",
    "\n",
    "from torch import nn\n",
    "\n",
    "print(torch.__version__)\n",
    "\n",
    "notebook_dir = os.getcwd()\n",
    "model_b_root = os.path.abspath(os.path.join(notebook_dir, \"..\"))\n",
    "project_root = os.path.abspath(os.path.join(notebook_dir, \"../../..\"))\n",
    "print(model_b_root)\n",
    "print(project_root)\n",
    "\n",
    "if model_b_root not in sys.path:\n",
    "    sys.path.append(model_b_root)\n",
    "    \n",
    "if project_root not in sys.path:\n",
    "    sys.path.append(project_root)\n",
    "    \n",
    "MODEL_V = \"05_simple_transformer\"\n",
    "\n",
    "device = torch.device(\"mps\" if torch.backends.mps.is_available() else \"cpu\")\n",
    "device\n",
    "    "
   ]
  },
  {
   "cell_type": "code",
   "execution_count": 2,
   "metadata": {},
   "outputs": [
    {
     "name": "stdout",
     "output_type": "stream",
     "text": [
      "Project root: /Users/damianstone/Documents/Code/machine-learning/dl-sepsis-prediction\n",
      "Loaded from last processed data\n"
     ]
    }
   ],
   "source": [
    "from preprocess import preprocess_data\n",
    "\n",
    "X_train, X_test, y_train, y_test, patient_ids_train, patient_ids_test = preprocess_data(\n",
    "                                                                            use_last_processed_data=True,\n",
    "                                                                            data_file_name=\"big_imputed_sofa\",\n",
    "                                                                            sampling_method=\"undersample\",\n",
    "                                                                            train_sample_fraction=0.05)"
   ]
  },
  {
   "cell_type": "code",
   "execution_count": 3,
   "metadata": {},
   "outputs": [
    {
     "data": {
      "text/html": [
       "<div>\n",
       "<style scoped>\n",
       "    .dataframe tbody tr th:only-of-type {\n",
       "        vertical-align: middle;\n",
       "    }\n",
       "\n",
       "    .dataframe tbody tr th {\n",
       "        vertical-align: top;\n",
       "    }\n",
       "\n",
       "    .dataframe thead th {\n",
       "        text-align: right;\n",
       "    }\n",
       "</style>\n",
       "<table border=\"1\" class=\"dataframe\">\n",
       "  <thead>\n",
       "    <tr style=\"text-align: right;\">\n",
       "      <th></th>\n",
       "      <th>HR</th>\n",
       "      <th>O2Sat</th>\n",
       "      <th>Temp</th>\n",
       "      <th>SBP</th>\n",
       "      <th>MAP</th>\n",
       "      <th>DBP</th>\n",
       "      <th>Resp</th>\n",
       "      <th>EtCO2</th>\n",
       "      <th>BaseExcess</th>\n",
       "      <th>HCO3</th>\n",
       "      <th>...</th>\n",
       "      <th>Hgb</th>\n",
       "      <th>PTT</th>\n",
       "      <th>WBC</th>\n",
       "      <th>Fibrinogen</th>\n",
       "      <th>Platelets</th>\n",
       "      <th>Age</th>\n",
       "      <th>Gender</th>\n",
       "      <th>HospAdmTime</th>\n",
       "      <th>ICULOS</th>\n",
       "      <th>SOFA</th>\n",
       "    </tr>\n",
       "  </thead>\n",
       "  <tbody>\n",
       "    <tr>\n",
       "      <th>443</th>\n",
       "      <td>86.0</td>\n",
       "      <td>95.0</td>\n",
       "      <td>37.195388</td>\n",
       "      <td>103.0</td>\n",
       "      <td>68.0</td>\n",
       "      <td>52.000000</td>\n",
       "      <td>16.0</td>\n",
       "      <td>33.055556</td>\n",
       "      <td>-4.106557</td>\n",
       "      <td>23.794118</td>\n",
       "      <td>...</td>\n",
       "      <td>9.668224</td>\n",
       "      <td>45.976531</td>\n",
       "      <td>13.053684</td>\n",
       "      <td>242.0</td>\n",
       "      <td>221.682796</td>\n",
       "      <td>49.02</td>\n",
       "      <td>0</td>\n",
       "      <td>-9.21</td>\n",
       "      <td>12</td>\n",
       "      <td>7</td>\n",
       "    </tr>\n",
       "    <tr>\n",
       "      <th>444</th>\n",
       "      <td>81.0</td>\n",
       "      <td>94.0</td>\n",
       "      <td>37.195388</td>\n",
       "      <td>98.0</td>\n",
       "      <td>62.5</td>\n",
       "      <td>48.000000</td>\n",
       "      <td>8.0</td>\n",
       "      <td>33.055556</td>\n",
       "      <td>-4.106557</td>\n",
       "      <td>23.794118</td>\n",
       "      <td>...</td>\n",
       "      <td>9.668224</td>\n",
       "      <td>45.976531</td>\n",
       "      <td>13.053684</td>\n",
       "      <td>242.0</td>\n",
       "      <td>221.682796</td>\n",
       "      <td>49.02</td>\n",
       "      <td>0</td>\n",
       "      <td>-9.21</td>\n",
       "      <td>15</td>\n",
       "      <td>7</td>\n",
       "    </tr>\n",
       "    <tr>\n",
       "      <th>445</th>\n",
       "      <td>76.0</td>\n",
       "      <td>100.0</td>\n",
       "      <td>36.440000</td>\n",
       "      <td>118.0</td>\n",
       "      <td>79.0</td>\n",
       "      <td>58.000000</td>\n",
       "      <td>27.0</td>\n",
       "      <td>33.055556</td>\n",
       "      <td>-4.106557</td>\n",
       "      <td>23.794118</td>\n",
       "      <td>...</td>\n",
       "      <td>9.668224</td>\n",
       "      <td>45.976531</td>\n",
       "      <td>13.053684</td>\n",
       "      <td>242.0</td>\n",
       "      <td>221.682796</td>\n",
       "      <td>49.02</td>\n",
       "      <td>0</td>\n",
       "      <td>-9.21</td>\n",
       "      <td>2</td>\n",
       "      <td>6</td>\n",
       "    </tr>\n",
       "    <tr>\n",
       "      <th>446</th>\n",
       "      <td>89.0</td>\n",
       "      <td>96.0</td>\n",
       "      <td>37.195388</td>\n",
       "      <td>72.0</td>\n",
       "      <td>74.0</td>\n",
       "      <td>55.344915</td>\n",
       "      <td>14.0</td>\n",
       "      <td>33.055556</td>\n",
       "      <td>-4.106557</td>\n",
       "      <td>23.794118</td>\n",
       "      <td>...</td>\n",
       "      <td>9.668224</td>\n",
       "      <td>45.976531</td>\n",
       "      <td>13.053684</td>\n",
       "      <td>242.0</td>\n",
       "      <td>221.682796</td>\n",
       "      <td>49.02</td>\n",
       "      <td>0</td>\n",
       "      <td>-9.21</td>\n",
       "      <td>23</td>\n",
       "      <td>6</td>\n",
       "    </tr>\n",
       "    <tr>\n",
       "      <th>447</th>\n",
       "      <td>89.0</td>\n",
       "      <td>96.0</td>\n",
       "      <td>37.195388</td>\n",
       "      <td>72.0</td>\n",
       "      <td>71.0</td>\n",
       "      <td>55.344915</td>\n",
       "      <td>13.0</td>\n",
       "      <td>33.055556</td>\n",
       "      <td>-4.106557</td>\n",
       "      <td>23.794118</td>\n",
       "      <td>...</td>\n",
       "      <td>9.668224</td>\n",
       "      <td>45.976531</td>\n",
       "      <td>13.053684</td>\n",
       "      <td>242.0</td>\n",
       "      <td>221.682796</td>\n",
       "      <td>49.02</td>\n",
       "      <td>0</td>\n",
       "      <td>-9.21</td>\n",
       "      <td>25</td>\n",
       "      <td>6</td>\n",
       "    </tr>\n",
       "  </tbody>\n",
       "</table>\n",
       "<p>5 rows × 39 columns</p>\n",
       "</div>"
      ],
      "text/plain": [
       "       HR  O2Sat       Temp    SBP   MAP        DBP  Resp      EtCO2  \\\n",
       "443  86.0   95.0  37.195388  103.0  68.0  52.000000  16.0  33.055556   \n",
       "444  81.0   94.0  37.195388   98.0  62.5  48.000000   8.0  33.055556   \n",
       "445  76.0  100.0  36.440000  118.0  79.0  58.000000  27.0  33.055556   \n",
       "446  89.0   96.0  37.195388   72.0  74.0  55.344915  14.0  33.055556   \n",
       "447  89.0   96.0  37.195388   72.0  71.0  55.344915  13.0  33.055556   \n",
       "\n",
       "     BaseExcess       HCO3  ...       Hgb        PTT        WBC  Fibrinogen  \\\n",
       "443   -4.106557  23.794118  ...  9.668224  45.976531  13.053684       242.0   \n",
       "444   -4.106557  23.794118  ...  9.668224  45.976531  13.053684       242.0   \n",
       "445   -4.106557  23.794118  ...  9.668224  45.976531  13.053684       242.0   \n",
       "446   -4.106557  23.794118  ...  9.668224  45.976531  13.053684       242.0   \n",
       "447   -4.106557  23.794118  ...  9.668224  45.976531  13.053684       242.0   \n",
       "\n",
       "      Platelets    Age  Gender  HospAdmTime  ICULOS  SOFA  \n",
       "443  221.682796  49.02       0        -9.21      12     7  \n",
       "444  221.682796  49.02       0        -9.21      15     7  \n",
       "445  221.682796  49.02       0        -9.21       2     6  \n",
       "446  221.682796  49.02       0        -9.21      23     6  \n",
       "447  221.682796  49.02       0        -9.21      25     6  \n",
       "\n",
       "[5 rows x 39 columns]"
      ]
     },
     "execution_count": 3,
     "metadata": {},
     "output_type": "execute_result"
    }
   ],
   "source": [
    "X_train.head(5)"
   ]
  },
  {
   "cell_type": "code",
   "execution_count": 4,
   "metadata": {},
   "outputs": [
    {
     "data": {
      "text/plain": [
       "443    14695\n",
       "444    14695\n",
       "445    14695\n",
       "446    14695\n",
       "447    14695\n",
       "Name: patient_id, dtype: int64"
      ]
     },
     "execution_count": 4,
     "metadata": {},
     "output_type": "execute_result"
    }
   ],
   "source": [
    "patient_ids_train.head(5)"
   ]
  },
  {
   "cell_type": "code",
   "execution_count": 3,
   "metadata": {},
   "outputs": [],
   "source": [
    "from custom_dataset import SepsisPatientDataset, collate_fn\n",
    "from torch.utils.data import DataLoader\n",
    "\n",
    "dataset = SepsisPatientDataset(X_train.values, y_train.values, patient_ids_train.values)\n",
    "batch_size = 32\n",
    "train_loader = DataLoader(dataset, batch_size=batch_size, shuffle=True, collate_fn=collate_fn)"
   ]
  },
  {
   "cell_type": "code",
   "execution_count": 4,
   "metadata": {},
   "outputs": [
    {
     "name": "stderr",
     "output_type": "stream",
     "text": [
      "/Users/damianstone/Documents/Code/machine-learning/dl-sepsis-prediction/venv-sepsis/lib/python3.12/site-packages/torch/nn/modules/transformer.py:286: UserWarning: enable_nested_tensor is True, but self.use_nested_tensor is False because encoder_layer.self_attn.num_heads is odd\n",
      "  warnings.warn(f\"enable_nested_tensor is True, but self.use_nested_tensor is False because {why_not_sparsity_fast_path}\")\n",
      "Epoch 1/10:   0%|          | 0/16 [00:10<?, ?it/s, Loss=0.98, Acc=0.375, Prec=0.375, Rec=1] "
     ]
    },
    {
     "name": "stdout",
     "output_type": "stream",
     "text": [
      "Epoch 1/10 | Loss: 0.06528 | Accuracy: 0.33% | Precision: 0.28% | Recall: 0.94%\n"
     ]
    },
    {
     "name": "stderr",
     "output_type": "stream",
     "text": [
      "                                                                                           "
     ]
    },
    {
     "name": "stdout",
     "output_type": "stream",
     "text": [
      "Epoch 2/10 | Loss: 0.06999 | Accuracy: 0.31% | Precision: 0.31% | Recall: 1.00%\n"
     ]
    },
    {
     "name": "stderr",
     "output_type": "stream",
     "text": [
      "Epoch 3/10:   0%|          | 0/16 [00:10<?, ?it/s, Loss=0.76, Acc=0.625, Prec=0.333, Rec=0.5]   "
     ]
    },
    {
     "name": "stdout",
     "output_type": "stream",
     "text": [
      "Epoch 3/10 | Loss: 0.05063 | Accuracy: 0.46% | Precision: 0.31% | Recall: 0.66%\n"
     ]
    },
    {
     "name": "stderr",
     "output_type": "stream",
     "text": [
      "                                                                                             "
     ]
    },
    {
     "name": "stdout",
     "output_type": "stream",
     "text": [
      "Epoch 4/10 | Loss: 0.05184 | Accuracy: 0.72% | Precision: 0.61% | Recall: 0.49%\n"
     ]
    },
    {
     "name": "stderr",
     "output_type": "stream",
     "text": [
      "Epoch 5/10:   0%|          | 0/16 [00:11<?, ?it/s, Loss=1.44, Acc=0.25, Prec=0, Rec=0]          "
     ]
    },
    {
     "name": "stdout",
     "output_type": "stream",
     "text": [
      "Epoch 5/10 | Loss: 0.09357 | Accuracy: 0.71% | Precision: 0.58% | Recall: 0.48%\n"
     ]
    },
    {
     "name": "stderr",
     "output_type": "stream",
     "text": [
      "                                                                                      "
     ]
    },
    {
     "name": "stdout",
     "output_type": "stream",
     "text": [
      "Epoch 6/10 | Loss: 0.09589 | Accuracy: 0.64% | Precision: 0.57% | Recall: 0.56%\n"
     ]
    },
    {
     "name": "stderr",
     "output_type": "stream",
     "text": [
      "Epoch 7/10:   0%|          | 0/16 [00:09<?, ?it/s, Loss=0.665, Acc=0.25, Prec=0.25, Rec=1]      "
     ]
    },
    {
     "name": "stdout",
     "output_type": "stream",
     "text": [
      "Epoch 7/10 | Loss: 0.04522 | Accuracy: 0.42% | Precision: 0.34% | Recall: 0.92%\n"
     ]
    },
    {
     "name": "stderr",
     "output_type": "stream",
     "text": [
      "                                                                                          "
     ]
    },
    {
     "name": "stdout",
     "output_type": "stream",
     "text": [
      "Epoch 8/10 | Loss: 0.04479 | Accuracy: 0.74% | Precision: 0.79% | Recall: 0.38%\n"
     ]
    },
    {
     "name": "stderr",
     "output_type": "stream",
     "text": [
      "Epoch 9/10:   0%|          | 0/16 [00:10<?, ?it/s, Loss=0.93, Acc=0.375, Prec=0.375, Rec=1]     "
     ]
    },
    {
     "name": "stdout",
     "output_type": "stream",
     "text": [
      "Epoch 9/10 | Loss: 0.06085 | Accuracy: 0.71% | Precision: 0.66% | Recall: 0.53%\n"
     ]
    },
    {
     "name": "stderr",
     "output_type": "stream",
     "text": [
      "                                                                                           "
     ]
    },
    {
     "name": "stdout",
     "output_type": "stream",
     "text": [
      "Epoch 10/10 | Loss: 0.04942 | Accuracy: 0.74% | Precision: 0.67% | Recall: 0.49%\n",
      "0.5\n"
     ]
    }
   ],
   "source": [
    "from architectures import TransformerClassifier\n",
    "from torch import nn\n",
    "from training import training_loop\n",
    "\n",
    "in_dim = X_train.shape[1] \n",
    "valid_heads = [h for h in range(1, in_dim + 1) if in_dim % h == 0]\n",
    "num_heads = valid_heads[-1] \n",
    "\n",
    "model = TransformerClassifier(input_dim=in_dim, num_heads=num_heads).to(device)\n",
    "\n",
    "pos_weight = torch.tensor([2.3], dtype=torch.float32).to(device)\n",
    "loss_fn = nn.BCEWithLogitsLoss(pos_weight=pos_weight)\n",
    "\n",
    "optimizer = torch.optim.AdamW(model.parameters(), lr=0.001)\n",
    "\n",
    "epoch_counter, loss_counter, acc_counter, best_threshold = training_loop(\n",
    "    model=model,\n",
    "    train_loader=train_loader,\n",
    "    optimizer=optimizer,\n",
    "    loss_fn=loss_fn,\n",
    "    epochs=10,\n",
    "    device=device,\n",
    "    threshold_update_n_batches=10,\n",
    ")\n",
    "\n",
    "print(best_threshold)"
   ]
  },
  {
   "cell_type": "code",
   "execution_count": 5,
   "metadata": {},
   "outputs": [
    {
     "data": {
      "text/plain": [
       "0.5"
      ]
     },
     "execution_count": 5,
     "metadata": {},
     "output_type": "execute_result"
    }
   ],
   "source": [
    "best_threshold"
   ]
  },
  {
   "cell_type": "markdown",
   "metadata": {},
   "source": [
    "# Testing loop"
   ]
  },
  {
   "cell_type": "code",
   "execution_count": 8,
   "metadata": {},
   "outputs": [
    {
     "name": "stderr",
     "output_type": "stream",
     "text": [
      "                                                                        "
     ]
    },
    {
     "name": "stdout",
     "output_type": "stream",
     "text": [
      "Test Loss: 0.68204 | Test Accuracy: 0.82%\n"
     ]
    },
    {
     "name": "stderr",
     "output_type": "stream",
     "text": [
      "\r"
     ]
    }
   ],
   "source": [
    "\n",
    "import pandas as pd\n",
    "from torch.utils.data import DataLoader, TensorDataset\n",
    "from tqdm import tqdm\n",
    "from torchmetrics import Accuracy\n",
    "from testing import testing_loop\n",
    "\n",
    "\n",
    "dataset = SepsisPatientDataset(X_test.values, y_test.values, patient_ids_test.values)\n",
    "batch_size = 32\n",
    "test_loader = DataLoader(dataset, batch_size=batch_size, shuffle=True, collate_fn=collate_fn)\n",
    "\n",
    "all_y_logits, all_y_probs, all_y_pred, all_y_test = testing_loop(\n",
    "  model=model,\n",
    "  test_loader=test_loader,\n",
    "  loss_fn=loss_fn,\n",
    "  device=device,\n",
    "  threshold=best_threshold\n",
    ")"
   ]
  },
  {
   "cell_type": "code",
   "execution_count": 9,
   "metadata": {},
   "outputs": [],
   "source": [
    "all_y_logits = torch.cat(all_y_logits).numpy().flatten()\n",
    "all_y_probs = torch.cat(all_y_probs).numpy().flatten()\n",
    "all_y_pred = torch.cat(all_y_pred).numpy().flatten()\n",
    "all_y_test = torch.cat(all_y_test).numpy().astype(int) \n",
    "\n",
    "df = pd.DataFrame({\n",
    "    'y_logits': all_y_logits,\n",
    "    'y_probs': all_y_probs,\n",
    "    'y_pred': all_y_pred,\n",
    "    'y_test': all_y_test\n",
    "})\n",
    "\n",
    "# save_eval_csv(df, EVAL)"
   ]
  },
  {
   "cell_type": "code",
   "execution_count": 10,
   "metadata": {},
   "outputs": [
    {
     "name": "stdout",
     "output_type": "stream",
     "text": [
      "Total Accuracy: 81.54%\n"
     ]
    }
   ],
   "source": [
    "accuracy = (df['y_pred'] == df['y_test']).mean() * 100\n",
    "print(f\"Total Accuracy: {accuracy:.2f}%\")"
   ]
  },
  {
   "cell_type": "code",
   "execution_count": null,
   "metadata": {},
   "outputs": [],
   "source": [
    "# from t_utils import save_plots, FEATURE_NAMES, save_metrics\n",
    "\n",
    "# y_test = df['y_test'].values\n",
    "# y_probs = df['y_probs'].values\n",
    "# y_pred = df['y_pred'].values\n",
    "\n",
    "\n",
    "# save_plots(\n",
    "#     y_test=y_test,\n",
    "#     y_probs=y_probs,\n",
    "#     y_pred=y_pred,\n",
    "#     model=model, \n",
    "#     feature_names=FEATURE_NAMES,\n",
    "#     eval=EVAL,\n",
    "#     attention_weights=[]\n",
    "# )\n",
    "\n",
    "# save_metrics(\n",
    "#     y_test=y_test,\n",
    "#     y_probs=y_probs,\n",
    "#     y_pred=y_pred,\n",
    "#     eval=EVAL,\n",
    "# )"
   ]
  }
 ],
 "metadata": {
  "kernelspec": {
   "display_name": "venv-sepsis",
   "language": "python",
   "name": "python3"
  },
  "language_info": {
   "codemirror_mode": {
    "name": "ipython",
    "version": 3
   },
   "file_extension": ".py",
   "mimetype": "text/x-python",
   "name": "python",
   "nbconvert_exporter": "python",
   "pygments_lexer": "ipython3",
   "version": "3.12.0"
  }
 },
 "nbformat": 4,
 "nbformat_minor": 2
}
