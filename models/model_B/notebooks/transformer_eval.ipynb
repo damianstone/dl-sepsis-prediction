{
 "cells": [
  {
   "cell_type": "markdown",
   "metadata": {},
   "source": [
    "## Evaluation simple encoder transformer\n",
    "- trained using a small balanced dataset\n",
    "- tested with original dataset"
   ]
  },
  {
   "cell_type": "code",
   "execution_count": 1,
   "metadata": {},
   "outputs": [
    {
     "name": "stdout",
     "output_type": "stream",
     "text": [
      "2.2.2\n",
      "/Users/damianstone/Documents/Code/machine-learning/dl-sepsis-prediction\n"
     ]
    }
   ],
   "source": [
    "import os\n",
    "import sys\n",
    "import torch\n",
    "import pandas as pd\n",
    "import numpy as np\n",
    "import matplotlib.pyplot as plt\n",
    "\n",
    "from torch import nn\n",
    "\n",
    "print(torch.__version__)\n",
    "\n",
    "notebook_dir = os.getcwd()\n",
    "\n",
    "project_root = os.path.abspath(os.path.join(notebook_dir, \"../..\"))\n",
    "print(project_root)\n",
    "if project_root not in sys.path:\n",
    "    sys.path.append(project_root)\n",
    "\n",
    "EVAL = \"04_simple_transformer\""
   ]
  },
  {
   "cell_type": "markdown",
   "metadata": {},
   "source": [
    "## Load model"
   ]
  },
  {
   "cell_type": "code",
   "execution_count": 2,
   "metadata": {},
   "outputs": [
    {
     "data": {
      "text/plain": [
       "<All keys matched successfully>"
      ]
     },
     "execution_count": 2,
     "metadata": {},
     "output_type": "execute_result"
    }
   ],
   "source": [
    "from architectures import TransformerClassifier\n",
    "\n",
    "model = TransformerClassifier(input_dim=38)\n",
    "model.load_state_dict(torch.load(\"./saved/04_simple_transformer.pth\"))"
   ]
  },
  {
   "cell_type": "markdown",
   "metadata": {},
   "source": [
    "## Testing data"
   ]
  },
  {
   "cell_type": "code",
   "execution_count": 3,
   "metadata": {},
   "outputs": [
    {
     "name": "stdout",
     "output_type": "stream",
     "text": [
      "Loaded saved dataset tensors\n",
      "X_tensor contains 0 NaN values.\n",
      "y_tensor contains 0 NaN values.\n"
     ]
    }
   ],
   "source": [
    "from utils import get_data\n",
    "from sklearn.model_selection import train_test_split\n",
    "\n",
    "tensor_ds_path = f\"{project_root}/dataset/small_dataset_tensors.pth\"\n",
    "if os.path.exists(tensor_ds_path):\n",
    "    data = torch.load(tensor_ds_path)\n",
    "    print(\"Loaded saved dataset tensors\")\n",
    "    X_tensor = data[\"X_test\"] \n",
    "    y_tensor = data[\"y_test\"]\n",
    "    \n",
    "    mask = ~torch.isnan(X_tensor).any(dim=1)\n",
    "    X_tensor = X_tensor[mask]\n",
    "    y_tensor = y_tensor[mask] \n",
    "    \n",
    "    nan_count_X = torch.isnan(X_tensor).sum().item()\n",
    "    nan_count_y = torch.isnan(y_tensor).sum().item()\n",
    "\n",
    "    print(f\"X_tensor contains {nan_count_X} NaN values.\")\n",
    "    print(f\"y_tensor contains {nan_count_y} NaN values.\")\n",
    "\n"
   ]
  },
  {
   "cell_type": "markdown",
   "metadata": {},
   "source": [
    "## Testing loop"
   ]
  },
  {
   "cell_type": "code",
   "execution_count": 4,
   "metadata": {},
   "outputs": [
    {
     "name": "stderr",
     "output_type": "stream",
     "text": [
      "                                                                                 \r"
     ]
    },
    {
     "name": "stdout",
     "output_type": "stream",
     "text": [
      "Test Loss: 0.28755 | Test Accuracy: 0.90%\n"
     ]
    }
   ],
   "source": [
    "import pandas as pd\n",
    "from torch.utils.data import DataLoader, TensorDataset\n",
    "from tqdm import tqdm\n",
    "from torchmetrics import Accuracy\n",
    "\n",
    "batch_size = 512 \n",
    "test_dataset = TensorDataset(X_tensor, y_tensor)\n",
    "test_loader = DataLoader(test_dataset, batch_size=batch_size, shuffle=False)\n",
    "\n",
    "model.eval()\n",
    "test_loss, test_acc = 0, 0\n",
    "pos_weight = torch.tensor([2.3], dtype=torch.float32)\n",
    "loss_fn = nn.BCEWithLogitsLoss(pos_weight=pos_weight)\n",
    "t_accuracy = Accuracy(task='binary')\n",
    "all_y_logits, all_y_probs, all_y_pred, all_y_test = [], [], [], []\n",
    "\n",
    "with torch.inference_mode():\n",
    "    progress_bar = tqdm(test_loader, desc=\"Testing\", leave=False)\n",
    "    for X_batch, y_batch in progress_bar:\n",
    "        y_logits = model(X_batch)\n",
    "        y_probs = torch.sigmoid(y_logits)\n",
    "        y_pred = (y_probs >= 0.3).float() \n",
    "        \n",
    "        loss = loss_fn(y_logits, y_batch.unsqueeze(1).float())\n",
    "        acc = t_accuracy(y_pred, y_batch.unsqueeze(1).float())\n",
    "        \n",
    "        test_loss += loss.item()\n",
    "        test_acc += acc.item()\n",
    "        \n",
    "        progress_bar.set_postfix({\"Loss\": loss.item(), \"Acc\": acc.item()})\n",
    "        \n",
    "        all_y_logits.append(y_logits.cpu())\n",
    "        all_y_probs.append(y_probs.cpu())\n",
    "        all_y_pred.append(y_pred.cpu())\n",
    "        all_y_test.append(y_batch.cpu())\n",
    "\n",
    "test_loss /= len(test_loader)\n",
    "test_acc /= len(test_loader)\n",
    "\n",
    "print(f\"Test Loss: {test_loss:.5f} | Test Accuracy: {test_acc:.2f}%\")"
   ]
  },
  {
   "cell_type": "code",
   "execution_count": 5,
   "metadata": {},
   "outputs": [],
   "source": [
    "import pandas as pd\n",
    "import numpy as np\n",
    "from t_utils import save_eval_csv\n",
    "\n",
    "all_y_logits = torch.cat(all_y_logits).numpy().flatten()\n",
    "all_y_probs = torch.cat(all_y_probs).numpy().flatten()\n",
    "all_y_pred = torch.cat(all_y_pred).numpy().flatten()\n",
    "all_y_test = torch.cat(all_y_test).numpy().astype(int) \n",
    "\n",
    "df = pd.DataFrame({\n",
    "    'y_logits': all_y_logits,\n",
    "    'y_probs': all_y_probs,\n",
    "    'y_pred': all_y_pred,\n",
    "    'y_test': all_y_test\n",
    "})\n"
   ]
  },
  {
   "cell_type": "code",
   "execution_count": 6,
   "metadata": {},
   "outputs": [],
   "source": [
    "save_eval_csv(df, EVAL)"
   ]
  },
  {
   "cell_type": "code",
   "execution_count": 7,
   "metadata": {},
   "outputs": [
    {
     "name": "stdout",
     "output_type": "stream",
     "text": [
      "Total Accuracy: 90.31%\n"
     ]
    }
   ],
   "source": [
    "accuracy = (df['y_pred'] == df['y_test']).mean() * 100\n",
    "print(f\"Total Accuracy: {accuracy:.2f}%\")"
   ]
  },
  {
   "cell_type": "markdown",
   "metadata": {},
   "source": [
    "## Metrics and plots\n",
    "- If false negatives are worse → Use best threshold (F1-optimized).\n",
    "- If false positives are worse → Use precision-optimized threshold.\n",
    "- If both are critical → Stick to best_threshold but adjust slightly based on results."
   ]
  },
  {
   "cell_type": "code",
   "execution_count": 8,
   "metadata": {},
   "outputs": [
    {
     "name": "stdout",
     "output_type": "stream",
     "text": [
      "Metrics saved to /Users/damianstone/Documents/Code/machine-learning/dl-sepsis-prediction/models/model_B/results/04_simple_transformer/metrics.json\n"
     ]
    }
   ],
   "source": [
    "from t_utils import save_plots, FEATURE_NAMES, save_metrics\n",
    "\n",
    "y_test = df['y_test'].values\n",
    "y_probs = df['y_probs'].values\n",
    "y_pred = df['y_pred'].values\n",
    "\n",
    "\n",
    "save_plots(\n",
    "    y_test=y_test,\n",
    "    y_probs=y_probs,\n",
    "    y_pred=y_pred,\n",
    "    model=model, \n",
    "    feature_names=FEATURE_NAMES,\n",
    "    eval=EVAL,\n",
    "    attention_weights=[]\n",
    ")\n",
    "\n",
    "save_metrics(\n",
    "    y_test=y_test,\n",
    "    y_probs=y_probs,\n",
    "    y_pred=y_pred,\n",
    "    eval=EVAL,\n",
    ")"
   ]
  }
 ],
 "metadata": {
  "kernelspec": {
   "display_name": "venv-sepsis",
   "language": "python",
   "name": "python3"
  },
  "language_info": {
   "codemirror_mode": {
    "name": "ipython",
    "version": 3
   },
   "file_extension": ".py",
   "mimetype": "text/x-python",
   "name": "python",
   "nbconvert_exporter": "python",
   "pygments_lexer": "ipython3",
   "version": "3.12.0"
  }
 },
 "nbformat": 4,
 "nbformat_minor": 2
}
