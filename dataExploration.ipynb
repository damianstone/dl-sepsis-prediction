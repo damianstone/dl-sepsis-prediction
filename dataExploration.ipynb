{
 "cells": [
  {
   "cell_type": "code",
   "execution_count": 119,
   "metadata": {},
   "outputs": [
    {
     "data": {
      "text/plain": [
       "<module 'get_data' from 'c:\\\\Engineering Maths\\\\Year Three\\\\Data Science\\\\dl-sepsis-prediction\\\\utils\\\\get_data.py'>"
      ]
     },
     "execution_count": 119,
     "metadata": {},
     "output_type": "execute_result"
    }
   ],
   "source": [
    "import os\n",
    "import sys\n",
    "import pandas as pd\n",
    "import numpy as np\n",
    "from copy import copy\n",
    "import warnings\n",
    "import importlib\n",
    "from IPython.core.interactiveshell import InteractiveShell\n",
    "warnings.filterwarnings(\"ignore\")\n",
    "InteractiveShell.ast_node_interactivity = \"last_expr\"\n",
    "current_dir = os.getcwd()\n",
    "utils_path = os.path.abspath(\"utils\")  \n",
    "if utils_path not in sys.path:\n",
    "    sys.path.append(utils_path)\n",
    "import get_data \n",
    "importlib.reload(get_data)\n"
   ]
  },
  {
   "cell_type": "code",
   "execution_count": 120,
   "metadata": {},
   "outputs": [
    {
     "data": {
      "application/vnd.jupyter.widget-view+json": {
       "model_id": "f94d4469f415462e9f9cf52c8cfefacc",
       "version_major": 2,
       "version_minor": 0
      },
      "text/plain": [
       "Processing training_setA:   0%|          | 0/20336 [00:00<?, ?it/s]"
      ]
     },
     "metadata": {},
     "output_type": "display_data"
    },
    {
     "data": {
      "application/vnd.jupyter.widget-view+json": {
       "model_id": "d11b682c04b54303b20fd7dc1daccdc1",
       "version_major": 2,
       "version_minor": 0
      },
      "text/plain": [
       "Processing training_setB:   0%|          | 0/20000 [00:00<?, ?it/s]"
      ]
     },
     "metadata": {},
     "output_type": "display_data"
    }
   ],
   "source": [
    "combined_df, patientIds = get_data.get_dataset()"
   ]
  },
  {
   "cell_type": "code",
   "execution_count": 123,
   "metadata": {},
   "outputs": [
    {
     "name": "stdout",
     "output_type": "stream",
     "text": [
      "Index(['HR', 'O2Sat', 'Temp', 'SBP', 'MAP', 'DBP', 'Resp', 'EtCO2',\n",
      "       'BaseExcess', 'HCO3', 'FiO2', 'pH', 'PaCO2', 'SaO2', 'AST', 'BUN',\n",
      "       'Alkalinephos', 'Calcium', 'Chloride', 'Creatinine', 'Bilirubin_direct',\n",
      "       'Glucose', 'Lactate', 'Magnesium', 'Phosphate', 'Potassium',\n",
      "       'Bilirubin_total', 'TroponinI', 'Hct', 'Hgb', 'PTT', 'WBC',\n",
      "       'Fibrinogen', 'Platelets', 'Age', 'Gender', 'Unit1', 'Unit2',\n",
      "       'HospAdmTime', 'ICULOS', 'SepsisLabel', 'patient_id', 'dataset'],\n",
      "      dtype='object')\n",
      "1552210\n",
      "790215\n",
      "761995\n"
     ]
    }
   ],
   "source": [
    "print(combined_df.columns)\n",
    "print(len(combined_df))\n",
    "df_A = combined_df[combined_df['dataset'] == 'A']\n",
    "df_B = combined_df[combined_df['dataset'] == 'B']\n",
    "print(len(df_A))\n",
    "print(len(df_B))"
   ]
  },
  {
   "cell_type": "code",
   "execution_count": 124,
   "metadata": {},
   "outputs": [
    {
     "name": "stdout",
     "output_type": "stream",
     "text": [
      "Hospital system: A\n",
      "  Number of patients: 20336\n",
      "  Number of septic patients: 1790\n",
      "  Sepsis prevalence: 8.8%\n",
      "  Number of rows: 790215\n",
      "  Number of entries: 11876446\n",
      "  Density of entries: 35.0%\n",
      "\n",
      "\n",
      "Hospital system: B\n",
      "  Number of patients: 20000\n",
      "  Number of septic patients: 1142\n",
      "  Sepsis prevalence: 5.7%\n",
      "  Number of rows: 761995\n",
      "  Number of entries: 11356429\n",
      "  Density of entries: 34.7%\n",
      "\n",
      "\n"
     ]
    }
   ],
   "source": [
    "def summarise(df, hospital_name):\n",
    "    num_patients = df['patient_id'].nunique()\n",
    "    septic_patients = df.groupby('patient_id')['SepsisLabel'].max().sum()\n",
    "    sepsis_prevalence = septic_patients / num_patients * 100\n",
    "    num_rows = len(df)\n",
    "    num_entries = df.count().sum()\n",
    "    total_cells = df.shape[0] * df.shape[1]\n",
    "    density = num_entries / total_cells * 100\n",
    "    print(f\"Hospital system: {hospital_name}\")\n",
    "    print(f\"  Number of patients: {num_patients}\")\n",
    "    print(f\"  Number of septic patients: {int(septic_patients)}\")\n",
    "    print(f\"  Sepsis prevalence: {sepsis_prevalence:.1f}%\")\n",
    "    print(f\"  Number of rows: {num_rows}\")\n",
    "    print(f\"  Number of entries: {num_entries}\")\n",
    "    print(f\"  Density of entries: {density:.1f}%\")\n",
    "    print(\"\\n\")\n",
    "\n",
    "summarise(df_A, \"A\")\n",
    "summarise(df_B, \"B\")\n"
   ]
  }
 ],
 "metadata": {
  "kernelspec": {
   "display_name": "Python 3",
   "language": "python",
   "name": "python3"
  },
  "language_info": {
   "codemirror_mode": {
    "name": "ipython",
    "version": 3
   },
   "file_extension": ".py",
   "mimetype": "text/x-python",
   "name": "python",
   "nbconvert_exporter": "python",
   "pygments_lexer": "ipython3",
   "version": "3.10.6"
  }
 },
 "nbformat": 4,
 "nbformat_minor": 2
}
