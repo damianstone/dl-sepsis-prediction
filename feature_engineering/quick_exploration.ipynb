{
 "cells": [
  {
   "cell_type": "markdown",
   "metadata": {},
   "source": [
    "## Exploring pre process dataset"
   ]
  },
  {
   "cell_type": "code",
   "execution_count": 1,
   "metadata": {},
   "outputs": [],
   "source": [
    "import os\n",
    "import sys\n",
    "import torch\n",
    "import pandas as pd\n",
    "import numpy as np\n",
    "import matplotlib.pyplot as plt\n",
    "from pathlib import Path"
   ]
  },
  {
   "cell_type": "code",
   "execution_count": 2,
   "metadata": {},
   "outputs": [],
   "source": [
    "def find_project_root(marker=\".gitignore\"):\n",
    "    \"\"\"\n",
    "    walk up from the current working directory until a directory containing the\n",
    "    specified marker (e.g., .gitignore) is found.\n",
    "    \"\"\"\n",
    "    current = Path.cwd()\n",
    "    for parent in [current] + list(current.parents):\n",
    "        if (parent / marker).exists():\n",
    "            return parent.resolve()\n",
    "    raise FileNotFoundError(f\"Project root marker '{marker}' not found starting from {current}\")\n",
    "  \n",
    "root = find_project_root()\n",
    "if root not in sys.path:\n",
    "    sys.path.append(root)\n",
    "    \n",
    "utils_path = os.path.join(root, \"feature_engineering\")\n",
    "if utils_path not in sys.path:\n",
    "    sys.path.append(utils_path)\n"
   ]
  },
  {
   "cell_type": "markdown",
   "metadata": {},
   "source": [
    "## Dataset before pre-processing"
   ]
  },
  {
   "cell_type": "code",
   "execution_count": 3,
   "metadata": {},
   "outputs": [],
   "source": [
    "imputed_df = pd.read_parquet(f\"{root}/dataset/Fully_imputed_dataset.parquet\")"
   ]
  },
  {
   "cell_type": "code",
   "execution_count": 4,
   "metadata": {},
   "outputs": [
    {
     "name": "stdout",
     "output_type": "stream",
     "text": [
      "total columns: 44\n",
      "['HR', 'O2Sat', 'Temp', 'SBP', 'MAP', 'DBP', 'Resp', 'EtCO2', 'BaseExcess', 'HCO3', 'FiO2', 'pH', 'PaCO2', 'SaO2', 'AST', 'BUN', 'Alkalinephos', 'Calcium', 'Chloride', 'Creatinine', 'Bilirubin_direct', 'Glucose', 'Lactate', 'Magnesium', 'Phosphate', 'Potassium', 'Bilirubin_total', 'TroponinI', 'Hct', 'Hgb', 'PTT', 'WBC', 'Fibrinogen', 'Platelets', 'Age', 'Gender', 'Unit1', 'Unit2', 'HospAdmTime', 'ICULOS', 'SepsisLabel', 'patient_id', 'dataset', 'cluster_id']\n"
     ]
    }
   ],
   "source": [
    "column_names = imputed_df.columns.tolist()\n",
    "print(f\"total columns: {len(column_names)}\")\n",
    "print(column_names)"
   ]
  },
  {
   "cell_type": "code",
   "execution_count": 5,
   "metadata": {},
   "outputs": [
    {
     "data": {
      "text/plain": [
       "HR                  0\n",
       "O2Sat               0\n",
       "Temp                0\n",
       "SBP                 0\n",
       "MAP                 0\n",
       "DBP                 0\n",
       "Resp                0\n",
       "EtCO2               0\n",
       "BaseExcess          0\n",
       "HCO3                0\n",
       "FiO2                0\n",
       "pH                  0\n",
       "PaCO2               0\n",
       "SaO2                0\n",
       "AST                 0\n",
       "BUN                 0\n",
       "Alkalinephos        0\n",
       "Calcium             0\n",
       "Chloride            0\n",
       "Creatinine          0\n",
       "Bilirubin_direct    0\n",
       "Glucose             0\n",
       "Lactate             0\n",
       "Magnesium           0\n",
       "Phosphate           0\n",
       "Potassium           0\n",
       "Bilirubin_total     0\n",
       "TroponinI           0\n",
       "Hct                 0\n",
       "Hgb                 0\n",
       "PTT                 0\n",
       "WBC                 0\n",
       "Fibrinogen          0\n",
       "Platelets           0\n",
       "Age                 0\n",
       "Gender              0\n",
       "Unit1               0\n",
       "Unit2               0\n",
       "HospAdmTime         8\n",
       "ICULOS              0\n",
       "SepsisLabel         0\n",
       "patient_id          0\n",
       "dataset             0\n",
       "cluster_id          0\n",
       "dtype: int64"
      ]
     },
     "execution_count": 5,
     "metadata": {},
     "output_type": "execute_result"
    }
   ],
   "source": [
    "# print nan values \n",
    "imputed_df.isna().sum()"
   ]
  },
  {
   "cell_type": "markdown",
   "metadata": {},
   "source": [
    "## Pre-processed dataset"
   ]
  },
  {
   "cell_type": "code",
   "execution_count": 8,
   "metadata": {},
   "outputs": [
    {
     "data": {
      "text/html": [
       "<div>\n",
       "<style scoped>\n",
       "    .dataframe tbody tr th:only-of-type {\n",
       "        vertical-align: middle;\n",
       "    }\n",
       "\n",
       "    .dataframe tbody tr th {\n",
       "        vertical-align: top;\n",
       "    }\n",
       "\n",
       "    .dataframe thead th {\n",
       "        text-align: right;\n",
       "    }\n",
       "</style>\n",
       "<table border=\"1\" class=\"dataframe\">\n",
       "  <thead>\n",
       "    <tr style=\"text-align: right;\">\n",
       "      <th></th>\n",
       "      <th>HR</th>\n",
       "      <th>O2Sat</th>\n",
       "      <th>Temp</th>\n",
       "      <th>SBP</th>\n",
       "      <th>MAP</th>\n",
       "      <th>DBP</th>\n",
       "      <th>Resp</th>\n",
       "      <th>EtCO2</th>\n",
       "      <th>BaseExcess</th>\n",
       "      <th>HCO3</th>\n",
       "      <th>...</th>\n",
       "      <th>HR_missing_count_global</th>\n",
       "      <th>HR_missing_interval_mean_global</th>\n",
       "      <th>O2Sat_missing_count_global</th>\n",
       "      <th>O2Sat_missing_interval_mean_global</th>\n",
       "      <th>SBP_missing_count_global</th>\n",
       "      <th>SBP_missing_interval_mean_global</th>\n",
       "      <th>MAP_missing_count_global</th>\n",
       "      <th>MAP_missing_interval_mean_global</th>\n",
       "      <th>Resp_missing_count_global</th>\n",
       "      <th>Resp_missing_interval_mean_global</th>\n",
       "    </tr>\n",
       "  </thead>\n",
       "  <tbody>\n",
       "    <tr>\n",
       "      <th>0</th>\n",
       "      <td>102.108491</td>\n",
       "      <td>91.419811</td>\n",
       "      <td>36.919203</td>\n",
       "      <td>128.165094</td>\n",
       "      <td>88.199717</td>\n",
       "      <td>67.007325</td>\n",
       "      <td>24.712264</td>\n",
       "      <td>29.6875</td>\n",
       "      <td>0.091837</td>\n",
       "      <td>22.811236</td>\n",
       "      <td>...</td>\n",
       "      <td>5</td>\n",
       "      <td>1.0</td>\n",
       "      <td>10</td>\n",
       "      <td>1.111111</td>\n",
       "      <td>12</td>\n",
       "      <td>1.0</td>\n",
       "      <td>12</td>\n",
       "      <td>1.0</td>\n",
       "      <td>4</td>\n",
       "      <td>1.0</td>\n",
       "    </tr>\n",
       "    <tr>\n",
       "      <th>1</th>\n",
       "      <td>97.000000</td>\n",
       "      <td>95.000000</td>\n",
       "      <td>36.919203</td>\n",
       "      <td>98.000000</td>\n",
       "      <td>75.330000</td>\n",
       "      <td>67.007325</td>\n",
       "      <td>19.000000</td>\n",
       "      <td>29.6875</td>\n",
       "      <td>0.091837</td>\n",
       "      <td>22.811236</td>\n",
       "      <td>...</td>\n",
       "      <td>5</td>\n",
       "      <td>1.0</td>\n",
       "      <td>10</td>\n",
       "      <td>1.111111</td>\n",
       "      <td>12</td>\n",
       "      <td>1.0</td>\n",
       "      <td>12</td>\n",
       "      <td>1.0</td>\n",
       "      <td>4</td>\n",
       "      <td>1.0</td>\n",
       "    </tr>\n",
       "    <tr>\n",
       "      <th>2</th>\n",
       "      <td>89.000000</td>\n",
       "      <td>99.000000</td>\n",
       "      <td>36.919203</td>\n",
       "      <td>122.000000</td>\n",
       "      <td>86.000000</td>\n",
       "      <td>67.007325</td>\n",
       "      <td>22.000000</td>\n",
       "      <td>29.6875</td>\n",
       "      <td>0.091837</td>\n",
       "      <td>22.811236</td>\n",
       "      <td>...</td>\n",
       "      <td>5</td>\n",
       "      <td>1.0</td>\n",
       "      <td>10</td>\n",
       "      <td>1.111111</td>\n",
       "      <td>12</td>\n",
       "      <td>1.0</td>\n",
       "      <td>12</td>\n",
       "      <td>1.0</td>\n",
       "      <td>4</td>\n",
       "      <td>1.0</td>\n",
       "    </tr>\n",
       "    <tr>\n",
       "      <th>3</th>\n",
       "      <td>90.000000</td>\n",
       "      <td>95.000000</td>\n",
       "      <td>36.919203</td>\n",
       "      <td>122.000000</td>\n",
       "      <td>88.665000</td>\n",
       "      <td>67.007325</td>\n",
       "      <td>30.000000</td>\n",
       "      <td>29.6875</td>\n",
       "      <td>24.000000</td>\n",
       "      <td>22.811236</td>\n",
       "      <td>...</td>\n",
       "      <td>5</td>\n",
       "      <td>1.0</td>\n",
       "      <td>10</td>\n",
       "      <td>1.111111</td>\n",
       "      <td>12</td>\n",
       "      <td>1.0</td>\n",
       "      <td>12</td>\n",
       "      <td>1.0</td>\n",
       "      <td>4</td>\n",
       "      <td>1.0</td>\n",
       "    </tr>\n",
       "    <tr>\n",
       "      <th>4</th>\n",
       "      <td>103.000000</td>\n",
       "      <td>88.500000</td>\n",
       "      <td>36.919203</td>\n",
       "      <td>122.000000</td>\n",
       "      <td>91.330000</td>\n",
       "      <td>67.007325</td>\n",
       "      <td>24.500000</td>\n",
       "      <td>29.6875</td>\n",
       "      <td>0.091837</td>\n",
       "      <td>22.811236</td>\n",
       "      <td>...</td>\n",
       "      <td>5</td>\n",
       "      <td>1.0</td>\n",
       "      <td>10</td>\n",
       "      <td>1.111111</td>\n",
       "      <td>12</td>\n",
       "      <td>1.0</td>\n",
       "      <td>12</td>\n",
       "      <td>1.0</td>\n",
       "      <td>4</td>\n",
       "      <td>1.0</td>\n",
       "    </tr>\n",
       "  </tbody>\n",
       "</table>\n",
       "<p>5 rows × 97 columns</p>\n",
       "</div>"
      ],
      "text/plain": [
       "           HR      O2Sat       Temp         SBP        MAP        DBP  \\\n",
       "0  102.108491  91.419811  36.919203  128.165094  88.199717  67.007325   \n",
       "1   97.000000  95.000000  36.919203   98.000000  75.330000  67.007325   \n",
       "2   89.000000  99.000000  36.919203  122.000000  86.000000  67.007325   \n",
       "3   90.000000  95.000000  36.919203  122.000000  88.665000  67.007325   \n",
       "4  103.000000  88.500000  36.919203  122.000000  91.330000  67.007325   \n",
       "\n",
       "        Resp    EtCO2  BaseExcess       HCO3  ...  HR_missing_count_global  \\\n",
       "0  24.712264  29.6875    0.091837  22.811236  ...                        5   \n",
       "1  19.000000  29.6875    0.091837  22.811236  ...                        5   \n",
       "2  22.000000  29.6875    0.091837  22.811236  ...                        5   \n",
       "3  30.000000  29.6875   24.000000  22.811236  ...                        5   \n",
       "4  24.500000  29.6875    0.091837  22.811236  ...                        5   \n",
       "\n",
       "   HR_missing_interval_mean_global  O2Sat_missing_count_global  \\\n",
       "0                              1.0                          10   \n",
       "1                              1.0                          10   \n",
       "2                              1.0                          10   \n",
       "3                              1.0                          10   \n",
       "4                              1.0                          10   \n",
       "\n",
       "   O2Sat_missing_interval_mean_global  SBP_missing_count_global  \\\n",
       "0                            1.111111                        12   \n",
       "1                            1.111111                        12   \n",
       "2                            1.111111                        12   \n",
       "3                            1.111111                        12   \n",
       "4                            1.111111                        12   \n",
       "\n",
       "   SBP_missing_interval_mean_global  MAP_missing_count_global  \\\n",
       "0                               1.0                        12   \n",
       "1                               1.0                        12   \n",
       "2                               1.0                        12   \n",
       "3                               1.0                        12   \n",
       "4                               1.0                        12   \n",
       "\n",
       "   MAP_missing_interval_mean_global  Resp_missing_count_global  \\\n",
       "0                               1.0                          4   \n",
       "1                               1.0                          4   \n",
       "2                               1.0                          4   \n",
       "3                               1.0                          4   \n",
       "4                               1.0                          4   \n",
       "\n",
       "   Resp_missing_interval_mean_global  \n",
       "0                                1.0  \n",
       "1                                1.0  \n",
       "2                                1.0  \n",
       "3                                1.0  \n",
       "4                                1.0  \n",
       "\n",
       "[5 rows x 97 columns]"
      ]
     },
     "execution_count": 8,
     "metadata": {},
     "output_type": "execute_result"
    }
   ],
   "source": [
    "\n",
    "df = pd.read_parquet(f\"{root}/dataset/V2_preprocessed.parquet\")\n",
    "df.head(5)"
   ]
  },
  {
   "cell_type": "code",
   "execution_count": 13,
   "metadata": {},
   "outputs": [
    {
     "data": {
      "text/plain": [
       "pandas.core.frame.DataFrame"
      ]
     },
     "execution_count": 13,
     "metadata": {},
     "output_type": "execute_result"
    }
   ],
   "source": [
    "type(df)"
   ]
  },
  {
   "cell_type": "code",
   "execution_count": 9,
   "metadata": {},
   "outputs": [
    {
     "data": {
      "text/plain": [
       "40336"
      ]
     },
     "execution_count": 9,
     "metadata": {},
     "output_type": "execute_result"
    }
   ],
   "source": [
    "# check if df have the patient_id column\n",
    "df['patient_id'].nunique()"
   ]
  },
  {
   "cell_type": "code",
   "execution_count": 10,
   "metadata": {},
   "outputs": [
    {
     "name": "stdout",
     "output_type": "stream",
     "text": [
      "total columns: 97\n",
      "['SOFA_Creatinine',\n",
      " 'SOFA_Platelets',\n",
      " 'SOFA_Bilirubin_total',\n",
      " 'SOFA_SaO2_FiO2',\n",
      " 'SOFA_score',\n",
      " 'NEWS_HR_score',\n",
      " 'NEWS_Resp_score',\n",
      " 'NEWS_Temp_score',\n",
      " 'NEWS_SBP_score',\n",
      " 'NEWS_O2Sat_score',\n",
      " 'NEWS_FiO2_score',\n",
      " 'NEWS_score',\n",
      " 'qSOFA_Resp_score',\n",
      " 'qSOFA_SBP_score',\n",
      " 'qSOFA_score',\n",
      " 'Shock_Index',\n",
      " 'Bilirubin_Ratio',\n",
      " 'HR_max_6h',\n",
      " 'HR_min_6h',\n",
      " 'HR_mean_6h',\n",
      " 'HR_median_6h',\n",
      " 'HR_std_6h',\n",
      " 'HR_diff_std_6h',\n",
      " 'O2Sat_max_6h',\n",
      " 'O2Sat_min_6h',\n",
      " 'O2Sat_mean_6h',\n",
      " 'O2Sat_median_6h',\n",
      " 'O2Sat_std_6h',\n",
      " 'O2Sat_diff_std_6h',\n",
      " 'SBP_max_6h',\n",
      " 'SBP_min_6h',\n",
      " 'SBP_mean_6h',\n",
      " 'SBP_median_6h',\n",
      " 'SBP_std_6h',\n",
      " 'SBP_diff_std_6h',\n",
      " 'MAP_max_6h',\n",
      " 'MAP_min_6h',\n",
      " 'MAP_mean_6h',\n",
      " 'MAP_median_6h',\n",
      " 'MAP_std_6h',\n",
      " 'MAP_diff_std_6h',\n",
      " 'Resp_max_6h',\n",
      " 'Resp_min_6h',\n",
      " 'Resp_mean_6h',\n",
      " 'Resp_median_6h',\n",
      " 'Resp_std_6h',\n",
      " 'Resp_diff_std_6h',\n",
      " 'HR_missing_count_global',\n",
      " 'HR_missing_interval_mean_global',\n",
      " 'O2Sat_missing_count_global',\n",
      " 'O2Sat_missing_interval_mean_global',\n",
      " 'SBP_missing_count_global',\n",
      " 'SBP_missing_interval_mean_global',\n",
      " 'MAP_missing_count_global',\n",
      " 'MAP_missing_interval_mean_global',\n",
      " 'Resp_missing_count_global',\n",
      " 'Resp_missing_interval_mean_global']\n"
     ]
    }
   ],
   "source": [
    "from pprint import pprint\n",
    "\n",
    "pre_processed_column_names = df.columns.tolist()\n",
    "print(f\"total columns: {len(pre_processed_column_names)}\")\n",
    "\n",
    "# print extra columns that are in pre_processed_column_names but not in column_names\n",
    "extra_columns = [col for col in pre_processed_column_names if col not in column_names]\n",
    "pprint(extra_columns)\n"
   ]
  },
  {
   "cell_type": "code",
   "execution_count": 11,
   "metadata": {},
   "outputs": [
    {
     "name": "stdout",
     "output_type": "stream",
     "text": [
      "Series([], dtype: int64)\n"
     ]
    }
   ],
   "source": [
    "# Print columns with their NaN counts\n",
    "nan_counts = df.isna().sum()\n",
    "# Only show columns that have NaN values\n",
    "nan_counts = nan_counts[nan_counts > 0]\n",
    "print(nan_counts)"
   ]
  },
  {
   "cell_type": "markdown",
   "metadata": {},
   "source": [
    "## Imputed vs Pre-processed"
   ]
  },
  {
   "cell_type": "code",
   "execution_count": 14,
   "metadata": {},
   "outputs": [
    {
     "name": "stdout",
     "output_type": "stream",
     "text": [
      "Hospital system: imputed\n",
      "  Number of patients: 40336\n",
      "  Number of septic patients: 2932\n",
      "  Sepsis prevalence: 7.3%\n",
      "  Number of rows: 1552210\n",
      "  Number of entries: 68297232\n",
      "  Density of entries: 100.0%\n",
      "\n",
      "\n",
      "Hospital system: pre-processed\n",
      "  Number of patients: 40336\n",
      "  Number of septic patients: 2932\n",
      "  Sepsis prevalence: 7.3%\n",
      "  Number of rows: 1552210\n",
      "  Number of entries: 150564370\n",
      "  Density of entries: 100.0%\n",
      "\n",
      "\n"
     ]
    }
   ],
   "source": [
    "import os\n",
    "import sys\n",
    "import pandas as pd\n",
    "\n",
    "notebook_dir = os.getcwd()\n",
    "\n",
    "project_root = os.path.abspath(os.path.join(notebook_dir, \"..\"))\n",
    "if project_root not in sys.path:\n",
    "    sys.path.append(project_root)\n",
    "    \n",
    "utils_path = os.path.join(project_root, \"utils\")\n",
    "if utils_path not in sys.path:\n",
    "    sys.path.append(utils_path)\n",
    "import analyse_data\n",
    "\n",
    "analyse_data.summariseSeperateDatasets(imputed_df, \"imputed\")\n",
    "analyse_data.summariseSeperateDatasets(df, \"pre-processed\")\n"
   ]
  }
 ],
 "metadata": {
  "kernelspec": {
   "display_name": "venv-sepsis",
   "language": "python",
   "name": "python3"
  },
  "language_info": {
   "codemirror_mode": {
    "name": "ipython",
    "version": 3
   },
   "file_extension": ".py",
   "mimetype": "text/x-python",
   "name": "python",
   "nbconvert_exporter": "python",
   "pygments_lexer": "ipython3",
   "version": "3.12.0"
  }
 },
 "nbformat": 4,
 "nbformat_minor": 2
}
