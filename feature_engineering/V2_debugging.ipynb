{
 "cells": [
  {
   "cell_type": "code",
   "execution_count": 24,
   "metadata": {},
   "outputs": [],
   "source": [
    "import pandas as pd\n"
   ]
  },
  {
   "cell_type": "code",
   "execution_count": 25,
   "metadata": {},
   "outputs": [],
   "source": [
    "from pathlib import Path\n",
    "\n",
    "def find_project_root(marker=\".gitignore\"):\n",
    "    \"\"\"\n",
    "    walk up from the current working directory until a directory containing the\n",
    "    specified marker (e.g., .gitignore) is found.\n",
    "    \"\"\"\n",
    "    current = Path.cwd()\n",
    "    for parent in [current] + list(current.parents):\n",
    "        if (parent / marker).exists():\n",
    "            return parent.resolve()\n",
    "    raise FileNotFoundError(f\"Project root marker '{marker}' not found starting from {current}\")\n",
    "  "
   ]
  },
  {
   "cell_type": "code",
   "execution_count": 26,
   "metadata": {},
   "outputs": [],
   "source": [
    "root = find_project_root()\n",
    "INPUT_DATASET = f\"{root}/dataset/V2_preprocessed.parquet_with_nans.parquet\""
   ]
  },
  {
   "cell_type": "code",
   "execution_count": 27,
   "metadata": {},
   "outputs": [
    {
     "data": {
      "text/plain": [
       "HR                      0\n",
       "O2Sat                   0\n",
       "Temp                    0\n",
       "SBP                     0\n",
       "MAP                     0\n",
       "                    ...  \n",
       "Resp_min_6h             0\n",
       "Resp_mean_6h            0\n",
       "Resp_median_6h          0\n",
       "Resp_std_6h         40336\n",
       "Resp_diff_std_6h    80672\n",
       "Length: 97, dtype: int64"
      ]
     },
     "execution_count": 27,
     "metadata": {},
     "output_type": "execute_result"
    }
   ],
   "source": [
    "# check for nans\n",
    "df = pd.read_parquet(INPUT_DATASET)\n",
    "df.isna().sum()"
   ]
  },
  {
   "cell_type": "code",
   "execution_count": 28,
   "metadata": {},
   "outputs": [
    {
     "data": {
      "text/plain": [
       "HospAdmTime              8\n",
       "HR_std_6h            40336\n",
       "HR_diff_std_6h       80672\n",
       "O2Sat_std_6h         40336\n",
       "O2Sat_diff_std_6h    80672\n",
       "SBP_std_6h           40336\n",
       "SBP_diff_std_6h      80672\n",
       "MAP_std_6h           40336\n",
       "MAP_diff_std_6h      80672\n",
       "Resp_std_6h          40336\n",
       "Resp_diff_std_6h     80672\n",
       "dtype: int64"
      ]
     },
     "execution_count": 28,
     "metadata": {},
     "output_type": "execute_result"
    }
   ],
   "source": [
    "# check the names of the columns with nans\n",
    "df.columns[df.isna().any()]\n",
    "\n",
    "# print nan values per column, filter out the columns with no nans\n",
    "df.isna().sum().loc[lambda x: x > 0]"
   ]
  },
  {
   "cell_type": "code",
   "execution_count": 29,
   "metadata": {},
   "outputs": [
    {
     "data": {
      "text/plain": [
       "HR                  0\n",
       "O2Sat               0\n",
       "Temp                0\n",
       "SBP                 0\n",
       "MAP                 0\n",
       "                   ..\n",
       "Resp_min_6h         0\n",
       "Resp_mean_6h        0\n",
       "Resp_median_6h      0\n",
       "Resp_std_6h         0\n",
       "Resp_diff_std_6h    0\n",
       "Length: 97, dtype: int64"
      ]
     },
     "execution_count": 29,
     "metadata": {},
     "output_type": "execute_result"
    }
   ],
   "source": [
    "# forward fill the nans\n",
    "df = df.ffill()\n",
    "# back fill the nans\n",
    "df = df.bfill()\n",
    "# check if the nans are forward filled\n",
    "df.isna().sum()\n",
    "\n",
    "\n",
    "\n",
    "\n"
   ]
  },
  {
   "cell_type": "code",
   "execution_count": 33,
   "metadata": {},
   "outputs": [
    {
     "data": {
      "text/html": [
       "<div>\n",
       "<style scoped>\n",
       "    .dataframe tbody tr th:only-of-type {\n",
       "        vertical-align: middle;\n",
       "    }\n",
       "\n",
       "    .dataframe tbody tr th {\n",
       "        vertical-align: top;\n",
       "    }\n",
       "\n",
       "    .dataframe thead th {\n",
       "        text-align: right;\n",
       "    }\n",
       "</style>\n",
       "<table border=\"1\" class=\"dataframe\">\n",
       "  <thead>\n",
       "    <tr style=\"text-align: right;\">\n",
       "      <th></th>\n",
       "      <th>HR</th>\n",
       "      <th>O2Sat</th>\n",
       "      <th>Temp</th>\n",
       "      <th>SBP</th>\n",
       "      <th>MAP</th>\n",
       "      <th>DBP</th>\n",
       "      <th>Resp</th>\n",
       "      <th>EtCO2</th>\n",
       "      <th>BaseExcess</th>\n",
       "      <th>HCO3</th>\n",
       "      <th>...</th>\n",
       "      <th>MAP_mean_6h</th>\n",
       "      <th>MAP_median_6h</th>\n",
       "      <th>MAP_std_6h</th>\n",
       "      <th>MAP_diff_std_6h</th>\n",
       "      <th>Resp_max_6h</th>\n",
       "      <th>Resp_min_6h</th>\n",
       "      <th>Resp_mean_6h</th>\n",
       "      <th>Resp_median_6h</th>\n",
       "      <th>Resp_std_6h</th>\n",
       "      <th>Resp_diff_std_6h</th>\n",
       "    </tr>\n",
       "  </thead>\n",
       "  <tbody>\n",
       "    <tr>\n",
       "      <th>0</th>\n",
       "      <td>102.108491</td>\n",
       "      <td>91.419811</td>\n",
       "      <td>36.919203</td>\n",
       "      <td>128.165094</td>\n",
       "      <td>88.199717</td>\n",
       "      <td>67.007325</td>\n",
       "      <td>24.712264</td>\n",
       "      <td>29.6875</td>\n",
       "      <td>0.091837</td>\n",
       "      <td>22.811236</td>\n",
       "      <td>...</td>\n",
       "      <td>88.199717</td>\n",
       "      <td>88.199717</td>\n",
       "      <td>9.100264</td>\n",
       "      <td>16.645094</td>\n",
       "      <td>24.712264</td>\n",
       "      <td>24.712264</td>\n",
       "      <td>24.712264</td>\n",
       "      <td>24.712264</td>\n",
       "      <td>4.039181</td>\n",
       "      <td>6.160501</td>\n",
       "    </tr>\n",
       "    <tr>\n",
       "      <th>1</th>\n",
       "      <td>97.000000</td>\n",
       "      <td>95.000000</td>\n",
       "      <td>36.919203</td>\n",
       "      <td>98.000000</td>\n",
       "      <td>75.330000</td>\n",
       "      <td>67.007325</td>\n",
       "      <td>19.000000</td>\n",
       "      <td>29.6875</td>\n",
       "      <td>0.091837</td>\n",
       "      <td>22.811236</td>\n",
       "      <td>...</td>\n",
       "      <td>81.764858</td>\n",
       "      <td>81.764858</td>\n",
       "      <td>9.100264</td>\n",
       "      <td>16.645094</td>\n",
       "      <td>24.712264</td>\n",
       "      <td>19.000000</td>\n",
       "      <td>21.856132</td>\n",
       "      <td>21.856132</td>\n",
       "      <td>4.039181</td>\n",
       "      <td>6.160501</td>\n",
       "    </tr>\n",
       "    <tr>\n",
       "      <th>2</th>\n",
       "      <td>89.000000</td>\n",
       "      <td>99.000000</td>\n",
       "      <td>36.919203</td>\n",
       "      <td>122.000000</td>\n",
       "      <td>86.000000</td>\n",
       "      <td>67.007325</td>\n",
       "      <td>22.000000</td>\n",
       "      <td>29.6875</td>\n",
       "      <td>0.091837</td>\n",
       "      <td>22.811236</td>\n",
       "      <td>...</td>\n",
       "      <td>83.176572</td>\n",
       "      <td>86.000000</td>\n",
       "      <td>6.883764</td>\n",
       "      <td>16.645094</td>\n",
       "      <td>24.712264</td>\n",
       "      <td>19.000000</td>\n",
       "      <td>21.904088</td>\n",
       "      <td>22.000000</td>\n",
       "      <td>2.857340</td>\n",
       "      <td>6.160501</td>\n",
       "    </tr>\n",
       "    <tr>\n",
       "      <th>3</th>\n",
       "      <td>90.000000</td>\n",
       "      <td>95.000000</td>\n",
       "      <td>36.919203</td>\n",
       "      <td>122.000000</td>\n",
       "      <td>88.665000</td>\n",
       "      <td>67.007325</td>\n",
       "      <td>30.000000</td>\n",
       "      <td>29.6875</td>\n",
       "      <td>24.000000</td>\n",
       "      <td>22.811236</td>\n",
       "      <td>...</td>\n",
       "      <td>84.548679</td>\n",
       "      <td>87.099858</td>\n",
       "      <td>6.254720</td>\n",
       "      <td>11.968888</td>\n",
       "      <td>30.000000</td>\n",
       "      <td>19.000000</td>\n",
       "      <td>23.928066</td>\n",
       "      <td>23.356132</td>\n",
       "      <td>4.672138</td>\n",
       "      <td>6.939377</td>\n",
       "    </tr>\n",
       "    <tr>\n",
       "      <th>4</th>\n",
       "      <td>103.000000</td>\n",
       "      <td>88.500000</td>\n",
       "      <td>36.919203</td>\n",
       "      <td>122.000000</td>\n",
       "      <td>91.330000</td>\n",
       "      <td>67.007325</td>\n",
       "      <td>24.500000</td>\n",
       "      <td>29.6875</td>\n",
       "      <td>0.091837</td>\n",
       "      <td>22.811236</td>\n",
       "      <td>...</td>\n",
       "      <td>85.904943</td>\n",
       "      <td>88.199717</td>\n",
       "      <td>6.207930</td>\n",
       "      <td>9.852805</td>\n",
       "      <td>30.000000</td>\n",
       "      <td>19.000000</td>\n",
       "      <td>24.042453</td>\n",
       "      <td>24.500000</td>\n",
       "      <td>4.054267</td>\n",
       "      <td>6.729752</td>\n",
       "    </tr>\n",
       "  </tbody>\n",
       "</table>\n",
       "<p>5 rows × 97 columns</p>\n",
       "</div>"
      ],
      "text/plain": [
       "           HR      O2Sat       Temp         SBP        MAP        DBP  \\\n",
       "0  102.108491  91.419811  36.919203  128.165094  88.199717  67.007325   \n",
       "1   97.000000  95.000000  36.919203   98.000000  75.330000  67.007325   \n",
       "2   89.000000  99.000000  36.919203  122.000000  86.000000  67.007325   \n",
       "3   90.000000  95.000000  36.919203  122.000000  88.665000  67.007325   \n",
       "4  103.000000  88.500000  36.919203  122.000000  91.330000  67.007325   \n",
       "\n",
       "        Resp    EtCO2  BaseExcess       HCO3  ...  MAP_mean_6h  MAP_median_6h  \\\n",
       "0  24.712264  29.6875    0.091837  22.811236  ...    88.199717      88.199717   \n",
       "1  19.000000  29.6875    0.091837  22.811236  ...    81.764858      81.764858   \n",
       "2  22.000000  29.6875    0.091837  22.811236  ...    83.176572      86.000000   \n",
       "3  30.000000  29.6875   24.000000  22.811236  ...    84.548679      87.099858   \n",
       "4  24.500000  29.6875    0.091837  22.811236  ...    85.904943      88.199717   \n",
       "\n",
       "   MAP_std_6h  MAP_diff_std_6h  Resp_max_6h  Resp_min_6h  Resp_mean_6h  \\\n",
       "0    9.100264        16.645094    24.712264    24.712264     24.712264   \n",
       "1    9.100264        16.645094    24.712264    19.000000     21.856132   \n",
       "2    6.883764        16.645094    24.712264    19.000000     21.904088   \n",
       "3    6.254720        11.968888    30.000000    19.000000     23.928066   \n",
       "4    6.207930         9.852805    30.000000    19.000000     24.042453   \n",
       "\n",
       "   Resp_median_6h  Resp_std_6h  Resp_diff_std_6h  \n",
       "0       24.712264     4.039181          6.160501  \n",
       "1       21.856132     4.039181          6.160501  \n",
       "2       22.000000     2.857340          6.160501  \n",
       "3       23.356132     4.672138          6.939377  \n",
       "4       24.500000     4.054267          6.729752  \n",
       "\n",
       "[5 rows x 97 columns]"
      ]
     },
     "execution_count": 33,
     "metadata": {},
     "output_type": "execute_result"
    }
   ],
   "source": [
    "df.head()"
   ]
  },
  {
   "cell_type": "code",
   "execution_count": 32,
   "metadata": {},
   "outputs": [],
   "source": [
    "# save the dataset\n",
    "df.to_parquet(f\"{root}/dataset/V2_preprocessed.parquet\")"
   ]
  },
  {
   "cell_type": "code",
   "execution_count": null,
   "metadata": {},
   "outputs": [],
   "source": []
  }
 ],
 "metadata": {
  "kernelspec": {
   "display_name": ".venv",
   "language": "python",
   "name": "python3"
  },
  "language_info": {
   "codemirror_mode": {
    "name": "ipython",
    "version": 3
   },
   "file_extension": ".py",
   "mimetype": "text/x-python",
   "name": "python",
   "nbconvert_exporter": "python",
   "pygments_lexer": "ipython3",
   "version": "3.12.4"
  }
 },
 "nbformat": 4,
 "nbformat_minor": 2
}
