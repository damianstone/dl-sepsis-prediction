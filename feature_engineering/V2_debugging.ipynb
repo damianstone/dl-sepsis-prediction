{
 "cells": [
  {
   "cell_type": "code",
   "execution_count": 24,
   "metadata": {},
   "outputs": [],
   "source": [
    "import pandas as pd\n"
   ]
  },
  {
   "cell_type": "code",
   "execution_count": 25,
   "metadata": {},
   "outputs": [],
   "source": [
    "from pathlib import Path\n",
    "\n",
    "def find_project_root(marker=\".gitignore\"):\n",
    "    \"\"\"\n",
    "    walk up from the current working directory until a directory containing the\n",
    "    specified marker (e.g., .gitignore) is found.\n",
    "    \"\"\"\n",
    "    current = Path.cwd()\n",
    "    for parent in [current] + list(current.parents):\n",
    "        if (parent / marker).exists():\n",
    "            return parent.resolve()\n",
    "    raise FileNotFoundError(f\"Project root marker '{marker}' not found starting from {current}\")\n",
    "  "
   ]
  },
  {
   "cell_type": "code",
   "execution_count": 26,
   "metadata": {},
   "outputs": [],
   "source": [
    "root = find_project_root()\n",
    "INPUT_DATASET = f\"{root}/dataset/V2_preprocessed.parquet_with_nans.parquet\""
   ]
  },
  {
   "cell_type": "code",
   "execution_count": 27,
   "metadata": {},
   "outputs": [
    {
     "data": {
      "text/plain": [
       "HR                      0\n",
       "O2Sat                   0\n",
       "Temp                    0\n",
       "SBP                     0\n",
       "MAP                     0\n",
       "                    ...  \n",
       "Resp_min_6h             0\n",
       "Resp_mean_6h            0\n",
       "Resp_median_6h          0\n",
       "Resp_std_6h         40336\n",
       "Resp_diff_std_6h    80672\n",
       "Length: 97, dtype: int64"
      ]
     },
     "execution_count": 27,
     "metadata": {},
     "output_type": "execute_result"
    }
   ],
   "source": [
    "# check for nans\n",
    "df = pd.read_parquet(INPUT_DATASET)\n",
    "df.isna().sum()"
   ]
  },
  {
   "cell_type": "code",
   "execution_count": 28,
   "metadata": {},
   "outputs": [
    {
     "data": {
      "text/plain": [
       "HospAdmTime              8\n",
       "HR_std_6h            40336\n",
       "HR_diff_std_6h       80672\n",
       "O2Sat_std_6h         40336\n",
       "O2Sat_diff_std_6h    80672\n",
       "SBP_std_6h           40336\n",
       "SBP_diff_std_6h      80672\n",
       "MAP_std_6h           40336\n",
       "MAP_diff_std_6h      80672\n",
       "Resp_std_6h          40336\n",
       "Resp_diff_std_6h     80672\n",
       "dtype: int64"
      ]
     },
     "execution_count": 28,
     "metadata": {},
     "output_type": "execute_result"
    }
   ],
   "source": [
    "# check the names of the columns with nans\n",
    "df.columns[df.isna().any()]\n",
    "\n",
    "# print nan values per column, filter out the columns with no nans\n",
    "df.isna().sum().loc[lambda x: x > 0]"
   ]
  },
  {
   "cell_type": "code",
   "execution_count": 29,
   "metadata": {},
   "outputs": [
    {
     "data": {
      "text/plain": [
       "HR                  0\n",
       "O2Sat               0\n",
       "Temp                0\n",
       "SBP                 0\n",
       "MAP                 0\n",
       "                   ..\n",
       "Resp_min_6h         0\n",
       "Resp_mean_6h        0\n",
       "Resp_median_6h      0\n",
       "Resp_std_6h         0\n",
       "Resp_diff_std_6h    0\n",
       "Length: 97, dtype: int64"
      ]
     },
     "execution_count": 29,
     "metadata": {},
     "output_type": "execute_result"
    }
   ],
   "source": [
    "# forward fill the nans\n",
    "df = df.ffill()\n",
    "# back fill the nans\n",
    "df = df.bfill()\n",
    "# check if the nans are forward filled\n",
    "df.isna().sum()\n",
    "\n",
    "\n",
    "\n"
   ]
  },
  {
   "cell_type": "code",
   "execution_count": null,
   "metadata": {},
   "outputs": [],
   "source": []
  }
 ],
 "metadata": {
  "kernelspec": {
   "display_name": ".venv",
   "language": "python",
   "name": "python3"
  },
  "language_info": {
   "codemirror_mode": {
    "name": "ipython",
    "version": 3
   },
   "file_extension": ".py",
   "mimetype": "text/x-python",
   "name": "python",
   "nbconvert_exporter": "python",
   "pygments_lexer": "ipython3",
   "version": "3.12.4"
  }
 },
 "nbformat": 4,
 "nbformat_minor": 2
}
