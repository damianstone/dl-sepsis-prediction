{
 "cells": [
  {
   "cell_type": "code",
   "execution_count": 7,
   "metadata": {},
   "outputs": [
    {
     "name": "stdout",
     "output_type": "stream",
     "text": [
      "Preprocessed data saved to preprocessed_data.csv\n"
     ]
    }
   ],
   "source": [
    "import os\n",
    "import pandas as pd\n",
    "import numpy as np\n",
    "import torch\n",
    "from sklearn.preprocessing import StandardScaler, MinMaxScaler, LabelEncoder\n",
    "\n",
    "#TODOSTILL\n",
    "#use imputed data csv file\n",
    "\n",
    "file_path = \"dataset/imputed_combined_data.parquet\"  # Adjust path if needed\n",
    "df = pd.read_parquet(file_path)\n",
    "\n",
    "# Display the first few rows\n",
    "df.head()\n",
    "\n",
    "max_length = df.groupby(\"patient_id\").size().max()\n",
    "\n",
    "def preprocess_data(output_file):\n",
    "\n",
    "    data = df\n",
    "    \n",
    "    # Encode features (Gender: 0 = Female, 1 = Male)\n",
    "    if 'Gender' in data.columns:\n",
    "        data['Gender'] = LabelEncoder().fit_transform(data['Gender'].astype(str))\n",
    "    \n",
    "    feature_cols = data.select_dtypes(include=[np.number]).columns.tolist()\n",
    "    scaler = MinMaxScaler()\n",
    "    data[feature_cols] = scaler.fit_transform(data[feature_cols])\n",
    "\n",
    "    #ensures that al the patients have the same length\n",
    "\n",
    "    padded_data = np.zeros((max_length, len(feature_cols)))\n",
    "    sequence_length = min(max_length, data.shape[0])\n",
    "    padded_data[:sequence_length, :] = data[feature_cols].iloc[:sequence_length].values\n",
    "\n",
    "    # Save preprocessed data\n",
    "    pd.DataFrame(padded_data, columns=feature_cols).to_csv(output_file, index=False)\n",
    "    print(f\"Preprocessed data saved to {output_file}\")\n",
    "\n",
    "# Example usage\n",
    "output_file = \"preprocessed_data.csv\"\n",
    "preprocess_data(output_file)"
   ]
  }
 ],
 "metadata": {
  "kernelspec": {
   "display_name": "venv-sepsis",
   "language": "python",
   "name": "python3"
  },
  "language_info": {
   "codemirror_mode": {
    "name": "ipython",
    "version": 3
   },
   "file_extension": ".py",
   "mimetype": "text/x-python",
   "name": "python",
   "nbconvert_exporter": "python",
   "pygments_lexer": "ipython3",
   "version": "3.11.7"
  }
 },
 "nbformat": 4,
 "nbformat_minor": 2
}
