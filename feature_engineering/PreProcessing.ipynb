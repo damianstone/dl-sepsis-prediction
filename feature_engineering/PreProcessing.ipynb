{
 "cells": [
  {
   "cell_type": "code",
   "execution_count": null,
   "metadata": {},
   "outputs": [
    {
     "data": {
      "application/vnd.jupyter.widget-view+json": {
       "model_id": "0dba41cb558b4dcfb85de74f939c3471",
       "version_major": 2,
       "version_minor": 0
      },
      "text/plain": [
       "Processing training_setA:   0%|          | 0/20336 [00:00<?, ?it/s]"
      ]
     },
     "metadata": {},
     "output_type": "display_data"
    },
    {
     "data": {
      "application/vnd.jupyter.widget-view+json": {
       "model_id": "1611e3bbf980402e8d6e4caac5900c1d",
       "version_major": 2,
       "version_minor": 0
      },
      "text/plain": [
       "Processing training_setB:   0%|          | 0/20000 [00:00<?, ?it/s]"
      ]
     },
     "metadata": {},
     "output_type": "display_data"
    },
    {
     "name": "stdout",
     "output_type": "stream",
     "text": [
      "     HR  O2Sat   Temp     SBP   MAP    DBP  Resp  EtCO2  BaseExcess  HCO3  \\\n",
      "0  80.0  100.0  36.50  121.00  58.0  41.00  13.5    NaN         1.0  25.0   \n",
      "1  76.0  100.0  36.25  113.25  61.0  41.50  12.0    NaN         1.0  25.0   \n",
      "2  80.0  100.0  36.25  132.75  71.5  46.25  12.0    NaN         NaN   NaN   \n",
      "3  78.0  100.0  36.10  103.50  58.0  43.00  12.0    NaN        -3.0   NaN   \n",
      "4  74.0  100.0  36.00  128.75  69.5  44.50  12.5    NaN        -3.0   NaN   \n",
      "\n",
      "   ...  Platelets    Age  Gender  Unit1  Unit2  HospAdmTime  ICULOS  \\\n",
      "0  ...      160.0  77.27       1    0.0    1.0       -69.14       3   \n",
      "1  ...        NaN  77.27       1    0.0    1.0       -69.14       4   \n",
      "2  ...        NaN  77.27       1    0.0    1.0       -69.14       5   \n",
      "3  ...        NaN  77.27       1    0.0    1.0       -69.14       6   \n",
      "4  ...        NaN  77.27       1    0.0    1.0       -69.14       7   \n",
      "\n",
      "   SepsisLabel  patient_id  dataset  \n",
      "0            0           1        A  \n",
      "1            0           1        A  \n",
      "2            0           1        A  \n",
      "3            0           1        A  \n",
      "4            0           1        A  \n",
      "\n",
      "[5 rows x 43 columns]\n",
      "Preprocessed data saved to preprocessed_data.csv\n"
     ]
    }
   ],
   "source": [
    "import os\n",
    "import pandas as pd\n",
    "import numpy as np\n",
    "import torch\n",
    "from sklearn.preprocessing import StandardScaler, MinMaxScaler, LabelEncoder\n",
    "\n",
    "import get_data\n",
    "\n",
    "# Load dataset\n",
    "combined_df, patientIds = get_data.get_dataset()\n",
    "\n",
    "# Save to Parquet for fast access\n",
    "DATA_PATH = get_data.get_dataset_abspath()\n",
    "save_path = os.path.join(DATA_PATH, \"raw_combined_data.parquet\")\n",
    "combined_df.to_parquet(save_path, compression=\"snappy\")\n",
    "\n",
    "# Access Data\n",
    "load_path = os.path.join(DATA_PATH, \"raw_combined_data.parquet\")\n",
    "combined_df = pd.read_parquet(load_path)\n",
    "\n",
    "print(combined_df.head())\n",
    "\n",
    "max_length = combined_df.groupby(\"patient_id\").size().max()\n",
    "\n",
    "def preprocess_data(output_file):\n",
    "\n",
    "    data = combined_df\n",
    "    \n",
    "    # Encode features (Gender: 0 = Female, 1 = Male)\n",
    "    if 'Gender' in data.columns:\n",
    "        data['Gender'] = LabelEncoder().fit_transform(data['Gender'].astype(str))\n",
    "    \n",
    "    feature_cols = data.select_dtypes(include=[np.number]).columns.tolist()\n",
    "    scaler = MinMaxScaler()\n",
    "    data[feature_cols] = scaler.fit_transform(data[feature_cols])\n",
    "\n",
    "    #ensures that al the patients have the same length\n",
    "\n",
    "    padded_data = np.zeros((max_length, len(feature_cols)))\n",
    "    sequence_length = min(max_length, data.shape[0])\n",
    "    padded_data[:sequence_length, :] = data[feature_cols].iloc[:sequence_length].values\n",
    "\n",
    "    # Save preprocessed data\n",
    "    pd.DataFrame(padded_data, columns=feature_cols).to_csv(output_file, index=False)\n",
    "    print(f\"Preprocessed data saved to {output_file}\")\n",
    "\n",
    "# Example usage\n",
    "output_file = \"preprocessed_data.csv\"\n",
    "preprocess_data(output_file)"
   ]
  },
  {
   "cell_type": "markdown",
   "metadata": {},
   "source": [
    "note: currently uses data sets directly, will need to adapt it for the imputed data csv file"
   ]
  },
  {
   "cell_type": "code",
   "execution_count": null,
   "metadata": {},
   "outputs": [],
   "source": []
  }
 ],
 "metadata": {
  "kernelspec": {
   "display_name": ".venv",
   "language": "python",
   "name": "python3"
  },
  "language_info": {
   "codemirror_mode": {
    "name": "ipython",
    "version": 3
   },
   "file_extension": ".py",
   "mimetype": "text/x-python",
   "name": "python",
   "nbconvert_exporter": "python",
   "pygments_lexer": "ipython3",
   "version": "3.12.1"
  }
 },
 "nbformat": 4,
 "nbformat_minor": 2
}
