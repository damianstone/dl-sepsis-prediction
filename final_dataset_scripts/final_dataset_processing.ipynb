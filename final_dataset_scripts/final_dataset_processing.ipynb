{
 "cells": [
  {
   "cell_type": "markdown",
   "metadata": {},
   "source": [
    "This notebook creates the final datasets from the preprocessed dataset. It splits the data into train, val and test sets and applies various sampling methods for the train set: no_sampling, upsampling and downsampling"
   ]
  },
  {
   "cell_type": "markdown",
   "metadata": {},
   "source": [
    "Config"
   ]
  },
  {
   "cell_type": "code",
   "execution_count": 1,
   "metadata": {},
   "outputs": [],
   "source": [
    "INPUT_FILE_NAME = \"preprocessed_data\"\n",
    "OUTPUT_FOLDER_NAME = \"final_datasets\"\n",
    "TEST_SIZE = 0.2\n",
    "RANDOM_STATE = 42\n",
    "VAL_SIZE = 0.125\n",
    "SAMPLING_MINORITY_RATIO = 0.3"
   ]
  },
  {
   "cell_type": "markdown",
   "metadata": {},
   "source": [
    "## Setup"
   ]
  },
  {
   "cell_type": "markdown",
   "metadata": {},
   "source": [
    "Imports"
   ]
  },
  {
   "cell_type": "code",
   "execution_count": 2,
   "metadata": {},
   "outputs": [],
   "source": [
    "import sys\n",
    "import pandas as pd\n",
    "from sklearn.model_selection import train_test_split\n",
    "import os\n",
    "from sklearn.utils import resample\n",
    "from pathlib import Path\n",
    "import numpy as np\n",
    "import random\n",
    "import json"
   ]
  },
  {
   "cell_type": "markdown",
   "metadata": {},
   "source": [
    "Load the dataset"
   ]
  },
  {
   "cell_type": "code",
   "execution_count": 3,
   "metadata": {},
   "outputs": [],
   "source": [
    "def find_project_root(marker=\".gitignore\"):\n",
    "    \"\"\"\n",
    "    walk up from the current working directory until a directory containing the\n",
    "    specified marker (e.g., .gitignore) is found.\n",
    "    \"\"\"\n",
    "    current = Path.cwd()\n",
    "    for parent in [current] + list(current.parents):\n",
    "        if (parent / marker).exists():\n",
    "            return parent.resolve()\n",
    "    raise FileNotFoundError(\n",
    "        f\"Project root marker '{marker}' not found starting from {current}\"\n",
    "    )"
   ]
  },
  {
   "cell_type": "code",
   "execution_count": 4,
   "metadata": {},
   "outputs": [
    {
     "name": "stdout",
     "output_type": "stream",
     "text": [
      "Project root: /Users/damianstone/Documents/Code/machine-learning/dl-sepsis-prediction\n"
     ]
    }
   ],
   "source": [
    "project_root = find_project_root()\n",
    "print(\"Project root:\", project_root)\n",
    "if project_root not in sys.path:\n",
    "    sys.path.append(project_root)\n",
    "\n",
    "df_path = f\"{project_root}/dataset/{INPUT_FILE_NAME}.parquet\"\n",
    "try:\n",
    "    df = pd.read_parquet(df_path)\n",
    "except Exception as e:\n",
    "    sys.exit(f\"Error loading dataset from {df_path}: {e}\")"
   ]
  },
  {
   "cell_type": "code",
   "execution_count": 5,
   "metadata": {},
   "outputs": [],
   "source": [
    "random.seed(RANDOM_STATE)\n",
    "np.random.seed(RANDOM_STATE)"
   ]
  },
  {
   "cell_type": "markdown",
   "metadata": {},
   "source": [
    "## Helper Functions"
   ]
  },
  {
   "cell_type": "code",
   "execution_count": 6,
   "metadata": {},
   "outputs": [],
   "source": [
    "def over_under_sample(df, method=\"oversample\", minority_ratio=0.3):\n",
    "    \"\"\"\n",
    "    Balances the dataset at the patient level.\n",
    "\n",
    "    Each patient's overall sepsis label is taken as the maximum value\n",
    "    (if any record shows sepsis, the patient is marked as septic).\n",
    "\n",
    "    We then either oversample the septic (minority) patients or undersample\n",
    "    the non-septic (majority) patients to change the ratio.\n",
    "\n",
    "    In the final dataset, each copy of a patient gets a unique ID so that\n",
    "    oversampled patients appear as separate instances.\n",
    "    \"\"\"\n",
    "    # Create a patient-level summary with one record per patient.\n",
    "    patient_df = df.groupby(\"patient_id\")[\"SepsisLabel\"].max().reset_index()\n",
    "\n",
    "    # Count patients in each group.\n",
    "    counts = patient_df[\"SepsisLabel\"].value_counts()\n",
    "    majority_class = counts.idxmax()\n",
    "    minority_class = counts.idxmin()\n",
    "\n",
    "    # Split the patients into majority and minority groups.\n",
    "    majority_patients = patient_df[patient_df[\"SepsisLabel\"] == majority_class]\n",
    "    minority_patients = patient_df[patient_df[\"SepsisLabel\"] == minority_class]\n",
    "\n",
    "    # Resample based on the chosen method.\n",
    "    if method == \"oversample\":\n",
    "        # Duplicate minority patients to reach desired ratio.\n",
    "        n_desired_minority = int(\n",
    "            (minority_ratio * len(majority_patients)) / (1 - minority_ratio)\n",
    "        )\n",
    "        minority_upsampled = resample(\n",
    "            minority_patients,\n",
    "            replace=True,\n",
    "            n_samples=n_desired_minority,\n",
    "            random_state=RANDOM_STATE,\n",
    "        )\n",
    "        balanced_patient_df = pd.concat([majority_patients, minority_upsampled])\n",
    "    elif method == \"undersample\":\n",
    "        # Remove some majority patients to reach desired ratio.\n",
    "        n_desired_majority = int(\n",
    "            ((1 - minority_ratio) / minority_ratio) * len(minority_patients)\n",
    "        )\n",
    "        majority_downsampled = resample(\n",
    "            majority_patients,\n",
    "            replace=False,\n",
    "            n_samples=n_desired_majority,\n",
    "            random_state=RANDOM_STATE,\n",
    "        )\n",
    "        balanced_patient_df = pd.concat([majority_downsampled, minority_patients])\n",
    "    else:\n",
    "        raise ValueError(\"Method must be 'oversample' or 'undersample'\")\n",
    "\n",
    "    # Rebuild the full dataset with patient records.\n",
    "    # If a patient appears more than once due to resampling,\n",
    "    # assign a new unique patient ID to each duplicate.\n",
    "    final_dfs = []\n",
    "    patient_occurrences = {}\n",
    "\n",
    "    for pid in balanced_patient_df[\"patient_id\"]:\n",
    "        # Get all records for this patient.\n",
    "        patient_records = df[df[\"patient_id\"] == pid].copy()\n",
    "        # Count how many times this patient has been added.\n",
    "        if pid in patient_occurrences:\n",
    "            patient_occurrences[pid] += 1\n",
    "            # Create a new unique ID by appending a suffix.\n",
    "            new_pid = pid * 1000 + patient_occurrences[pid]\n",
    "            patient_records[\"patient_id\"] = new_pid\n",
    "        else:\n",
    "            # first occurrence, keep original ID\n",
    "            patient_occurrences[pid] = 0\n",
    "        final_dfs.append(patient_records)\n",
    "\n",
    "    balanced_df = pd.concat(final_dfs, ignore_index=True)\n",
    "\n",
    "    return balanced_df"
   ]
  },
  {
   "cell_type": "markdown",
   "metadata": {},
   "source": [
    "## Datasets and Processing"
   ]
  },
  {
   "cell_type": "markdown",
   "metadata": {},
   "source": [
    "Split dataset into train, val, and test\n",
    "\n"
   ]
  },
  {
   "cell_type": "code",
   "execution_count": 7,
   "metadata": {},
   "outputs": [],
   "source": [
    "patient_labels = df.groupby(\"patient_id\")[\"SepsisLabel\"].max()\n",
    "\n",
    "train_val_patients, test_patients = train_test_split(\n",
    "    patient_labels.index,\n",
    "    test_size=TEST_SIZE,\n",
    "    random_state=RANDOM_STATE,\n",
    "    stratify=patient_labels,  # Stratify by patient-level labels\n",
    ")\n",
    "\n",
    "train_val_df = df[df[\"patient_id\"].isin(train_val_patients)]\n",
    "test_df = df[df[\"patient_id\"].isin(test_patients)]\n",
    "\n",
    "train_patients, val_patients = train_test_split(\n",
    "        train_val_patients,\n",
    "        test_size=VAL_SIZE,\n",
    "        random_state=RANDOM_STATE,\n",
    "        stratify=patient_labels[train_val_patients],\n",
    ")\n",
    "\n",
    "train_df = train_val_df[train_val_df[\"patient_id\"].isin(train_patients)]\n",
    "val_df = train_val_df[train_val_df[\"patient_id\"].isin(val_patients)]"
   ]
  },
  {
   "cell_type": "markdown",
   "metadata": {},
   "source": [
    "Save the train (no sample), test and val sets"
   ]
  },
  {
   "cell_type": "code",
   "execution_count": 8,
   "metadata": {},
   "outputs": [],
   "source": [
    "output_folder = f\"{project_root}/dataset/{OUTPUT_FOLDER_NAME}\"\n",
    "if not os.path.exists(output_folder):\n",
    "    os.makedirs(output_folder)\n",
    "val_df.to_parquet(f\"{output_folder}/val.parquet\")\n",
    "test_df.to_parquet(f\"{output_folder}/test.parquet\")\n",
    "train_df.to_parquet(f\"{output_folder}/no_sampling_train.parquet\")"
   ]
  },
  {
   "cell_type": "markdown",
   "metadata": {},
   "source": [
    "Create the sampled datasets: one for undersampling and one for oversampling"
   ]
  },
  {
   "cell_type": "code",
   "execution_count": 9,
   "metadata": {},
   "outputs": [],
   "source": [
    "upsampled_train_df = over_under_sample(\n",
    "    df=train_df.copy(), method=\"oversample\", minority_ratio=SAMPLING_MINORITY_RATIO\n",
    ")\n",
    "undersampled_train_df = over_under_sample(\n",
    "    df=train_df.copy(), method=\"undersample\", minority_ratio=SAMPLING_MINORITY_RATIO\n",
    ")\n",
    "\n",
    "#Save the sampled datasets\n",
    "upsampled_train_df.to_parquet(f\"{output_folder}/oversampled_train.parquet\")\n",
    "undersampled_train_df.to_parquet(f\"{output_folder}/undersampled_train.parquet\")\n"
   ]
  },
  {
   "cell_type": "markdown",
   "metadata": {},
   "source": [
    "## Analysis"
   ]
  },
  {
   "cell_type": "markdown",
   "metadata": {},
   "source": [
    "Checking the balance ratio for the datasets"
   ]
  },
  {
   "cell_type": "code",
   "execution_count": 10,
   "metadata": {},
   "outputs": [
    {
     "data": {
      "text/html": [
       "<div>\n",
       "<style scoped>\n",
       "    .dataframe tbody tr th:only-of-type {\n",
       "        vertical-align: middle;\n",
       "    }\n",
       "\n",
       "    .dataframe tbody tr th {\n",
       "        vertical-align: top;\n",
       "    }\n",
       "\n",
       "    .dataframe thead th {\n",
       "        text-align: right;\n",
       "    }\n",
       "</style>\n",
       "<table border=\"1\" class=\"dataframe\">\n",
       "  <thead>\n",
       "    <tr style=\"text-align: right;\">\n",
       "      <th></th>\n",
       "      <th>Dataset</th>\n",
       "      <th>Total Patients</th>\n",
       "      <th>Non-Sepsis Patients</th>\n",
       "      <th>Non-Sepsis %</th>\n",
       "      <th>Sepsis Patients</th>\n",
       "      <th>Sepsis %</th>\n",
       "      <th>Imbalance Ratio</th>\n",
       "    </tr>\n",
       "  </thead>\n",
       "  <tbody>\n",
       "    <tr>\n",
       "      <th>0</th>\n",
       "      <td>No Sampling (Train)</td>\n",
       "      <td>28234</td>\n",
       "      <td>26181</td>\n",
       "      <td>92.73%</td>\n",
       "      <td>2053</td>\n",
       "      <td>7.27%</td>\n",
       "      <td>12.75</td>\n",
       "    </tr>\n",
       "    <tr>\n",
       "      <th>1</th>\n",
       "      <td>Validation</td>\n",
       "      <td>4034</td>\n",
       "      <td>3741</td>\n",
       "      <td>92.74%</td>\n",
       "      <td>293</td>\n",
       "      <td>7.26%</td>\n",
       "      <td>12.77</td>\n",
       "    </tr>\n",
       "    <tr>\n",
       "      <th>2</th>\n",
       "      <td>Test</td>\n",
       "      <td>8068</td>\n",
       "      <td>7482</td>\n",
       "      <td>92.74%</td>\n",
       "      <td>586</td>\n",
       "      <td>7.26%</td>\n",
       "      <td>12.77</td>\n",
       "    </tr>\n",
       "    <tr>\n",
       "      <th>3</th>\n",
       "      <td>Oversampled (Train)</td>\n",
       "      <td>37401</td>\n",
       "      <td>26181</td>\n",
       "      <td>70.00%</td>\n",
       "      <td>11220</td>\n",
       "      <td>30.00%</td>\n",
       "      <td>2.33</td>\n",
       "    </tr>\n",
       "    <tr>\n",
       "      <th>4</th>\n",
       "      <td>Undersampled (Train)</td>\n",
       "      <td>6843</td>\n",
       "      <td>4790</td>\n",
       "      <td>70.00%</td>\n",
       "      <td>2053</td>\n",
       "      <td>30.00%</td>\n",
       "      <td>2.33</td>\n",
       "    </tr>\n",
       "  </tbody>\n",
       "</table>\n",
       "</div>"
      ],
      "text/plain": [
       "                Dataset  Total Patients  Non-Sepsis Patients Non-Sepsis %  \\\n",
       "0   No Sampling (Train)           28234                26181       92.73%   \n",
       "1            Validation            4034                 3741       92.74%   \n",
       "2                  Test            8068                 7482       92.74%   \n",
       "3   Oversampled (Train)           37401                26181       70.00%   \n",
       "4  Undersampled (Train)            6843                 4790       70.00%   \n",
       "\n",
       "   Sepsis Patients Sepsis % Imbalance Ratio  \n",
       "0             2053    7.27%           12.75  \n",
       "1              293    7.26%           12.77  \n",
       "2              586    7.26%           12.77  \n",
       "3            11220   30.00%            2.33  \n",
       "4             2053   30.00%            2.33  "
      ]
     },
     "metadata": {},
     "output_type": "display_data"
    }
   ],
   "source": [
    "def get_dataset_stats(df, name):\n",
    "    total_patients = df[\"patient_id\"].nunique()\n",
    "    patient_labels = df.groupby(\"patient_id\")[\"SepsisLabel\"].max()\n",
    "\n",
    "    non_sepsis = (patient_labels == 0).sum()\n",
    "    sepsis = (patient_labels == 1).sum()\n",
    "\n",
    "    non_sepsis_pct = non_sepsis / total_patients * 100\n",
    "    sepsis_pct = sepsis / total_patients * 100\n",
    "\n",
    "    imbalance_ratio = non_sepsis / sepsis if sepsis > 0 else float(\"inf\")\n",
    "\n",
    "    return {\n",
    "        \"Dataset\": name,\n",
    "        \"Total Patients\": total_patients,\n",
    "        \"Non-Sepsis Patients\": non_sepsis,\n",
    "        \"Non-Sepsis %\": f\"{non_sepsis_pct:.2f}%\",\n",
    "        \"Sepsis Patients\": sepsis,\n",
    "        \"Sepsis %\": f\"{sepsis_pct:.2f}%\",\n",
    "        \"Imbalance Ratio\": f\"{imbalance_ratio:.2f}\",\n",
    "    }\n",
    "\n",
    "datasets = [\n",
    "    (train_df, \"No Sampling (Train)\"),\n",
    "    (val_df, \"Validation\"),\n",
    "    (test_df, \"Test\"),\n",
    "    (upsampled_train_df, \"Oversampled (Train)\"),\n",
    "    (undersampled_train_df, \"Undersampled (Train)\"),\n",
    "]\n",
    "\n",
    "results = []\n",
    "for df, name in datasets:\n",
    "    results.append(get_dataset_stats(df, name))\n",
    "\n",
    "# Create and display the results table\n",
    "results_df = pd.DataFrame(results)\n",
    "display(results_df)"
   ]
  },
  {
   "cell_type": "markdown",
   "metadata": {},
   "source": [
    "Features of the datasets"
   ]
  },
  {
   "cell_type": "code",
   "execution_count": 11,
   "metadata": {},
   "outputs": [
    {
     "name": "stdout",
     "output_type": "stream",
     "text": [
      "['HR',\n",
      " 'O2Sat',\n",
      " 'Temp',\n",
      " 'SBP',\n",
      " 'MAP',\n",
      " 'DBP',\n",
      " 'Resp',\n",
      " 'EtCO2',\n",
      " 'BaseExcess',\n",
      " 'HCO3',\n",
      " 'FiO2',\n",
      " 'pH',\n",
      " 'PaCO2',\n",
      " 'SaO2',\n",
      " 'AST',\n",
      " 'BUN',\n",
      " 'Alkalinephos',\n",
      " 'Calcium',\n",
      " 'Chloride',\n",
      " 'Creatinine',\n",
      " 'Bilirubin_direct',\n",
      " 'Glucose',\n",
      " 'Lactate',\n",
      " 'Magnesium',\n",
      " 'Phosphate',\n",
      " 'Potassium',\n",
      " 'Bilirubin_total',\n",
      " 'TroponinI',\n",
      " 'Hct',\n",
      " 'Hgb',\n",
      " 'PTT',\n",
      " 'WBC',\n",
      " 'Fibrinogen',\n",
      " 'Platelets',\n",
      " 'Age',\n",
      " 'Gender',\n",
      " 'ICULOS',\n",
      " 'SepsisLabel',\n",
      " 'patient_id',\n",
      " 'SOFA',\n",
      " 'NEWS',\n",
      " 'qSOFA',\n",
      " 'MAP_MA_3h',\n",
      " 'MAP_SD_3h',\n",
      " 'MAP_Delta',\n",
      " 'MAP_MA_6h',\n",
      " 'MAP_SD_6h',\n",
      " 'MAP_MA_12h',\n",
      " 'MAP_SD_12h',\n",
      " 'Creatinine_MA_3h',\n",
      " 'Creatinine_SD_3h',\n",
      " 'Creatinine_Delta',\n",
      " 'Creatinine_MA_6h',\n",
      " 'Creatinine_SD_6h',\n",
      " 'Creatinine_MA_12h',\n",
      " 'Creatinine_SD_12h',\n",
      " 'Platelets_MA_3h',\n",
      " 'Platelets_SD_3h',\n",
      " 'Platelets_Delta',\n",
      " 'Platelets_MA_6h',\n",
      " 'Platelets_SD_6h',\n",
      " 'Platelets_MA_12h',\n",
      " 'Platelets_SD_12h']\n"
     ]
    }
   ],
   "source": [
    "from pprint import pprint\n",
    "pprint(train_df.columns.tolist())"
   ]
  },
  {
   "cell_type": "markdown",
   "metadata": {},
   "source": [
    "Ensure there is no data leakage"
   ]
  },
  {
   "cell_type": "code",
   "execution_count": 12,
   "metadata": {},
   "outputs": [],
   "source": [
    "# load the patient ids from the file\n",
    "patient_ids = json.load(open(f\"{output_folder}/patient_ids.json\"))\n",
    "\n",
    "# check that the patient ids in the datasets are the same as the patient ids in the files\n",
    "assert train_df[\"patient_id\"].isin(patient_ids[\"train\"]).all()\n",
    "assert val_df[\"patient_id\"].isin(patient_ids[\"val\"]).all()\n",
    "assert test_df[\"patient_id\"].isin(patient_ids[\"test\"]).all()\n"
   ]
  },
  {
   "cell_type": "code",
   "execution_count": 13,
   "metadata": {},
   "outputs": [],
   "source": [
    "assert not train_df[\"patient_id\"].isin(val_df[\"patient_id\"]).any()\n",
    "assert not train_df[\"patient_id\"].isin(test_df[\"patient_id\"]).any()\n",
    "assert not val_df[\"patient_id\"].isin(test_df[\"patient_id\"]).any()"
   ]
  },
  {
   "cell_type": "code",
   "execution_count": 14,
   "metadata": {},
   "outputs": [],
   "source": [
    "# import json\n",
    "# # save the patient ids from the datasets to 1 json file with different keys\n",
    "# patient_ids = {\n",
    "#     \"train\": train_df[\"patient_id\"].unique().tolist(),\n",
    "#     \"val\": val_df[\"patient_id\"].unique().tolist(),\n",
    "#     \"test\": test_df[\"patient_id\"].unique().tolist()\n",
    "# }\n",
    "# with open(f\"{output_folder}/patient_ids.json\", \"w\") as f:\n",
    "#     json.dump(patient_ids, f)"
   ]
  }
 ],
 "metadata": {
  "kernelspec": {
   "display_name": "venv-sepsis",
   "language": "python",
   "name": "python3"
  },
  "language_info": {
   "codemirror_mode": {
    "name": "ipython",
    "version": 3
   },
   "file_extension": ".py",
   "mimetype": "text/x-python",
   "name": "python",
   "nbconvert_exporter": "python",
   "pygments_lexer": "ipython3",
   "version": "3.12.0"
  }
 },
 "nbformat": 4,
 "nbformat_minor": 2
}
