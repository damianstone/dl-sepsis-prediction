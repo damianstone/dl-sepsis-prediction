{
 "cells": [
  {
   "cell_type": "code",
   "execution_count": 1,
   "metadata": {},
   "outputs": [],
   "source": [
    "import os\n",
    "import sys\n",
    "import pandas as pd\n",
    "import numpy as np\n",
    "from copy import copy\n",
    "import warnings\n",
    "import importlib\n",
    "from IPython.core.interactiveshell import InteractiveShell\n",
    "# from matplotlib import rcParams\n",
    "\n",
    "# rcParams.update({\n",
    "#     \"text.usetex\": True,                \n",
    "#     \"font.family\": \"serif\",            \n",
    "#     \"font.serif\": [\"Computer Modern\"], \n",
    "#     \"axes.labelsize\": 20,              \n",
    "#     \"xtick.labelsize\": 20,             \n",
    "#     \"ytick.labelsize\": 20,             \n",
    "#     \"legend.fontsize\": 20,            \n",
    "#     \"figure.titlesize\": 0,             \n",
    "#     \"axes.titlesize\": 0,              \n",
    "# })\n",
    "notebook_dir = os.getcwd()\n",
    "\n",
    "project_root = os.path.abspath(os.path.join(notebook_dir, \"..\"))\n",
    "if project_root not in sys.path:\n",
    "    sys.path.append(project_root)\n",
    "    \n",
    "utils_path = os.path.join(project_root, \"utils\")\n",
    "if utils_path not in sys.path:\n",
    "    sys.path.append(utils_path)\n",
    "\n",
    "    \n",
    "import get_data"
   ]
  },
  {
   "cell_type": "code",
   "execution_count": null,
   "metadata": {},
   "outputs": [
    {
     "data": {
      "application/vnd.jupyter.widget-view+json": {
       "model_id": "39f60545508a4fbdb3e2a29eee5b1c6f",
       "version_major": 2,
       "version_minor": 0
      },
      "text/plain": [
       "Processing training_setA:   0%|          | 0/20336 [00:00<?, ?it/s]"
      ]
     },
     "metadata": {},
     "output_type": "display_data"
    },
    {
     "data": {
      "application/vnd.jupyter.widget-view+json": {
       "model_id": "c10933bc8c594e6b805c6da7c4f4792a",
       "version_major": 2,
       "version_minor": 0
      },
      "text/plain": [
       "Processing training_setB:   0%|          | 0/20000 [00:00<?, ?it/s]"
      ]
     },
     "metadata": {},
     "output_type": "display_data"
    }
   ],
   "source": [
    "# combined_df, patientIds = get_data.get_dataset()\n",
    "# #SAVE DATAFRAME\n",
    "# DATA_PATH = get_data.get_dataset_abspath()\n",
    "# save_path = os.path.join(DATA_PATH, \"raw_combined_data.parquet\")\n",
    "# combined_df.to_parquet(save_path, compression=\"snappy\")"
   ]
  },
  {
   "cell_type": "code",
   "execution_count": null,
   "metadata": {},
   "outputs": [],
   "source": [
    "#ACCESS DATAFRAME\n",
    "DATA_PATH = get_data.get_dataset_abspath()\n",
    "load_path = os.path.join(DATA_PATH, \"raw_combined_data.parquet\")\n",
    "combined_df = pd.read_parquet(load_path)"
   ]
  },
  {
   "cell_type": "code",
   "execution_count": null,
   "metadata": {},
   "outputs": [
    {
     "name": "stdout",
     "output_type": "stream",
     "text": [
      "                 HR  O2Sat    Temp    SBP     MAP  DBP  Resp      EtCO2  \\\n",
      "patient_id                                                                \n",
      "1          0    NaN    NaN  36.778    NaN     NaN  NaN   NaN  32.957657   \n",
      "           1   97.0   95.0  36.778   98.0  75.330  NaN  19.0  32.957657   \n",
      "           2   89.0   99.0  36.778  122.0  86.000  NaN  22.0  32.957657   \n",
      "           3   90.0   95.0  36.778  122.0  88.665  NaN  30.0  32.957657   \n",
      "           4  103.0   88.5  36.778  122.0  91.330  NaN  24.5  32.957657   \n",
      "\n",
      "              BaseExcess  HCO3  ...  Platelets    Age  Gender     Unit1  \\\n",
      "patient_id                      ...                                       \n",
      "1          0   20.714286  46.5  ...      327.5  83.14       0  0.496571   \n",
      "           1   20.714286  46.5  ...      327.5  83.14       0  0.496571   \n",
      "           2   20.714286  46.5  ...      327.5  83.14       0  0.496571   \n",
      "           3   24.000000  46.5  ...      327.5  83.14       0  0.496571   \n",
      "           4   20.714286  46.5  ...      327.5  83.14       0  0.496571   \n",
      "\n",
      "                 Unit2  HospAdmTime  ICULOS  SepsisLabel  patient_id  dataset  \n",
      "patient_id                                                                     \n",
      "1          0  0.503429        -0.03       1            0           1        A  \n",
      "           1  0.503429        -0.03       2            0           1        A  \n",
      "           2  0.503429        -0.03       3            0           1        A  \n",
      "           3  0.503429        -0.03       4            0           1        A  \n",
      "           4  0.503429        -0.03       5            0           1        A  \n",
      "\n",
      "[5 rows x 43 columns]\n"
     ]
    }
   ],
   "source": [
    "import importlib\n",
    "import matplotlib.pyplot as plt\n",
    "import numpy as np\n",
    "import pandas as pd\n",
    "from utils.impute_data import impute_df_no_nans\n",
    "import utils.impute_data as impute_clusters\n",
    "importlib.reload(impute_clusters)\n",
    "\n",
    "# Choose dataset mode: 1 = full, 2 = first 1000 patients\n",
    "DATASET_MODE = 1\n",
    "df_to_impute = (combined_df[combined_df[\"patient_id\"] <= 500].copy() \n",
    "                if DATASET_MODE == 2 else combined_df.copy())\n",
    "\n",
    "# Perform imputation with chosen binning options\n",
    "df_imputed, replacement_stats = impute_df_no_nans(\n",
    "    df_to_impute,\n",
    "    nan_density=0.3,   # <-- You can keep or adjust these parameters\n",
    "\n",
    "    gender_bins=2,\n",
    "    age_bins=10,\n",
    "    hr_bins=5,\n",
    "    map_bins=5,\n",
    "\n",
    ")\n",
    "\n",
    "# Check for any remaining missing values\n",
    "if df_imputed.isna().sum().sum() == 0:\n",
    "    print(\"No NaNs found in the imputed data\")\n",
    "\n",
    "# --- Helper Functions ---\n",
    "\n",
    "def print_replacement_stats(stats: dict) -> None:\n",
    "    \"\"\"Prints formatted replacement statistics.\"\"\"\n",
    "    print(\"\\nReplacement statistics (percentages):\")\n",
    "    label_map = {\n",
    "        \"Linear fill\": \"Linear fill\",\n",
    "        \"Cluster fill\": \"Cluster-mean fill\",\n",
    "        \"Nearest cluster fill\": \"Nearest cluster-mean fill\",\n",
    "        \"Initial missing\": \"Initial missing\"\n",
    "    }\n",
    "    for col, col_stats in stats.items():\n",
    "        print(f\"Column: {col}\")\n",
    "        for key, value in col_stats.items():\n",
    "            key_print = label_map.get(key, key.capitalize())\n",
    "            if isinstance(value, (int, float)):\n",
    "                print(f\"  {key_print}: {value:.2f}%\")\n",
    "            else:\n",
    "                print(f\"  {key_print}: {value}\")\n",
    "\n",
    "def plot_cluster_distribution(df: pd.DataFrame) -> None:\n",
    "    cluster_counts = df[\"cluster_id\"].value_counts().sort_index()\n",
    "    cleaned_labels = [\n",
    "        \"_\".join(part for part in cid.split(\"_\") if part != \"X\")\n",
    "        for cid in cluster_counts.index\n",
    "    ]\n",
    "    plt.figure(figsize=(10, 6))\n",
    "    plt.bar(range(len(cluster_counts)), cluster_counts.values, color=\"lightblue\")\n",
    "    plt.title(\"Frequency Distribution of Patient Clusters\")\n",
    "    plt.xlabel(\"Cluster ID\")\n",
    "    plt.ylabel(\"Number of Patients\")\n",
    "    plt.tight_layout()\n",
    "    plt.show()\n",
    "\n",
    "def plot_cluster_fill(stats: dict) -> None:\n",
    "    # Filter columns that used the cluster-based method\n",
    "    cluster_cols = [col for col, stat in stats.items() if stat.get(\"Method\") == \"cluster\"]\n",
    "\n",
    "\n",
    "    idx = np.arange(len(cluster_cols))\n",
    "    cluster_fill = [stats[col][\"Cluster fill\"] for col in cluster_cols]\n",
    "    nearest_fill = [stats[col][\"Nearest cluster fill\"] for col in cluster_cols]\n",
    "\n",
    "    plt.figure(figsize=(10, 6))\n",
    "    plt.bar(idx, cluster_fill, label=\"Cluster-mean fill\", color=\"lightgreen\")\n",
    "    plt.bar(idx, nearest_fill, bottom=cluster_fill, label=\"Nearest cluster-mean fill\", color=\"lightred\")\n",
    "    plt.xticks(idx, cluster_cols, rotation=90)\n",
    "    plt.ylabel(\"Replacement Percentage\")\n",
    "    plt.title(\"Cluster-Based Mean Replacement Percentages\")\n",
    "    plt.legend()\n",
    "    plt.tight_layout()\n",
    "    plt.show()\n",
    "\n",
    "# --- Execution ---\n",
    "\n",
    "print_replacement_stats(replacement_stats)\n",
    "plot_cluster_distribution(df_imputed)\n",
    "plot_cluster_fill(replacement_stats)\n",
    "\n",
    "\n",
    "\n",
    "\n",
    "\n",
    "\n"
   ]
  },
  {
   "cell_type": "code",
   "execution_count": null,
   "metadata": {},
   "outputs": [],
   "source": []
  }
 ],
 "metadata": {
  "kernelspec": {
   "display_name": "venv-sepsis",
   "language": "python",
   "name": "python3"
  },
  "language_info": {
   "codemirror_mode": {
    "name": "ipython",
    "version": 3
   },
   "file_extension": ".py",
   "mimetype": "text/x-python",
   "name": "python",
   "nbconvert_exporter": "python",
   "pygments_lexer": "ipython3",
   "version": "3.12.9"
  }
 },
 "nbformat": 4,
 "nbformat_minor": 2
}
